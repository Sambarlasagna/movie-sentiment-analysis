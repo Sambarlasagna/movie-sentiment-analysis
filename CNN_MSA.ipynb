{
  "cells": [
    {
      "cell_type": "markdown",
      "metadata": {
<<<<<<< HEAD
        "colab_type": "text",
        "id": "view-in-github"
      },
      "source": []
=======
        "id": "view-in-github",
        "colab_type": "text"
      },
      "source": [
        "<a href=\"https://colab.research.google.com/github/Sambarlasagna/movie-sentiment-analysis/blob/main/CNN_MSA.ipynb\" target=\"_parent\"><img src=\"https://colab.research.google.com/assets/colab-badge.svg\" alt=\"Open In Colab\"/></a>"
      ]
>>>>>>> b004a0cb2f013d9277d72b38f2a3b25e6bb3c246
    },
    {
      "cell_type": "markdown",
      "metadata": {
        "id": "Rb7T4G5i75Tf"
      },
      "source": [
        "# Building a deep learning model using CNN to analyze movie reviews\n"
      ]
    },
    {
      "cell_type": "code",
<<<<<<< HEAD
      "execution_count": 13,
      "metadata": {
        "id": "LCG7ODOg2B06"
      },
      "outputs": [],
=======
      "execution_count": 1,
      "metadata": {
        "colab": {
          "base_uri": "https://localhost:8080/"
        },
        "id": "LCG7ODOg2B06",
        "outputId": "5cf8673b-cb31-4359-bbc1-181b84818aca"
      },
      "outputs": [
        {
          "output_type": "stream",
          "name": "stderr",
          "text": [
            "\n",
            "A module that was compiled using NumPy 1.x cannot be run in\n",
            "NumPy 2.0.2 as it may crash. To support both 1.x and 2.x\n",
            "versions of NumPy, modules must be compiled with NumPy 2.0.\n",
            "Some module may need to rebuild instead e.g. with 'pybind11>=2.12'.\n",
            "\n",
            "If you are a user of the module, the easiest solution will be to\n",
            "downgrade to 'numpy<2' or try to upgrade the affected module.\n",
            "We expect that some modules will need time to support NumPy 2.\n",
            "\n",
            "Traceback (most recent call last):  File \"<frozen runpy>\", line 198, in _run_module_as_main\n",
            "  File \"<frozen runpy>\", line 88, in _run_code\n",
            "  File \"/usr/local/lib/python3.12/dist-packages/colab_kernel_launcher.py\", line 37, in <module>\n",
            "    ColabKernelApp.launch_instance()\n",
            "  File \"/usr/local/lib/python3.12/dist-packages/traitlets/config/application.py\", line 992, in launch_instance\n",
            "    app.start()\n",
            "  File \"/usr/local/lib/python3.12/dist-packages/ipykernel/kernelapp.py\", line 712, in start\n",
            "    self.io_loop.start()\n",
            "  File \"/usr/local/lib/python3.12/dist-packages/tornado/platform/asyncio.py\", line 205, in start\n",
            "    self.asyncio_loop.run_forever()\n",
            "  File \"/usr/lib/python3.12/asyncio/base_events.py\", line 645, in run_forever\n",
            "    self._run_once()\n",
            "  File \"/usr/lib/python3.12/asyncio/base_events.py\", line 1999, in _run_once\n",
            "    handle._run()\n",
            "  File \"/usr/lib/python3.12/asyncio/events.py\", line 88, in _run\n",
            "    self._context.run(self._callback, *self._args)\n",
            "  File \"/usr/local/lib/python3.12/dist-packages/ipykernel/kernelbase.py\", line 510, in dispatch_queue\n",
            "    await self.process_one()\n",
            "  File \"/usr/local/lib/python3.12/dist-packages/ipykernel/kernelbase.py\", line 499, in process_one\n",
            "    await dispatch(*args)\n",
            "  File \"/usr/local/lib/python3.12/dist-packages/ipykernel/kernelbase.py\", line 406, in dispatch_shell\n",
            "    await result\n",
            "  File \"/usr/local/lib/python3.12/dist-packages/ipykernel/kernelbase.py\", line 730, in execute_request\n",
            "    reply_content = await reply_content\n",
            "  File \"/usr/local/lib/python3.12/dist-packages/ipykernel/ipkernel.py\", line 383, in do_execute\n",
            "    res = shell.run_cell(\n",
            "  File \"/usr/local/lib/python3.12/dist-packages/ipykernel/zmqshell.py\", line 528, in run_cell\n",
            "    return super().run_cell(*args, **kwargs)\n",
            "  File \"/usr/local/lib/python3.12/dist-packages/IPython/core/interactiveshell.py\", line 2975, in run_cell\n",
            "    result = self._run_cell(\n",
            "  File \"/usr/local/lib/python3.12/dist-packages/IPython/core/interactiveshell.py\", line 3030, in _run_cell\n",
            "    return runner(coro)\n",
            "  File \"/usr/local/lib/python3.12/dist-packages/IPython/core/async_helpers.py\", line 78, in _pseudo_sync_runner\n",
            "    coro.send(None)\n",
            "  File \"/usr/local/lib/python3.12/dist-packages/IPython/core/interactiveshell.py\", line 3257, in run_cell_async\n",
            "    has_raised = await self.run_ast_nodes(code_ast.body, cell_name,\n",
            "  File \"/usr/local/lib/python3.12/dist-packages/IPython/core/interactiveshell.py\", line 3473, in run_ast_nodes\n",
            "    if (await self.run_code(code, result,  async_=asy)):\n",
            "  File \"/usr/local/lib/python3.12/dist-packages/IPython/core/interactiveshell.py\", line 3553, in run_code\n",
            "    exec(code_obj, self.user_global_ns, self.user_ns)\n",
            "  File \"/tmp/ipython-input-362848442.py\", line 6, in <cell line: 0>\n",
            "    import torch\n",
            "  File \"/usr/local/lib/python3.12/dist-packages/torch/__init__.py\", line 1477, in <module>\n",
            "    from .functional import *  # noqa: F403\n",
            "  File \"/usr/local/lib/python3.12/dist-packages/torch/functional.py\", line 9, in <module>\n",
            "    import torch.nn.functional as F\n",
            "  File \"/usr/local/lib/python3.12/dist-packages/torch/nn/__init__.py\", line 1, in <module>\n",
            "    from .modules import *  # noqa: F403\n",
            "  File \"/usr/local/lib/python3.12/dist-packages/torch/nn/modules/__init__.py\", line 35, in <module>\n",
            "    from .transformer import TransformerEncoder, TransformerDecoder, \\\n",
            "  File \"/usr/local/lib/python3.12/dist-packages/torch/nn/modules/transformer.py\", line 20, in <module>\n",
            "    device: torch.device = torch.device(torch._C._get_default_device()),  # torch.device('cpu'),\n",
            "/usr/local/lib/python3.12/dist-packages/torch/nn/modules/transformer.py:20: UserWarning: Failed to initialize NumPy: _ARRAY_API not found (Triggered internally at ../torch/csrc/utils/tensor_numpy.cpp:84.)\n",
            "  device: torch.device = torch.device(torch._C._get_default_device()),  # torch.device('cpu'),\n"
          ]
        }
      ],
>>>>>>> b004a0cb2f013d9277d72b38f2a3b25e6bb3c246
      "source": [
        "import collections\n",
        "\n",
        "import datasets\n",
        "import matplotlib.pyplot as plt\n",
        "import numpy as np\n",
        "import torch\n",
        "import torch.nn as nn\n",
        "import torch.optim as optim\n",
        "import tqdm\n",
        "\n",
        "try:\n",
        "  import torchtext\n",
        "except:\n",
<<<<<<< HEAD
        "  !pip install torchtext\n",
=======
        "  !pip install torchtext==0.17.2\n",
>>>>>>> b004a0cb2f013d9277d72b38f2a3b25e6bb3c246
        "  import torchtext"
      ]
    },
    {
<<<<<<< HEAD
=======
      "cell_type": "code",
      "source": [
        "from google.colab import drive\n",
        "drive.mount('/content/drive')\n",
        "\n",
        "import os\n",
        "os.environ['TORCHTEXT_CACHE'] = '/content/drive/MyDrive/torchtext_cache'\n",
        "\n",
        "from torchtext.vocab import GloVe\n",
        "vectors = GloVe(name=\"6B\", dim=100, cache=os.environ['TORCHTEXT_CACHE'])"
      ],
      "metadata": {
        "colab": {
          "base_uri": "https://localhost:8080/"
        },
        "id": "fkssJzzKsDIx",
        "outputId": "f1340ff6-7166-4c9d-ddd5-41e6266cda3f"
      },
      "execution_count": 2,
      "outputs": [
        {
          "output_type": "stream",
          "name": "stdout",
          "text": [
            "Drive already mounted at /content/drive; to attempt to forcibly remount, call drive.mount(\"/content/drive\", force_remount=True).\n"
          ]
        }
      ]
    },
    {
>>>>>>> b004a0cb2f013d9277d72b38f2a3b25e6bb3c246
      "cell_type": "markdown",
      "metadata": {
        "id": "FSK-rPRR8HBx"
      },
      "source": [
        "### Getting the dataset from HuggingFace using the datasets library\n",
        "Split the data into `train_data` and `test_data`\n",
        "\n"
      ]
    },
    {
      "cell_type": "code",
<<<<<<< HEAD
      "execution_count": 14,
      "metadata": {
        "id": "NsVhud6Y37mo"
      },
      "outputs": [],
=======
      "execution_count": 3,
      "metadata": {
        "colab": {
          "base_uri": "https://localhost:8080/",
          "height": 365,
          "referenced_widgets": [
            "a54a0cc6b31e4993b284fd804a7a64fb",
            "b64bf90c623442a9aa164adc0c2fd111",
            "049a9f480fb34583b4ce52563c9c4f90",
            "3e764513e87f47cfb1c80cceed33e96b",
            "e9581f4c624b42428738ad21f4f3803c",
            "455365b17f074153b6809fcd3f9beb06",
            "1bae897bc4cc487db9c8cf3a96fee354",
            "5bcf8e5f843745b68f6bc10ea2eebe12",
            "a1b82faf0ef34a05b0a9f82d849c5f27",
            "95fdb01886bd4b7eb02ca1b7a11449de",
            "3c5eb51fa7314f41bb021ea567f3912a",
            "31cf2b5bc754455b930b9096f2710c3c",
            "b38a488841854e338b21371d1636c7c6",
            "921748574b0c4719beddf4ab674c7016",
            "6fbd477737384df7a70dc4393a5a2cca",
            "503e4f3c7e51445f8758f39dd8a99f87",
            "6a03bff7762941028dd20fc5d7cea3d2",
            "41b4864c3ba5496a8bbbe52ae0919fcd",
            "f2e0180265ba4449a1a0903cd7faf298",
            "a7ca40995dc7429c84de369b60b78991",
            "67442fe12af64e26ad504aa5c607d739",
            "b22a32907a124fc6947331f142202e27",
            "7dc8c76862ae493d9a1e2c31f9a890ca",
            "8d959866b80447f5b4bfd7afa17f9a8f",
            "5fb4e31586474fec97e70e0d72cac0b3",
            "c44e26e549154449b1a9391db63a84ca",
            "a439dec1a49548c384f0871a78811134",
            "c5713c806fb44673ae6346e850db6889",
            "325e7f92a2fe45f590bc7a23e332d2ba",
            "8732e7ced97448d7a897a020a4096cc7",
            "0795da82810745638ab7725fc91466bc",
            "55c3a63dd09d44e3bc530778c5baef64",
            "f38225b9f9184c46a147acd660b22732",
            "075f7d72a85f4f888c2cefb9a9350e68",
            "238bcd51a3f44420aa08263d035210b6",
            "cbcfcda1cf5646329e9f10d80c9eda71",
            "434ec3586b894999a3ca2dc184f513b2",
            "e35b87ac0fb5459fa00c263487fca5dd",
            "014a46c7192b4e9696535faf903ee78c",
            "61f0038844134f60b0b0cedcca584c75",
            "5cce3dc370874e0bb9ef17cacff2b16a",
            "9821824ebf4f42a0bde770e9a7bc0fd9",
            "2dc357c8ad8c4185b851b109581f1f7c",
            "df3e1f6cc4114e1887f210ec2e1f1121",
            "c5a6bb479d5a4712b37f02fd059ffbf8",
            "22a856a4e94a49738319355017ca8613",
            "830f7f1dd6474ca4bc29438c49955ce6",
            "41db7d962d944749ad6feabe6614b5fe",
            "41adb68fc6734d0485b107a9382315c3",
            "d4182eedc7ff42e5985298354a900d81",
            "4860434ca7754aa1a662399c1c22fb4f",
            "5dad28e41b30438796892a0594a4e326",
            "83589b29c6bd48e4aa64a9b3187ce22c",
            "a3c73de06f2948008ca6c7e9c31ed53b",
            "71675f6942944cd99c0b5dbe6a6b0acf",
            "7798725f74854c30be7f0b5d4ef6ad9c",
            "a84bb4e15c034888984d7f9eb32db603",
            "9303660a347b49b69c0a6d92a0987628",
            "92cf3918713b47d99ab4446f6ed32991",
            "3f6aa44e3ad84a189334e845df96430f",
            "b5651e989ba5433a8c08e629b8df89a6",
            "4ebf954f32124b8890e9a10b95463b12",
            "00ac68c9928449b08bff868e58aa0cb4",
            "e503e972e401484bafcd007787bd7901",
            "8294e996896b48b4bb8e1bb256b04510",
            "5481a5dd50c847aa8618355192cdf891",
            "8951045e36084a17a72995c41d5ecc0e",
            "9d0948d155f344f6999e8e91b91716b9",
            "62a861003600451d9d071317474a3c82",
            "437cae25424b4f42a3b3418e7de23f15",
            "3500cb82212d4773b60638bdbcb20d4d",
            "c5c8309e16cf4c9f905d48c9d819a085",
            "b69799ace4244220890162be739d168f",
            "514b9ba16e8044cf9de73d04e5795b8b",
            "c9f8a65688c34a6bb4990e2b3ada1ed5",
            "dc9b3905e1824cc783378b96560c4872",
            "5c60f40e5b3147269f62c26c6650b6f6"
          ]
        },
        "id": "NsVhud6Y37mo",
        "outputId": "3f62f0fe-181b-4ee2-b0c0-e06f6a68c5aa"
      },
      "outputs": [
        {
          "output_type": "stream",
          "name": "stderr",
          "text": [
            "/usr/local/lib/python3.12/dist-packages/huggingface_hub/utils/_auth.py:94: UserWarning: \n",
            "The secret `HF_TOKEN` does not exist in your Colab secrets.\n",
            "To authenticate with the Hugging Face Hub, create a token in your settings tab (https://huggingface.co/settings/tokens), set it as secret in your Google Colab and restart your session.\n",
            "You will be able to reuse this secret in all of your notebooks.\n",
            "Please note that authentication is recommended but still optional to access public models or datasets.\n",
            "  warnings.warn(\n"
          ]
        },
        {
          "output_type": "display_data",
          "data": {
            "text/plain": [
              "README.md: 0.00B [00:00, ?B/s]"
            ],
            "application/vnd.jupyter.widget-view+json": {
              "version_major": 2,
              "version_minor": 0,
              "model_id": "a54a0cc6b31e4993b284fd804a7a64fb"
            }
          },
          "metadata": {}
        },
        {
          "output_type": "display_data",
          "data": {
            "text/plain": [
              "plain_text/train-00000-of-00001.parquet:   0%|          | 0.00/21.0M [00:00<?, ?B/s]"
            ],
            "application/vnd.jupyter.widget-view+json": {
              "version_major": 2,
              "version_minor": 0,
              "model_id": "31cf2b5bc754455b930b9096f2710c3c"
            }
          },
          "metadata": {}
        },
        {
          "output_type": "display_data",
          "data": {
            "text/plain": [
              "plain_text/test-00000-of-00001.parquet:   0%|          | 0.00/20.5M [00:00<?, ?B/s]"
            ],
            "application/vnd.jupyter.widget-view+json": {
              "version_major": 2,
              "version_minor": 0,
              "model_id": "7dc8c76862ae493d9a1e2c31f9a890ca"
            }
          },
          "metadata": {}
        },
        {
          "output_type": "display_data",
          "data": {
            "text/plain": [
              "plain_text/unsupervised-00000-of-00001.p(…):   0%|          | 0.00/42.0M [00:00<?, ?B/s]"
            ],
            "application/vnd.jupyter.widget-view+json": {
              "version_major": 2,
              "version_minor": 0,
              "model_id": "075f7d72a85f4f888c2cefb9a9350e68"
            }
          },
          "metadata": {}
        },
        {
          "output_type": "display_data",
          "data": {
            "text/plain": [
              "Generating train split:   0%|          | 0/25000 [00:00<?, ? examples/s]"
            ],
            "application/vnd.jupyter.widget-view+json": {
              "version_major": 2,
              "version_minor": 0,
              "model_id": "c5a6bb479d5a4712b37f02fd059ffbf8"
            }
          },
          "metadata": {}
        },
        {
          "output_type": "display_data",
          "data": {
            "text/plain": [
              "Generating test split:   0%|          | 0/25000 [00:00<?, ? examples/s]"
            ],
            "application/vnd.jupyter.widget-view+json": {
              "version_major": 2,
              "version_minor": 0,
              "model_id": "7798725f74854c30be7f0b5d4ef6ad9c"
            }
          },
          "metadata": {}
        },
        {
          "output_type": "display_data",
          "data": {
            "text/plain": [
              "Generating unsupervised split:   0%|          | 0/50000 [00:00<?, ? examples/s]"
            ],
            "application/vnd.jupyter.widget-view+json": {
              "version_major": 2,
              "version_minor": 0,
              "model_id": "8951045e36084a17a72995c41d5ecc0e"
            }
          },
          "metadata": {}
        }
      ],
>>>>>>> b004a0cb2f013d9277d72b38f2a3b25e6bb3c246
      "source": [
        "train_data, test_data = datasets.load_dataset(\"imdb\", split=[\"train\", \"test\"])"
      ]
    },
    {
      "cell_type": "code",
<<<<<<< HEAD
      "execution_count": 16,
=======
      "execution_count": 4,
>>>>>>> b004a0cb2f013d9277d72b38f2a3b25e6bb3c246
      "metadata": {
        "colab": {
          "base_uri": "https://localhost:8080/"
        },
        "id": "Mj39HO4B6sTg",
<<<<<<< HEAD
        "outputId": "6a04bbb3-42a6-49f8-bfb1-48153f4fdd7c"
      },
      "outputs": [
        {
=======
        "outputId": "92f2f85d-d4ff-4855-dbc0-12ada8343f02"
      },
      "outputs": [
        {
          "output_type": "execute_result",
>>>>>>> b004a0cb2f013d9277d72b38f2a3b25e6bb3c246
          "data": {
            "text/plain": [
              "(Dataset({\n",
              "     features: ['text', 'label'],\n",
              "     num_rows: 25000\n",
              " }),\n",
<<<<<<< HEAD
              " 0)"
            ]
          },
          "execution_count": 16,
          "metadata": {},
          "output_type": "execute_result"
=======
              " Dataset({\n",
              "     features: ['text', 'label'],\n",
              "     num_rows: 25000\n",
              " }))"
            ]
          },
          "metadata": {},
          "execution_count": 4
>>>>>>> b004a0cb2f013d9277d72b38f2a3b25e6bb3c246
        }
      ],
      "source": [
        "train_data,test_data"
      ]
    },
    {
      "cell_type": "code",
<<<<<<< HEAD
      "execution_count": 17,
=======
      "execution_count": 5,
>>>>>>> b004a0cb2f013d9277d72b38f2a3b25e6bb3c246
      "metadata": {
        "colab": {
          "base_uri": "https://localhost:8080/"
        },
        "id": "wS1XGfiy7cay",
<<<<<<< HEAD
        "outputId": "97d3c02f-f2c8-4e31-a067-80b38101bdf4"
      },
      "outputs": [
        {
=======
        "outputId": "3bb05640-fc0c-40a7-c2d8-983319924cca"
      },
      "outputs": [
        {
          "output_type": "execute_result",
>>>>>>> b004a0cb2f013d9277d72b38f2a3b25e6bb3c246
          "data": {
            "text/plain": [
              "({'text': 'I rented I AM CURIOUS-YELLOW from my video store because of all the controversy that surrounded it when it was first released in 1967. I also heard that at first it was seized by U.S. customs if it ever tried to enter this country, therefore being a fan of films considered \"controversial\" I really had to see this for myself.<br /><br />The plot is centered around a young Swedish drama student named Lena who wants to learn everything she can about life. In particular she wants to focus her attentions to making some sort of documentary on what the average Swede thought about certain political issues such as the Vietnam War and race issues in the United States. In between asking politicians and ordinary denizens of Stockholm about their opinions on politics, she has sex with her drama teacher, classmates, and married men.<br /><br />What kills me about I AM CURIOUS-YELLOW is that 40 years ago, this was considered pornographic. Really, the sex and nudity scenes are few and far between, even then it\\'s not shot like some cheaply made porno. While my countrymen mind find it shocking, in reality sex and nudity are a major staple in Swedish cinema. Even Ingmar Bergman, arguably their answer to good old boy John Ford, had sex scenes in his films.<br /><br />I do commend the filmmakers for the fact that any sex shown in the film is shown for artistic purposes rather than just to shock people and make money to be shown in pornographic theaters in America. I AM CURIOUS-YELLOW is a good film for anyone wanting to study the meat and potatoes (no pun intended) of Swedish cinema. But really, this film doesn\\'t have much of a plot.',\n",
              "  'label': 0},\n",
              " {'text': 'I love sci-fi and am willing to put up with a lot. Sci-fi movies/TV are usually underfunded, under-appreciated and misunderstood. I tried to like this, I really did, but it is to good TV sci-fi as Babylon 5 is to Star Trek (the original). Silly prosthetics, cheap cardboard sets, stilted dialogues, CG that doesn\\'t match the background, and painfully one-dimensional characters cannot be overcome with a \\'sci-fi\\' setting. (I\\'m sure there are those of you out there who think Babylon 5 is good sci-fi TV. It\\'s not. It\\'s clichéd and uninspiring.) While US viewers might like emotion and character development, sci-fi is a genre that does not take itself seriously (cf. Star Trek). It may treat important issues, yet not as a serious philosophy. It\\'s really difficult to care about the characters here as they are not simply foolish, just missing a spark of life. Their actions and reactions are wooden and predictable, often painful to watch. The makers of Earth KNOW it\\'s rubbish as they have to always say \"Gene Roddenberry\\'s Earth...\" otherwise people would not continue watching. Roddenberry\\'s ashes must be turning in their orbit as this dull, cheap, poorly edited (watching it without advert breaks really brings this home) trudging Trabant of a show lumbers into space. Spoiler. So, kill off a main character. And then bring him back as another actor. Jeeez! Dallas all over again.',\n",
              "  'label': 0})"
            ]
          },
<<<<<<< HEAD
          "execution_count": 17,
          "metadata": {},
          "output_type": "execute_result"
=======
          "metadata": {},
          "execution_count": 5
>>>>>>> b004a0cb2f013d9277d72b38f2a3b25e6bb3c246
        }
      ],
      "source": [
        "train_data[0],test_data[0]"
      ]
    },
    {
      "cell_type": "code",
<<<<<<< HEAD
      "execution_count": 18,
=======
      "execution_count": 6,
>>>>>>> b004a0cb2f013d9277d72b38f2a3b25e6bb3c246
      "metadata": {
        "colab": {
          "base_uri": "https://localhost:8080/"
        },
        "id": "A3d3vIX67few",
<<<<<<< HEAD
        "outputId": "6564be14-503a-4ca6-ad48-878851413a9e"
      },
      "outputs": [
        {
=======
        "outputId": "593fdf7c-0eab-4f86-f777-4a5e18bfce29"
      },
      "outputs": [
        {
          "output_type": "execute_result",
>>>>>>> b004a0cb2f013d9277d72b38f2a3b25e6bb3c246
          "data": {
            "text/plain": [
              "{'text': Value('string'), 'label': ClassLabel(names=['neg', 'pos'])}"
            ]
          },
<<<<<<< HEAD
          "execution_count": 18,
          "metadata": {},
          "output_type": "execute_result"
=======
          "metadata": {},
          "execution_count": 6
>>>>>>> b004a0cb2f013d9277d72b38f2a3b25e6bb3c246
        }
      ],
      "source": [
        "train_data.features"
      ]
    },
    {
      "cell_type": "markdown",
      "metadata": {
        "id": "gsE8tnJM8b8i"
      },
      "source": [
        "## Tokenization\n",
        "\n",
        "Machine learning models cannot work on strings, hence we are gonna split the strings and assign them unique values so that the model can work on these numerical values\n"
      ]
    },
    {
      "cell_type": "code",
<<<<<<< HEAD
      "execution_count": 20,
=======
      "execution_count": 7,
>>>>>>> b004a0cb2f013d9277d72b38f2a3b25e6bb3c246
      "metadata": {
        "id": "McqBIupC8opE"
      },
      "outputs": [],
      "source": [
        "tokenizer = torchtext.data.utils.get_tokenizer(\"basic_english\")"
      ]
    },
    {
      "cell_type": "code",
<<<<<<< HEAD
      "execution_count": 24,
=======
      "execution_count": 8,
>>>>>>> b004a0cb2f013d9277d72b38f2a3b25e6bb3c246
      "metadata": {
        "colab": {
          "base_uri": "https://localhost:8080/"
        },
        "id": "rL2s4ZUD81CD",
<<<<<<< HEAD
        "outputId": "f89f07dc-35c6-472e-aa8d-c062e42a3f7d"
      },
      "outputs": [
        {
=======
        "outputId": "84b9797e-fc22-4bd1-ef0d-293bf9d1ce2d"
      },
      "outputs": [
        {
          "output_type": "execute_result",
>>>>>>> b004a0cb2f013d9277d72b38f2a3b25e6bb3c246
          "data": {
            "text/plain": [
              "['hello',\n",
              " 'guys',\n",
              " '!',\n",
              " 'we',\n",
              " 'will',\n",
              " 'be',\n",
              " 'building',\n",
              " 'a',\n",
              " 'ml',\n",
              " 'model',\n",
              " 'today']"
            ]
          },
<<<<<<< HEAD
          "execution_count": 24,
          "metadata": {},
          "output_type": "execute_result"
=======
          "metadata": {},
          "execution_count": 8
>>>>>>> b004a0cb2f013d9277d72b38f2a3b25e6bb3c246
        }
      ],
      "source": [
        "tokenizer(\"Hello guys!We will be building a ml model today\")"
      ]
    },
    {
      "cell_type": "markdown",
      "metadata": {
        "id": "kC9Ucl-d-Hmk"
      },
      "source": [
        "Adding a new column with tokens for each text in a row\n",
        "\n",
        "also limitting the tokens to a `max_length` of few hundereds since sentiment can be predicted pretty well with just firts couple hundered tokens eliminating long and unnecessary ones\n"
      ]
    },
    {
      "cell_type": "code",
<<<<<<< HEAD
      "execution_count": 27,
=======
      "execution_count": 9,
>>>>>>> b004a0cb2f013d9277d72b38f2a3b25e6bb3c246
      "metadata": {
        "id": "hcM7abKw-SSC"
      },
      "outputs": [],
      "source": [
        "#Creating a function which takes in a dataset, and returns tokens in dict form\n",
        "\n",
        "def tokenize_example(example,tokenizer,max_length):\n",
        "  tokens = tokenizer(example[\"text\"])[:max_length]\n",
        "  return {\"tokens\":tokens}"
      ]
    },
    {
      "cell_type": "markdown",
      "metadata": {
        "id": "nGELgruZ-z8H"
      },
      "source": [
        "Using the `map` method in `Dataset` class provided by the `dataset` library to update our `train_data` and `test_data`\n"
      ]
    },
    {
      "cell_type": "code",
<<<<<<< HEAD
      "execution_count": 28,
=======
      "execution_count": 10,
>>>>>>> b004a0cb2f013d9277d72b38f2a3b25e6bb3c246
      "metadata": {
        "colab": {
          "base_uri": "https://localhost:8080/",
          "height": 81,
          "referenced_widgets": [
<<<<<<< HEAD
            "bb77097f7c2d41bfbd87878227d160e4",
            "94a2cb3d97cd4834854de96e896f1c20",
            "93b660a11cfa476093d90e391ab38589",
            "05e658df38164eda9622a5602f2aa851",
            "d2c455718adb46789c9b8602492cf52d",
            "a55bc739bc684c74b1aa112a2756222f",
            "0695d6f1318748dabef9526fda6794d4",
            "2581ff50ec3945c9b657bcb51c9449ba",
            "84117ee6282144ddae3801f7d0a91b10",
            "6eb35368bf7d4738923e1eea1a5dc91f",
            "36713f3290154a959025d0c5ca29100d",
            "30de3bcf32aa42eb97019c89eb77573c",
            "1fbaadb09abf4c8fb11554151a7b0e6f",
            "c85e95a3c4904a6faf4c1643ac64baa2",
            "50acc7bfb45d40a2804972ab3b4911be",
            "c127cfffe3fa41f7ab551e578f441124",
            "a01f2b29d4044fca8fc90c4e537677be",
            "c28a91a414084824b75c58f01e8f06b1",
            "97c46a1899fb4774b5d6386784daeb33",
            "45b895920ba34417ba7d285b829974dd",
            "a4ccfadd28bb4a599547b9204a77af75",
            "aa660409eb5a459688eadf3cba149291"
          ]
        },
        "id": "9ZEIagy0_DvG",
        "outputId": "cc9b1861-2d7d-4d88-df53-306de13f5f24"
      },
      "outputs": [
        {
          "data": {
            "application/vnd.jupyter.widget-view+json": {
              "model_id": "bb77097f7c2d41bfbd87878227d160e4",
              "version_major": 2,
              "version_minor": 0
            },
            "text/plain": [
              "Map:   0%|          | 0/25000 [00:00<?, ? examples/s]"
            ]
          },
          "metadata": {},
          "output_type": "display_data"
        },
        {
          "data": {
            "application/vnd.jupyter.widget-view+json": {
              "model_id": "30de3bcf32aa42eb97019c89eb77573c",
              "version_major": 2,
              "version_minor": 0
            },
            "text/plain": [
              "Map:   0%|          | 0/25000 [00:00<?, ? examples/s]"
            ]
          },
          "metadata": {},
          "output_type": "display_data"
=======
            "d922f85fb5f64264b003c5073d8d3ee4",
            "ee8de5e029a34ed39a99e0d941265e44",
            "8b55cd1c5d1c47948acb58c934c144cf",
            "00b35a150c6f4b38bc533f6c7a597862",
            "bdb1584564da43f79b6b66d95f14ed46",
            "5807864a3ba0462780a4f7c0b4547bc1",
            "6af0acdb011a45b69adbe60045d58cd1",
            "26bc76db35ed41e790d7c544fa524e80",
            "e977aa0fded3436cb0691f098fb25024",
            "9c6072ee2b3449afbed32f0b86c15401",
            "6be4584cfc9b44d08f04340a9540d53c",
            "c3c887a4863e49b0b6d2ff149a762f83",
            "bb3dc6736750411089d1cad8f08fb22e",
            "1102494777e744a3b161eaa5253894d3",
            "4528cf37528741039e6a8c12a985c0c4",
            "2a6a12c7083241f49963224dea8b6e0c",
            "58e7bee59d4f41b68aee01dbe67cd73a",
            "b329eab447674060811b283370e37f7d",
            "075778645240403ea933c317939cc09f",
            "0ea87f3cc22e4623b55299be98a10607",
            "0386ac5c8b3549c7a803be8169611a0d",
            "288d348261114f0a86903bdb6a3dbb9d"
          ]
        },
        "id": "9ZEIagy0_DvG",
        "outputId": "1f403515-48b6-4949-d840-63ec45360c82"
      },
      "outputs": [
        {
          "output_type": "display_data",
          "data": {
            "text/plain": [
              "Map:   0%|          | 0/25000 [00:00<?, ? examples/s]"
            ],
            "application/vnd.jupyter.widget-view+json": {
              "version_major": 2,
              "version_minor": 0,
              "model_id": "d922f85fb5f64264b003c5073d8d3ee4"
            }
          },
          "metadata": {}
        },
        {
          "output_type": "display_data",
          "data": {
            "text/plain": [
              "Map:   0%|          | 0/25000 [00:00<?, ? examples/s]"
            ],
            "application/vnd.jupyter.widget-view+json": {
              "version_major": 2,
              "version_minor": 0,
              "model_id": "c3c887a4863e49b0b6d2ff149a762f83"
            }
          },
          "metadata": {}
>>>>>>> b004a0cb2f013d9277d72b38f2a3b25e6bb3c246
        }
      ],
      "source": [
        "# any arguemnts to the functions that arent example must be passed thru fn_kwargs dictioanry\n",
        "max_length = 256\n",
        "\n",
        "train_data = train_data.map(\n",
        "    tokenize_example, fn_kwargs={\"tokenizer\":tokenizer,\"max_length\" : max_length}\n",
        ")\n",
        "\n",
        "test_data = test_data.map(\n",
        "    tokenize_example, fn_kwargs={\"tokenizer\":tokenizer,\"max_length\" : max_length}\n",
        ")"
      ]
    },
    {
      "cell_type": "code",
<<<<<<< HEAD
      "execution_count": 29,
=======
      "execution_count": 11,
>>>>>>> b004a0cb2f013d9277d72b38f2a3b25e6bb3c246
      "metadata": {
        "colab": {
          "base_uri": "https://localhost:8080/"
        },
        "id": "sw5l99ic_ocD",
<<<<<<< HEAD
        "outputId": "03e3e141-f5e3-421f-d266-b48924a69c1d"
      },
      "outputs": [
        {
=======
        "outputId": "82adc2a2-a7d4-451a-de78-08072dc8c3c7"
      },
      "outputs": [
        {
          "output_type": "execute_result",
>>>>>>> b004a0cb2f013d9277d72b38f2a3b25e6bb3c246
          "data": {
            "text/plain": [
              "(Dataset({\n",
              "     features: ['text', 'label', 'tokens'],\n",
              "     num_rows: 25000\n",
              " }),\n",
              " {'text': Value('string'),\n",
              "  'label': ClassLabel(names=['neg', 'pos']),\n",
              "  'tokens': List(Value('string'))})"
            ]
          },
<<<<<<< HEAD
          "execution_count": 29,
          "metadata": {},
          "output_type": "execute_result"
=======
          "metadata": {},
          "execution_count": 11
>>>>>>> b004a0cb2f013d9277d72b38f2a3b25e6bb3c246
        }
      ],
      "source": [
        "train_data,train_data.features"
      ]
    },
    {
      "cell_type": "code",
<<<<<<< HEAD
      "execution_count": 35,
=======
      "execution_count": 12,
      "metadata": {
        "colab": {
          "base_uri": "https://localhost:8080/"
        },
        "id": "YSqRlXdRX25Z",
        "outputId": "126fa3c0-4288-42e1-cc60-4084b9b35f96"
      },
      "outputs": [
        {
          "output_type": "stream",
          "name": "stdout",
          "text": [
            "25000\n"
          ]
        }
      ],
      "source": [
        "print(len(train_data))"
      ]
    },
    {
      "cell_type": "code",
      "execution_count": 13,
>>>>>>> b004a0cb2f013d9277d72b38f2a3b25e6bb3c246
      "metadata": {
        "colab": {
          "base_uri": "https://localhost:8080/"
        },
        "id": "5p6dBl_Q_rh7",
<<<<<<< HEAD
        "outputId": "d03703fd-d6f4-4ed9-d7b0-8eaa333678ba"
      },
      "outputs": [
        {
=======
        "outputId": "8192bc2b-4fe9-4b1a-9d66-2bc13c6e1892"
      },
      "outputs": [
        {
          "output_type": "execute_result",
>>>>>>> b004a0cb2f013d9277d72b38f2a3b25e6bb3c246
          "data": {
            "text/plain": [
              "['i',\n",
              " 'rented',\n",
              " 'i',\n",
              " 'am',\n",
              " 'curious-yellow',\n",
              " 'from',\n",
              " 'my',\n",
              " 'video',\n",
              " 'store',\n",
              " 'because']"
            ]
          },
<<<<<<< HEAD
          "execution_count": 35,
          "metadata": {},
          "output_type": "execute_result"
=======
          "metadata": {},
          "execution_count": 13
>>>>>>> b004a0cb2f013d9277d72b38f2a3b25e6bb3c246
        }
      ],
      "source": [
        "train_data[0]['tokens'][:10]"
      ]
    },
    {
      "cell_type": "markdown",
      "metadata": {
<<<<<<< HEAD
        "id": "XQHTDwKfARja"
      },
      "source": []
    }
  ],
  "metadata": {
    "accelerator": "GPU",
    "colab": {
      "authorship_tag": "ABX9TyM9jKTDKHxbIAKaseGkF743",
      "gpuType": "T4",
      "include_colab_link": true,
      "provenance": []
=======
        "id": "79zFWjZGWfx3"
      },
      "source": [
        "### Creating Validation data\n",
        "Every time we tune our model hyperparameters or training set-up to make it do a bit better on the test set, we are leak information from the test set into the training process. If we do this too often then we begin to overfit on the test set. Hence, we need some data which can act as a \"proxy\" test set which we can look at more frequently in order to evaluate how well our model actually does on unseen data -- this is the validation set."
      ]
    },
    {
      "cell_type": "markdown",
      "metadata": {
        "id": "XQHTDwKfARja"
      },
      "source": []
    },
    {
      "cell_type": "code",
      "execution_count": 14,
      "metadata": {
        "id": "ZNFn9QwHXH0M"
      },
      "outputs": [],
      "source": [
        "test_size = 0.25\n",
        "train_valid_data = train_data.train_test_split(test_size = test_size)\n",
        "\n",
        "# Explicitly check if the split data is not None before reassigning\n",
        "if train_valid_data is not None:\n",
        "    train_data = train_valid_data['train']\n",
        "    valid_data = train_valid_data['test']\n",
        "else:\n",
        "    print(\"train_test_split returned None\") # Add a print statement for debugging"
      ]
    },
    {
      "cell_type": "code",
      "execution_count": 15,
      "metadata": {
        "colab": {
          "base_uri": "https://localhost:8080/"
        },
        "id": "vtSreUV6Xgj6",
        "outputId": "9a0a3b4f-cce4-4acd-993e-f94b7899818a"
      },
      "outputs": [
        {
          "output_type": "execute_result",
          "data": {
            "text/plain": [
              "(18750, 6250, 25000)"
            ]
          },
          "metadata": {},
          "execution_count": 15
        }
      ],
      "source": [
        "len(train_data),len(valid_data),len(test_data)"
      ]
    },
    {
      "cell_type": "markdown",
      "metadata": {
        "id": "8q38SarF3avg"
      },
      "source": [
        "### Creating vocabulary\n",
        "assigning indexes for to tokens since models cant operate on strings. Also creating minimum freq , tokens above this min freq will be taken and others will marked as `<unk>` and `<pad` we will be using for padding sentences"
      ]
    },
    {
      "cell_type": "code",
      "execution_count": 16,
      "metadata": {
        "id": "lFN0pGpoHdry"
      },
      "outputs": [],
      "source": [
        "min_freq = 5\n",
        "special_tokens = [\"<unk>\",\"<pad>\"]\n",
        "\n",
        "vocab = torchtext.vocab.build_vocab_from_iterator(\n",
        "    train_data[\"tokens\"],\n",
        "    min_freq - min_freq,\n",
        "    specials = special_tokens\n",
        ")"
      ]
    },
    {
      "cell_type": "code",
      "execution_count": 17,
      "metadata": {
        "colab": {
          "base_uri": "https://localhost:8080/"
        },
        "id": "ji0RpnJiIqfV",
        "outputId": "a61df9e9-3cc1-4ea2-b4cc-4b642db0bddd"
      },
      "outputs": [
        {
          "output_type": "execute_result",
          "data": {
            "text/plain": [
              "72854"
            ]
          },
          "metadata": {},
          "execution_count": 17
        }
      ],
      "source": [
        "len(vocab)"
      ]
    },
    {
      "cell_type": "code",
      "execution_count": 18,
      "metadata": {
        "colab": {
          "base_uri": "https://localhost:8080/"
        },
        "id": "DRdTRqcnJCT7",
        "outputId": "84e7f543-b8ec-434e-da86-0e88882556b7"
      },
      "outputs": [
        {
          "output_type": "execute_result",
          "data": {
            "text/plain": [
              "['<unk>', '<pad>', 'the', '.', ',', 'a', 'and', 'of', 'to', \"'\"]"
            ]
          },
          "metadata": {},
          "execution_count": 18
        }
      ],
      "source": [
        "# to view the tokens\n",
        "vocab.get_itos()[:10]"
      ]
    },
    {
      "cell_type": "code",
      "execution_count": 19,
      "metadata": {
        "colab": {
          "base_uri": "https://localhost:8080/"
        },
        "id": "8skTHvokJJfy",
        "outputId": "01b230dc-6e6d-40c1-c35b-5b4dcf05679f"
      },
      "outputs": [
        {
          "output_type": "execute_result",
          "data": {
            "text/plain": [
              "6"
            ]
          },
          "metadata": {},
          "execution_count": 19
        }
      ],
      "source": [
        "vocab['and']"
      ]
    },
    {
      "cell_type": "code",
      "execution_count": 20,
      "metadata": {
        "id": "vz92W5CIJLWj"
      },
      "outputs": [],
      "source": [
        "unk_index = vocab[\"<unk>\"]\n",
        "pad_index = vocab[\"<pad>\"]"
      ]
    },
    {
      "cell_type": "code",
      "execution_count": 21,
      "metadata": {
        "colab": {
          "base_uri": "https://localhost:8080/"
        },
        "id": "egRvpjFOJRG6",
        "outputId": "98f876d1-b1b8-4077-eb00-d8f0ea3f59ab"
      },
      "outputs": [
        {
          "output_type": "execute_result",
          "data": {
            "text/plain": [
              "False"
            ]
          },
          "metadata": {},
          "execution_count": 21
        }
      ],
      "source": [
        "\"random_token\" in vocab"
      ]
    },
    {
      "cell_type": "code",
      "execution_count": 22,
      "metadata": {
        "id": "irD9SD5EJVn7"
      },
      "outputs": [],
      "source": [
        "# vocab[\"random_token\"] this will throw in error if the token is not present\n",
        "# hence make it return <unk>\n",
        "vocab.set_default_index(unk_index)"
      ]
    },
    {
      "cell_type": "code",
      "execution_count": 23,
      "metadata": {
        "colab": {
          "base_uri": "https://localhost:8080/"
        },
        "id": "2KvUVwpKJgxJ",
        "outputId": "8ebda456-e2b3-4a8c-d03d-3361d52dac74"
      },
      "outputs": [
        {
          "output_type": "execute_result",
          "data": {
            "text/plain": [
              "0"
            ]
          },
          "metadata": {},
          "execution_count": 23
        }
      ],
      "source": [
        "vocab[\"random_token\"]"
      ]
    },
    {
      "cell_type": "code",
      "execution_count": 24,
      "metadata": {
        "colab": {
          "base_uri": "https://localhost:8080/"
        },
        "id": "EcbZUNsaJj4Z",
        "outputId": "586cbf69-2748-4628-f0a6-2a6e9a1a8de2"
      },
      "outputs": [
        {
          "output_type": "execute_result",
          "data": {
            "text/plain": [
              "[5086, 188, 0, 1]"
            ]
          },
          "metadata": {},
          "execution_count": 24
        }
      ],
      "source": [
        "vocab.lookup_indices([\"hello\",\"world\",\"some_token\",\"<pad>\"])\n"
      ]
    },
    {
      "cell_type": "markdown",
      "metadata": {
        "id": "_wUGmevoJt6R"
      },
      "source": [
        "### Numericalizing Data\n",
        "to convert our tokens to indices fromt he datsets"
      ]
    },
    {
      "cell_type": "code",
      "execution_count": 25,
      "metadata": {
        "id": "epNyOxjhJvvR"
      },
      "outputs": [],
      "source": [
        "def numericalize_example(example,vocab):\n",
        "  ids = vocab.lookup_indices(example[\"tokens\"])\n",
        "  return {\"ids\":ids}"
      ]
    },
    {
      "cell_type": "code",
      "execution_count": 26,
      "metadata": {
        "colab": {
          "base_uri": "https://localhost:8080/",
          "height": 113,
          "referenced_widgets": [
            "a9f19a7a2a174a83a09a10df33296ee9",
            "4b08c4c9c90a41819849b81ac1cde577",
            "e57d8824c1e74e22be956271c9f24294",
            "9bcce3d5841345079b055b2b6ceb9086",
            "c1ad8986c29a4761918ecdb67f0542de",
            "b3eef0bcd0fa4fb79754488d05131f8a",
            "f666cedd3ffe444bb3809a69f83f22e5",
            "172270b368864782a77e741379477276",
            "cdc0a8e58e624847b9ea2434e89ef037",
            "9fcf35145a2642169f402f4f615de977",
            "c149640780d043c681241ea5f609e3e6",
            "b443d6b665634c50806ade8b7d5f7592",
            "9e9635fa7a3d4c7e8152b49f234d9798",
            "5a5eb2ac9fab4f08a531451c20da6831",
            "b35121df053149839537cb4bd56b32dc",
            "f07ebc7e5a6e41c2962329070b03034c",
            "b7c23d3083cc445b96475478c1843f96",
            "ed17fdca417941fd9f3265c0a9d8f6c5",
            "8d6f014e99234c1695b630c508f32880",
            "02ae32af33f6410ea07006ef932ea8f6",
            "6bfae41490b84cc7b91e4bbb1ce85a2c",
            "bbc3aad5474a4f4991d827f8678ce4e2",
            "4d95c2bdec9b4da0b4c0dc89d3bb960d",
            "a98f6bfeb76c4a98bab3ea9ff90be2b0",
            "5f2a90841e144b75a1f361b99a82067a",
            "1bf668b9cabc4c1d8b24324d5070c35a",
            "973553ffc23a4d4fbcaef281b1cd6551",
            "24ab54acac1d44aa81633e5f7413ac52",
            "88e70ca67c4e44979c4dc129aa3abe24",
            "7b64fcf5eec64ac2b0ecf3a8252a2a74",
            "7d08520ec80b479488c8bdc54fb98931",
            "68d32c7df5ba49ec8f00edc086d936c7",
            "3f1588e8f0c04842bd8db3f0ebbf4302"
          ]
        },
        "id": "oJTAxjDdKDrA",
        "outputId": "525a93a0-c160-4da4-b25c-53225cfb0e40"
      },
      "outputs": [
        {
          "output_type": "display_data",
          "data": {
            "text/plain": [
              "Map:   0%|          | 0/18750 [00:00<?, ? examples/s]"
            ],
            "application/vnd.jupyter.widget-view+json": {
              "version_major": 2,
              "version_minor": 0,
              "model_id": "a9f19a7a2a174a83a09a10df33296ee9"
            }
          },
          "metadata": {}
        },
        {
          "output_type": "display_data",
          "data": {
            "text/plain": [
              "Map:   0%|          | 0/6250 [00:00<?, ? examples/s]"
            ],
            "application/vnd.jupyter.widget-view+json": {
              "version_major": 2,
              "version_minor": 0,
              "model_id": "b443d6b665634c50806ade8b7d5f7592"
            }
          },
          "metadata": {}
        },
        {
          "output_type": "display_data",
          "data": {
            "text/plain": [
              "Map:   0%|          | 0/25000 [00:00<?, ? examples/s]"
            ],
            "application/vnd.jupyter.widget-view+json": {
              "version_major": 2,
              "version_minor": 0,
              "model_id": "4d95c2bdec9b4da0b4c0dc89d3bb960d"
            }
          },
          "metadata": {}
        }
      ],
      "source": [
        "train_data = train_data.map(numericalize_example,fn_kwargs = {\"vocab\":vocab}, load_from_cache_file=False)\n",
        "valid_data = valid_data.map(numericalize_example,fn_kwargs = {\"vocab\":vocab}, load_from_cache_file=False)\n",
        "test_data = test_data.map(numericalize_example,fn_kwargs = {\"vocab\":vocab}, load_from_cache_file=False)"
      ]
    },
    {
      "cell_type": "markdown",
      "metadata": {
        "id": "mzJgwVncQ30g"
      },
      "source": [
        "| Access           | `ids` shape    | `label` shape |\n",
        "| ---------------- | -------------- | ------------- |\n",
        "| `train_data[0]`  | `(seq_len,)`   | scalar        |\n",
        "| `train_data[:1]` | `(1, seq_len)` | `(1,)`        |\n",
        "| `train_data[:n]` | `(n, seq_len)` | `(n,)`        |\n"
      ]
    },
    {
      "cell_type": "code",
      "execution_count": 27,
      "metadata": {
        "colab": {
          "base_uri": "https://localhost:8080/"
        },
        "id": "Ld5jnfmXKT7Q",
        "outputId": "0d9ae75e-8a3d-4539-bf06-8c631db7a0cf"
      },
      "outputs": [
        {
          "output_type": "execute_result",
          "data": {
            "text/plain": [
              "['this', 'is', 'a', 'great', 'game', '!', 'okay', 'perhaps', 'it', 'didn']"
            ]
          },
          "metadata": {},
          "execution_count": 27
        }
      ],
      "source": [
        "train_data[0][\"tokens\"][:10]"
      ]
    },
    {
      "cell_type": "code",
      "execution_count": 28,
      "metadata": {
        "colab": {
          "base_uri": "https://localhost:8080/"
        },
        "id": "Y9LU7G1gKkd-",
        "outputId": "183dc2b3-97d3-4734-8a5a-037854072fc5"
      },
      "outputs": [
        {
          "output_type": "execute_result",
          "data": {
            "text/plain": [
              "[14, 10, 5, 81, 486, 36, 816, 427, 11, 163]"
            ]
          },
          "metadata": {},
          "execution_count": 28
        }
      ],
      "source": [
        "vocab.lookup_indices(train_data[0][\"tokens\"][:10])"
      ]
    },
    {
      "cell_type": "code",
      "execution_count": 29,
      "metadata": {
        "colab": {
          "base_uri": "https://localhost:8080/"
        },
        "id": "8eeJipBbKp3-",
        "outputId": "e0531bb5-d66a-4077-f0a3-de457bf503d4"
      },
      "outputs": [
        {
          "output_type": "execute_result",
          "data": {
            "text/plain": [
              "[14, 10, 5, 81, 486, 36, 816, 427, 11, 163]"
            ]
          },
          "metadata": {},
          "execution_count": 29
        }
      ],
      "source": [
        "train_data[0][\"ids\"][:10]"
      ]
    },
    {
      "cell_type": "code",
      "execution_count": 30,
      "metadata": {
        "id": "AlKJ7vIeKwf9"
      },
      "outputs": [],
      "source": [
        "#Convert ids and label from integers to pytorch tensors\n",
        "train_data = train_data.with_format(type = \"torch\", columns = [\"ids\",\"label\"])\n",
        "valid_data = valid_data.with_format(type = \"torch\", columns = [\"ids\",\"label\"])\n",
        "test_data = test_data.with_format(type = \"torch\", columns = [\"ids\",\"label\"])"
      ]
    },
    {
      "cell_type": "code",
      "execution_count": 31,
      "metadata": {
        "colab": {
          "base_uri": "https://localhost:8080/"
        },
        "id": "_XdOKFp0Nz4D",
        "outputId": "64d1dc5e-2cdb-4e1f-fa35-54cfd9ecd3ef"
      },
      "outputs": [
        {
          "output_type": "stream",
          "name": "stdout",
          "text": [
            "tensor([1, 1, 1, 1])\n"
          ]
        }
      ],
      "source": [
        "sample = train_data[:4]\n",
        "print(sample['label'])"
      ]
    },
    {
      "cell_type": "code",
      "execution_count": 32,
      "metadata": {
        "colab": {
          "base_uri": "https://localhost:8080/"
        },
        "id": "xb0t0_DAK4EN",
        "outputId": "556d3985-42a8-4fb7-d74a-3104e4cb7011"
      },
      "outputs": [
        {
          "output_type": "execute_result",
          "data": {
            "text/plain": [
              "dict_keys(['label', 'ids'])"
            ]
          },
          "metadata": {},
          "execution_count": 32
        }
      ],
      "source": [
        "train_data[:1].keys()"
      ]
    },
    {
      "cell_type": "markdown",
      "metadata": {
        "id": "Jl37N48CP_Pb"
      },
      "source": [
        "Removing the \"tokens\" field is fine, as if we wanted to retrieve the human-readable tokens again we can simply convert the tensor into a Python list of integers and then use the vocabulary's lookup_tokens method."
      ]
    },
    {
      "cell_type": "code",
      "execution_count": 33,
      "metadata": {
        "colab": {
          "base_uri": "https://localhost:8080/"
        },
        "id": "79e40b64",
        "outputId": "619e8f1e-c4a4-4b4e-ee3d-f1fc527743e6"
      },
      "outputs": [
        {
          "output_type": "execute_result",
          "data": {
            "text/plain": [
              "['this', 'is', 'a', 'great', 'game', '!', 'okay', 'perhaps', 'it', 'didn']"
            ]
          },
          "metadata": {},
          "execution_count": 33
        }
      ],
      "source": [
        "\n",
        "vocab.lookup_tokens(train_data[:1][\"ids\"][0][:10].tolist())"
      ]
    },
    {
      "cell_type": "markdown",
      "metadata": {
        "id": "aGnwlytZRjvY"
      },
      "source": [
        "### Creating DataLoaders"
      ]
    },
    {
      "cell_type": "markdown",
      "metadata": {
        "id": "mhutbsyzSXsT"
      },
      "source": [
        "The `collate_fn` takes a list of individual data samples, pads the sequences of token IDs to a uniform length within the batch, stacks the labels, and returns a single dictionary representing a batch ready for use in a PyTorch DataLoader."
      ]
    },
    {
      "cell_type": "code",
      "execution_count": 34,
      "metadata": {
        "id": "mHEBFJN_RlwG"
      },
      "outputs": [],
      "source": [
        "def get_collate_fn(pad_index):\n",
        "    def collate_fn(batch):\n",
        "        batch_ids = [i[\"ids\"] for i in batch]\n",
        "        batch_ids = nn.utils.rnn.pad_sequence(\n",
        "            batch_ids, padding_value=pad_index, batch_first=True\n",
        "        )\n",
        "        batch_label = [i[\"label\"] for i in batch]\n",
        "        batch_label = torch.stack(batch_label)\n",
        "        batch = {\"ids\": batch_ids, \"label\": batch_label}\n",
        "        return batch\n",
        "\n",
        "    return collate_fn"
      ]
    },
    {
      "cell_type": "markdown",
      "metadata": {
        "id": "UevYNBmMSIUV"
      },
      "source": [
        "`batch_ids = nn.utils.rnn.pad_sequence(batch_ids, padding_value=pad_index, batch_first=True)`: This is a crucial step. Since the reviews have different lengths, the tensors in `batch_ids` also have different lengths. `nn.utils.rnn.pad_sequence` is a PyTorch function that pads these tensors to the same length (the length of the longest tensor in the batch) by adding the `pad_index` value."
      ]
    },
    {
      "cell_type": "code",
      "execution_count": 35,
      "metadata": {
        "id": "2wmK5d2BRpUO"
      },
      "outputs": [],
      "source": [
        "\n",
        "def get_data_loader(dataset, batch_size, pad_index, shuffle=False):\n",
        "    collate_fn = get_collate_fn(pad_index)\n",
        "    data_loader = torch.utils.data.DataLoader(\n",
        "        dataset=dataset,\n",
        "        batch_size=batch_size,\n",
        "        collate_fn=collate_fn,\n",
        "        shuffle=shuffle,\n",
        "    )\n",
        "    return data_loader"
      ]
    },
    {
      "cell_type": "code",
      "execution_count": 36,
      "metadata": {
        "id": "L5TQMzMeRwi2"
      },
      "outputs": [],
      "source": [
        "batch_size = 512\n",
        "\n",
        "train_data_loader = get_data_loader(train_data, batch_size, pad_index, shuffle=True)\n",
        "valid_data_loader = get_data_loader(valid_data, batch_size, pad_index)\n",
        "test_data_loader = get_data_loader(test_data, batch_size, pad_index)"
      ]
    },
    {
      "cell_type": "code",
      "execution_count": 37,
      "metadata": {
        "id": "5tKiHQIYSmm7"
      },
      "outputs": [],
      "source": [
        "class CNN(nn.Module):\n",
        "    def __init__(\n",
        "        self,\n",
        "        vocab_size,\n",
        "        embedding_dim,\n",
        "        n_filters,\n",
        "        filter_sizes,\n",
        "        output_dim,\n",
        "        dropout_rate,\n",
        "        pad_index,\n",
        "    ):\n",
        "        super().__init__()\n",
        "        self.embedding = nn.Embedding(vocab_size, embedding_dim, padding_idx=pad_index) #Creates an embedding layer\n",
        "        #An embedding layer converts the numericalized tokens (word IDs) into dense vectors of fixed size (embedding_dim).\n",
        "        self.convs = nn.ModuleList( #Creates a list of conv layers\n",
        "            [\n",
        "                nn.Conv1d(embedding_dim, n_filters, filter_size)\n",
        "                for filter_size in filter_sizes\n",
        "            ]\n",
        "        )\n",
        "        self.fc = nn.Linear(len(filter_sizes) * n_filters, output_dim)\n",
        "        #This creates a fully connected (linear) layer.\n",
        "        #It takes the concatenated output from all the convolutional filters and maps it to the final output dimension (output_dim),\n",
        "        #which would typically be the number of classes (e.g., 2 for positive/negative sentiment).\n",
        "\n",
        "        self.dropout = nn.Dropout(dropout_rate)\n",
        "        # regularization technique to prevent overfitting by randomly setting a fraction of input units to 0 at each update during training.\n",
        "    def forward(self, ids):\n",
        "        # ids = [batch size, seq len]\n",
        "        embedded = self.dropout(self.embedding(ids))\n",
        "        # embedded = [batch size, seq len, embedding dim]\n",
        "        embedded = embedded.permute(0, 2, 1)\n",
        "        # embedded = [batch size, embedding dim, seq len]\n",
        "        conved = [torch.relu(conv(embedded)) for conv in self.convs]\n",
        "        # conved_n = [batch size, n filters, seq len - filter_sizes[n] + 1]\n",
        "        pooled = [conv.max(dim=-1).values for conv in conved]\n",
        "        # pooled_n = [batch size, n filters]\n",
        "        cat = self.dropout(torch.cat(pooled, dim=-1))\n",
        "        # cat = [batch size, n filters * len(filter_sizes)]\n",
        "        prediction = self.fc(cat)\n",
        "        # prediction = [batch size, output dim]\n",
        "        return prediction"
      ]
    },
    {
      "cell_type": "markdown",
      "metadata": {
        "id": "1PGEHeTiT6o-"
      },
      "source": [
        "In summary, this CNN model for text classification works by:\n",
        "\n",
        "Converting token IDs into dense embeddings.\n",
        "\n",
        "Applying multiple convolutional filters of different sizes to capture local patterns (n-grams) in the embedded sequences.\n",
        "\n",
        "Using max pooling to extract the most important features from each filter's output.\n",
        "\n",
        "Concatenating the pooled features.\n",
        "Passing the concatenated features through a linear layer to produce the final sentiment prediction.\n",
        "\n",
        "Using dropout for regularization."
      ]
    },
    {
      "cell_type": "code",
      "execution_count": 38,
      "metadata": {
        "id": "YMvxx-Y4UAV2"
      },
      "outputs": [],
      "source": [
        "\n",
        "vocab_size = len(vocab)\n",
        "embedding_dim = 300\n",
        "n_filters = 100\n",
        "filter_sizes = [3, 5, 7]\n",
        "output_dim = len(train_data.unique(\"label\"))\n",
        "dropout_rate = 0.25\n",
        "\n",
        "model = CNN(\n",
        "    vocab_size,\n",
        "    embedding_dim,\n",
        "    n_filters,\n",
        "    filter_sizes,\n",
        "    output_dim,\n",
        "    dropout_rate,\n",
        "    pad_index,\n",
        ")"
      ]
    },
    {
      "cell_type": "code",
      "execution_count": 39,
      "metadata": {
        "colab": {
          "base_uri": "https://localhost:8080/"
        },
        "id": "mDSDHIJMUMG-",
        "outputId": "e4f4a42c-720f-4b2b-a7da-dbfd9d4d7a94"
      },
      "outputs": [
        {
          "output_type": "stream",
          "name": "stdout",
          "text": [
            "The model has 22,307,102 trainable parameters\n"
          ]
        }
      ],
      "source": [
        "def count_parameters(model):\n",
        "    return sum(p.numel() for p in model.parameters() if p.requires_grad)\n",
        "\n",
        "\n",
        "print(f\"The model has {count_parameters(model):,} trainable parameters\")"
      ]
    },
    {
      "cell_type": "code",
      "execution_count": 40,
      "metadata": {
        "id": "uYeP-LF-UO49"
      },
      "outputs": [],
      "source": [
        "\n",
        "def initialize_weights(m):\n",
        "    if isinstance(m, nn.Linear):\n",
        "        nn.init.xavier_normal_(m.weight)\n",
        "        nn.init.zeros_(m.bias)\n",
        "    elif isinstance(m, nn.Conv1d):\n",
        "        nn.init.kaiming_normal_(m.weight, nonlinearity=\"relu\")\n",
        "        nn.init.zeros_(m.bias)"
      ]
    },
    {
      "cell_type": "code",
      "execution_count": 41,
      "metadata": {
        "colab": {
          "base_uri": "https://localhost:8080/"
        },
        "id": "OWelJU3sUQ7l",
        "outputId": "f4d52a09-d3a4-4f9a-867d-fa4c3d1b4695"
      },
      "outputs": [
        {
          "output_type": "execute_result",
          "data": {
            "text/plain": [
              "CNN(\n",
              "  (embedding): Embedding(72854, 300, padding_idx=1)\n",
              "  (convs): ModuleList(\n",
              "    (0): Conv1d(300, 100, kernel_size=(3,), stride=(1,))\n",
              "    (1): Conv1d(300, 100, kernel_size=(5,), stride=(1,))\n",
              "    (2): Conv1d(300, 100, kernel_size=(7,), stride=(1,))\n",
              "  )\n",
              "  (fc): Linear(in_features=300, out_features=2, bias=True)\n",
              "  (dropout): Dropout(p=0.25, inplace=False)\n",
              ")"
            ]
          },
          "metadata": {},
          "execution_count": 41
        }
      ],
      "source": [
        "\n",
        "model.apply(initialize_weights)"
      ]
    },
    {
      "cell_type": "code",
      "execution_count": 42,
      "metadata": {
        "colab": {
          "base_uri": "https://localhost:8080/"
        },
        "id": "1ShZLC6XUSLG",
        "outputId": "0ca36e2a-645b-447e-d526-3c6579ab7c3d"
      },
      "outputs": [
        {
          "output_type": "stream",
          "name": "stderr",
          "text": [
            ".vector_cache/glove.840B.300d.zip: 2.18GB [06:52, 5.27MB/s]                            \n",
            "100%|█████████▉| 2196016/2196017 [05:41<00:00, 6426.67it/s]\n"
          ]
        }
      ],
      "source": [
        "vectors = torchtext.vocab.GloVe()"
      ]
    },
    {
      "cell_type": "code",
      "execution_count": 43,
      "metadata": {
        "id": "_OVSqEXoUTTt"
      },
      "outputs": [],
      "source": [
        "pretrained_embedding = vectors.get_vecs_by_tokens(vocab.get_itos())"
      ]
    },
    {
      "cell_type": "code",
      "execution_count": 44,
      "metadata": {
        "id": "Z1QvyShvUUzt"
      },
      "outputs": [],
      "source": [
        "\n",
        "model.embedding.weight.data = pretrained_embedding"
      ]
    },
    {
      "cell_type": "code",
      "execution_count": 45,
      "metadata": {
        "id": "DioQ7fEMUV3M"
      },
      "outputs": [],
      "source": [
        "\n",
        "optimizer = optim.Adam(model.parameters())"
      ]
    },
    {
      "cell_type": "code",
      "execution_count": 46,
      "metadata": {
        "id": "4HMnknehUW9u"
      },
      "outputs": [],
      "source": [
        "\n",
        "criterion = nn.CrossEntropyLoss()"
      ]
    },
    {
      "cell_type": "code",
      "execution_count": 47,
      "metadata": {
        "colab": {
          "base_uri": "https://localhost:8080/"
        },
        "id": "8Yhb0s99UX7U",
        "outputId": "37ad1645-3e83-475d-9b84-02375dd20c8e"
      },
      "outputs": [
        {
          "output_type": "execute_result",
          "data": {
            "text/plain": [
              "device(type='cpu')"
            ]
          },
          "metadata": {},
          "execution_count": 47
        }
      ],
      "source": [
        "\n",
        "device = torch.device(\"cuda\" if torch.cuda.is_available() else \"cpu\")\n",
        "\n",
        "device"
      ]
    },
    {
      "cell_type": "code",
      "execution_count": 48,
      "metadata": {
        "id": "958dTmyeUY51"
      },
      "outputs": [],
      "source": [
        "\n",
        "model = model.to(device)\n",
        "criterion = criterion.to(device)"
      ]
    },
    {
      "cell_type": "code",
      "execution_count": 49,
      "metadata": {
        "id": "CGsX8a_qUj1u"
      },
      "outputs": [],
      "source": [
        "\n",
        "def train(data_loader, model, criterion, optimizer, device):\n",
        "    model.train()\n",
        "    epoch_losses = []\n",
        "    epoch_accs = []\n",
        "    for batch in tqdm.tqdm(data_loader, desc=\"training...\"):\n",
        "        ids = batch[\"ids\"].to(device)\n",
        "        label = batch[\"label\"].to(device)\n",
        "        prediction = model(ids)\n",
        "        loss = criterion(prediction, label)\n",
        "        accuracy = get_accuracy(prediction, label)\n",
        "        optimizer.zero_grad()\n",
        "        loss.backward()\n",
        "        optimizer.step()\n",
        "        epoch_losses.append(loss.item())\n",
        "        epoch_accs.append(accuracy.item())\n",
        "    return np.mean(epoch_losses), np.mean(epoch_accs)"
      ]
    },
    {
      "cell_type": "code",
      "execution_count": 50,
      "metadata": {
        "id": "0dTF_4POUoBU"
      },
      "outputs": [],
      "source": [
        "def evaluate(data_loader, model, criterion, device):\n",
        "    model.eval()\n",
        "    epoch_losses = []\n",
        "    epoch_accs = []\n",
        "    with torch.no_grad():\n",
        "        for batch in tqdm.tqdm(data_loader, desc=\"evaluating...\"):\n",
        "            ids = batch[\"ids\"].to(device)\n",
        "            label = batch[\"label\"].to(device)\n",
        "            prediction = model(ids)\n",
        "            loss = criterion(prediction, label)\n",
        "            accuracy = get_accuracy(prediction, label)\n",
        "            epoch_losses.append(loss.item())\n",
        "            epoch_accs.append(accuracy.item())\n",
        "    return np.mean(epoch_losses), np.mean(epoch_accs)"
      ]
    },
    {
      "cell_type": "code",
      "execution_count": 51,
      "metadata": {
        "id": "6xU4InQPUpmN"
      },
      "outputs": [],
      "source": [
        "\n",
        "def get_accuracy(prediction, label):\n",
        "    batch_size, _ = prediction.shape\n",
        "    predicted_classes = prediction.argmax(dim=-1)\n",
        "    correct_predictions = predicted_classes.eq(label).sum()\n",
        "    accuracy = correct_predictions / batch_size\n",
        "    return accuracy"
      ]
    },
    {
      "cell_type": "code",
      "execution_count": 52,
      "metadata": {
        "id": "fmjyxdCcUtwD"
      },
      "outputs": [],
      "source": [
        "\n",
        "def get_accuracy(prediction, label):\n",
        "    batch_size, _ = prediction.shape\n",
        "    predicted_classes = prediction.argmax(dim=-1)\n",
        "    correct_predictions = predicted_classes.eq(label).sum()\n",
        "    accuracy = correct_predictions / batch_size\n",
        "    return accuracy"
      ]
    },
    {
      "cell_type": "code",
      "execution_count": 53,
      "metadata": {
        "colab": {
          "base_uri": "https://localhost:8080/"
        },
        "id": "VQYFyx7omm_x",
        "outputId": "cad03b2e-d1b5-48fe-9df9-a497da34b560"
      },
      "outputs": [
        {
          "output_type": "stream",
          "name": "stderr",
          "text": [
            "training...: 100%|██████████| 37/37 [07:03<00:00, 11.45s/it]\n",
            "evaluating...: 100%|██████████| 13/13 [00:39<00:00,  3.07s/it]\n"
          ]
        },
        {
          "output_type": "stream",
          "name": "stdout",
          "text": [
            "epoch: 0\n",
            "train_loss: 0.770, train_acc: 0.624\n",
            "valid_loss: 0.431, valid_acc: 0.808\n"
          ]
        },
        {
          "output_type": "stream",
          "name": "stderr",
          "text": [
            "training...: 100%|██████████| 37/37 [06:53<00:00, 11.17s/it]\n",
            "evaluating...: 100%|██████████| 13/13 [00:37<00:00,  2.88s/it]\n"
          ]
        },
        {
          "output_type": "stream",
          "name": "stdout",
          "text": [
            "epoch: 1\n",
            "train_loss: 0.466, train_acc: 0.783\n",
            "valid_loss: 0.341, valid_acc: 0.850\n"
          ]
        },
        {
          "output_type": "stream",
          "name": "stderr",
          "text": [
            "training...: 100%|██████████| 37/37 [06:51<00:00, 11.12s/it]\n",
            "evaluating...: 100%|██████████| 13/13 [00:39<00:00,  3.01s/it]\n"
          ]
        },
        {
          "output_type": "stream",
          "name": "stdout",
          "text": [
            "epoch: 2\n",
            "train_loss: 0.356, train_acc: 0.846\n",
            "valid_loss: 0.319, valid_acc: 0.863\n"
          ]
        },
        {
          "output_type": "stream",
          "name": "stderr",
          "text": [
            "training...: 100%|██████████| 37/37 [07:01<00:00, 11.38s/it]\n",
            "evaluating...: 100%|██████████| 13/13 [00:39<00:00,  3.03s/it]\n"
          ]
        },
        {
          "output_type": "stream",
          "name": "stdout",
          "text": [
            "epoch: 3\n",
            "train_loss: 0.295, train_acc: 0.874\n",
            "valid_loss: 0.298, valid_acc: 0.872\n"
          ]
        },
        {
          "output_type": "stream",
          "name": "stderr",
          "text": [
            "training...: 100%|██████████| 37/37 [06:58<00:00, 11.31s/it]\n",
            "evaluating...: 100%|██████████| 13/13 [00:41<00:00,  3.18s/it]\n"
          ]
        },
        {
          "output_type": "stream",
          "name": "stdout",
          "text": [
            "epoch: 4\n",
            "train_loss: 0.254, train_acc: 0.895\n",
            "valid_loss: 0.292, valid_acc: 0.877\n"
          ]
        },
        {
          "output_type": "stream",
          "name": "stderr",
          "text": [
            "training...: 100%|██████████| 37/37 [06:56<00:00, 11.25s/it]\n",
            "evaluating...: 100%|██████████| 13/13 [00:39<00:00,  3.06s/it]\n"
          ]
        },
        {
          "output_type": "stream",
          "name": "stdout",
          "text": [
            "epoch: 5\n",
            "train_loss: 0.207, train_acc: 0.918\n",
            "valid_loss: 0.285, valid_acc: 0.879\n"
          ]
        },
        {
          "output_type": "stream",
          "name": "stderr",
          "text": [
            "training...: 100%|██████████| 37/37 [06:49<00:00, 11.07s/it]\n",
            "evaluating...: 100%|██████████| 13/13 [00:39<00:00,  3.07s/it]\n"
          ]
        },
        {
          "output_type": "stream",
          "name": "stdout",
          "text": [
            "epoch: 6\n",
            "train_loss: 0.172, train_acc: 0.935\n",
            "valid_loss: 0.278, valid_acc: 0.884\n"
          ]
        },
        {
          "output_type": "stream",
          "name": "stderr",
          "text": [
            "training...: 100%|██████████| 37/37 [06:49<00:00, 11.06s/it]\n",
            "evaluating...: 100%|██████████| 13/13 [00:38<00:00,  2.98s/it]\n"
          ]
        },
        {
          "output_type": "stream",
          "name": "stdout",
          "text": [
            "epoch: 7\n",
            "train_loss: 0.138, train_acc: 0.952\n",
            "valid_loss: 0.281, valid_acc: 0.885\n"
          ]
        },
        {
          "output_type": "stream",
          "name": "stderr",
          "text": [
            "training...: 100%|██████████| 37/37 [06:49<00:00, 11.06s/it]\n",
            "evaluating...: 100%|██████████| 13/13 [00:39<00:00,  3.00s/it]\n"
          ]
        },
        {
          "output_type": "stream",
          "name": "stdout",
          "text": [
            "epoch: 8\n",
            "train_loss: 0.109, train_acc: 0.964\n",
            "valid_loss: 0.282, valid_acc: 0.886\n"
          ]
        },
        {
          "output_type": "stream",
          "name": "stderr",
          "text": [
            "training...: 100%|██████████| 37/37 [06:46<00:00, 10.99s/it]\n",
            "evaluating...: 100%|██████████| 13/13 [00:38<00:00,  2.97s/it]"
          ]
        },
        {
          "output_type": "stream",
          "name": "stdout",
          "text": [
            "epoch: 9\n",
            "train_loss: 0.087, train_acc: 0.972\n",
            "valid_loss: 0.288, valid_acc: 0.884\n"
          ]
        },
        {
          "output_type": "stream",
          "name": "stderr",
          "text": [
            "\n"
          ]
        }
      ],
      "source": [
        "n_epochs = 10\n",
        "best_valid_loss = float(\"inf\")\n",
        "\n",
        "metrics = collections.defaultdict(list)\n",
        "\n",
        "for epoch in range(n_epochs):\n",
        "    train_loss, train_acc = train(\n",
        "        train_data_loader, model, criterion, optimizer, device\n",
        "    )\n",
        "    valid_loss, valid_acc = evaluate(valid_data_loader, model, criterion, device)\n",
        "    metrics[\"train_losses\"].append(train_loss)\n",
        "    metrics[\"train_accs\"].append(train_acc)\n",
        "    metrics[\"valid_losses\"].append(valid_loss)\n",
        "    metrics[\"valid_accs\"].append(valid_acc)\n",
        "    if valid_loss < best_valid_loss:\n",
        "        best_valid_loss = valid_loss\n",
        "        torch.save(model.state_dict(), \"cnn.pt\")\n",
        "    print(f\"epoch: {epoch}\")\n",
        "    print(f\"train_loss: {train_loss:.3f}, train_acc: {train_acc:.3f}\")\n",
        "    print(f\"valid_loss: {valid_loss:.3f}, valid_acc: {valid_acc:.3f}\")"
      ]
    },
    {
      "cell_type": "code",
      "execution_count": 54,
      "metadata": {
        "id": "CV50CTcfVByT",
        "colab": {
          "base_uri": "https://localhost:8080/",
          "height": 545
        },
        "outputId": "8483be75-1bf8-4803-cd8b-73eb1d03feac"
      },
      "outputs": [
        {
          "output_type": "display_data",
          "data": {
            "text/plain": [
              "<Figure size 1000x600 with 1 Axes>"
            ],
            "image/png": "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\n"
          },
          "metadata": {}
        }
      ],
      "source": [
        "\n",
        "fig = plt.figure(figsize=(10, 6))\n",
        "ax = fig.add_subplot(1, 1, 1)\n",
        "ax.plot(metrics[\"train_losses\"], label=\"train loss\")\n",
        "ax.plot(metrics[\"valid_losses\"], label=\"valid loss\")\n",
        "ax.set_xlabel(\"epoch\")\n",
        "ax.set_ylabel(\"loss\")\n",
        "ax.set_xticks(range(n_epochs))\n",
        "ax.legend()\n",
        "ax.grid()"
      ]
    },
    {
      "cell_type": "code",
      "execution_count": 55,
      "metadata": {
        "id": "_TBq9UQSVW-C",
        "colab": {
          "base_uri": "https://localhost:8080/",
          "height": 542
        },
        "outputId": "f9b9fb3d-ac30-44dd-9c20-2025e00fa7d4"
      },
      "outputs": [
        {
          "output_type": "display_data",
          "data": {
            "text/plain": [
              "<Figure size 1000x600 with 1 Axes>"
            ],
            "image/png": "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\n"
          },
          "metadata": {}
        }
      ],
      "source": [
        "fig = plt.figure(figsize=(10, 6))\n",
        "ax = fig.add_subplot(1, 1, 1)\n",
        "ax.plot(metrics[\"train_accs\"], label=\"train accuracy\")\n",
        "ax.plot(metrics[\"valid_accs\"], label=\"valid accuracy\")\n",
        "ax.set_xlabel(\"epoch\")\n",
        "ax.set_ylabel(\"loss\")\n",
        "ax.set_xticks(range(n_epochs))\n",
        "ax.legend()\n",
        "ax.grid()"
      ]
    },
    {
      "cell_type": "code",
      "execution_count": 56,
      "metadata": {
        "id": "mb36SxV1VaPp",
        "colab": {
          "base_uri": "https://localhost:8080/"
        },
        "outputId": "ca42cb32-c169-424e-c975-22af2ac9652c"
      },
      "outputs": [
        {
          "output_type": "stream",
          "name": "stderr",
          "text": [
            "evaluating...: 100%|██████████| 49/49 [02:36<00:00,  3.19s/it]\n"
          ]
        }
      ],
      "source": [
        "model.load_state_dict(torch.load(\"cnn.pt\"))\n",
        "\n",
        "test_loss, test_acc = evaluate(test_data_loader, model, criterion, device)"
      ]
    },
    {
      "cell_type": "code",
      "execution_count": 57,
      "metadata": {
        "id": "k3g_c0BHVb2q",
        "colab": {
          "base_uri": "https://localhost:8080/"
        },
        "outputId": "d8a0e7df-95b8-4a30-f54a-439bcd1a7ab9"
      },
      "outputs": [
        {
          "output_type": "stream",
          "name": "stdout",
          "text": [
            "test_loss: 0.298, test_acc: 0.873\n"
          ]
        }
      ],
      "source": [
        "print(f\"test_loss: {test_loss:.3f}, test_acc: {test_acc:.3f}\")"
      ]
    },
    {
      "cell_type": "code",
      "execution_count": 58,
      "metadata": {
        "id": "YBGpTTnvVd6B"
      },
      "outputs": [],
      "source": [
        "\n",
        "def predict_sentiment(text, model, tokenizer, vocab, device, min_length, pad_index):\n",
        "    tokens = tokenizer(text)\n",
        "    ids = vocab.lookup_indices(tokens)\n",
        "    if len(ids) < min_length:\n",
        "        ids += [pad_index] * (min_length - len(ids))\n",
        "    tensor = torch.LongTensor(ids).unsqueeze(dim=0).to(device)\n",
        "    prediction = model(tensor).squeeze(dim=0)\n",
        "    probability = torch.softmax(prediction, dim=-1)\n",
        "    predicted_class = prediction.argmax(dim=-1).item()\n",
        "    predicted_probability = probability[predicted_class].item()\n",
        "    return predicted_class, predicted_probability"
      ]
    },
    {
      "cell_type": "code",
      "execution_count": 59,
      "metadata": {
        "id": "ap6-KMnWVgRR",
        "colab": {
          "base_uri": "https://localhost:8080/"
        },
        "outputId": "e358b043-549c-4c04-c7a4-d68079db9cc7"
      },
      "outputs": [
        {
          "output_type": "execute_result",
          "data": {
            "text/plain": [
              "(0, 0.9604934453964233)"
            ]
          },
          "metadata": {},
          "execution_count": 59
        }
      ],
      "source": [
        "text = \"This film is terrible!\"\n",
        "min_length = max(filter_sizes)\n",
        "\n",
        "predict_sentiment(text, model, tokenizer, vocab, device, min_length, pad_index)"
      ]
    }
  ],
  "metadata": {
    "colab": {
      "provenance": [],
      "authorship_tag": "ABX9TyNkW/ykhHiikvqBBlFobfwN",
      "include_colab_link": true
>>>>>>> b004a0cb2f013d9277d72b38f2a3b25e6bb3c246
    },
    "kernelspec": {
      "display_name": "Python 3",
      "name": "python3"
    },
    "language_info": {
      "name": "python"
    },
    "widgets": {
      "application/vnd.jupyter.widget-state+json": {
<<<<<<< HEAD
        "05e658df38164eda9622a5602f2aa851": {
          "model_module": "@jupyter-widgets/controls",
          "model_module_version": "1.5.0",
          "model_name": "HTMLModel",
          "state": {
            "_dom_classes": [],
            "_model_module": "@jupyter-widgets/controls",
            "_model_module_version": "1.5.0",
            "_model_name": "HTMLModel",
            "_view_count": null,
            "_view_module": "@jupyter-widgets/controls",
            "_view_module_version": "1.5.0",
            "_view_name": "HTMLView",
            "description": "",
            "description_tooltip": null,
            "layout": "IPY_MODEL_6eb35368bf7d4738923e1eea1a5dc91f",
            "placeholder": "​",
            "style": "IPY_MODEL_36713f3290154a959025d0c5ca29100d",
            "value": " 25000/25000 [00:07&lt;00:00, 3639.65 examples/s]"
          }
        },
        "0695d6f1318748dabef9526fda6794d4": {
          "model_module": "@jupyter-widgets/controls",
          "model_module_version": "1.5.0",
          "model_name": "DescriptionStyleModel",
          "state": {
            "_model_module": "@jupyter-widgets/controls",
            "_model_module_version": "1.5.0",
            "_model_name": "DescriptionStyleModel",
            "_view_count": null,
            "_view_module": "@jupyter-widgets/base",
            "_view_module_version": "1.2.0",
            "_view_name": "StyleView",
            "description_width": ""
          }
        },
        "1fbaadb09abf4c8fb11554151a7b0e6f": {
          "model_module": "@jupyter-widgets/controls",
          "model_module_version": "1.5.0",
          "model_name": "HTMLModel",
          "state": {
            "_dom_classes": [],
            "_model_module": "@jupyter-widgets/controls",
            "_model_module_version": "1.5.0",
            "_model_name": "HTMLModel",
            "_view_count": null,
            "_view_module": "@jupyter-widgets/controls",
            "_view_module_version": "1.5.0",
            "_view_name": "HTMLView",
            "description": "",
            "description_tooltip": null,
            "layout": "IPY_MODEL_a01f2b29d4044fca8fc90c4e537677be",
            "placeholder": "​",
            "style": "IPY_MODEL_c28a91a414084824b75c58f01e8f06b1",
            "value": "Map: 100%"
          }
        },
        "2581ff50ec3945c9b657bcb51c9449ba": {
          "model_module": "@jupyter-widgets/base",
          "model_module_version": "1.2.0",
          "model_name": "LayoutModel",
          "state": {
            "_model_module": "@jupyter-widgets/base",
            "_model_module_version": "1.2.0",
            "_model_name": "LayoutModel",
            "_view_count": null,
            "_view_module": "@jupyter-widgets/base",
            "_view_module_version": "1.2.0",
            "_view_name": "LayoutView",
            "align_content": null,
            "align_items": null,
            "align_self": null,
            "border": null,
            "bottom": null,
            "display": null,
            "flex": null,
            "flex_flow": null,
            "grid_area": null,
            "grid_auto_columns": null,
            "grid_auto_flow": null,
            "grid_auto_rows": null,
            "grid_column": null,
            "grid_gap": null,
            "grid_row": null,
            "grid_template_areas": null,
            "grid_template_columns": null,
            "grid_template_rows": null,
            "height": null,
            "justify_content": null,
            "justify_items": null,
            "left": null,
            "margin": null,
            "max_height": null,
            "max_width": null,
            "min_height": null,
            "min_width": null,
            "object_fit": null,
            "object_position": null,
            "order": null,
            "overflow": null,
            "overflow_x": null,
            "overflow_y": null,
            "padding": null,
            "right": null,
            "top": null,
            "visibility": null,
            "width": null
          }
        },
        "30de3bcf32aa42eb97019c89eb77573c": {
          "model_module": "@jupyter-widgets/controls",
          "model_module_version": "1.5.0",
          "model_name": "HBoxModel",
=======
        "a54a0cc6b31e4993b284fd804a7a64fb": {
          "model_module": "@jupyter-widgets/controls",
          "model_name": "HBoxModel",
          "model_module_version": "1.5.0",
>>>>>>> b004a0cb2f013d9277d72b38f2a3b25e6bb3c246
          "state": {
            "_dom_classes": [],
            "_model_module": "@jupyter-widgets/controls",
            "_model_module_version": "1.5.0",
            "_model_name": "HBoxModel",
            "_view_count": null,
            "_view_module": "@jupyter-widgets/controls",
            "_view_module_version": "1.5.0",
            "_view_name": "HBoxView",
            "box_style": "",
            "children": [
<<<<<<< HEAD
              "IPY_MODEL_1fbaadb09abf4c8fb11554151a7b0e6f",
              "IPY_MODEL_c85e95a3c4904a6faf4c1643ac64baa2",
              "IPY_MODEL_50acc7bfb45d40a2804972ab3b4911be"
            ],
            "layout": "IPY_MODEL_c127cfffe3fa41f7ab551e578f441124"
          }
        },
        "36713f3290154a959025d0c5ca29100d": {
          "model_module": "@jupyter-widgets/controls",
          "model_module_version": "1.5.0",
          "model_name": "DescriptionStyleModel",
          "state": {
            "_model_module": "@jupyter-widgets/controls",
            "_model_module_version": "1.5.0",
            "_model_name": "DescriptionStyleModel",
            "_view_count": null,
            "_view_module": "@jupyter-widgets/base",
            "_view_module_version": "1.2.0",
            "_view_name": "StyleView",
            "description_width": ""
          }
        },
        "45b895920ba34417ba7d285b829974dd": {
          "model_module": "@jupyter-widgets/controls",
          "model_module_version": "1.5.0",
          "model_name": "ProgressStyleModel",
          "state": {
            "_model_module": "@jupyter-widgets/controls",
            "_model_module_version": "1.5.0",
            "_model_name": "ProgressStyleModel",
            "_view_count": null,
            "_view_module": "@jupyter-widgets/base",
            "_view_module_version": "1.2.0",
            "_view_name": "StyleView",
            "bar_color": null,
            "description_width": ""
          }
        },
        "50acc7bfb45d40a2804972ab3b4911be": {
          "model_module": "@jupyter-widgets/controls",
          "model_module_version": "1.5.0",
          "model_name": "HTMLModel",
=======
              "IPY_MODEL_b64bf90c623442a9aa164adc0c2fd111",
              "IPY_MODEL_049a9f480fb34583b4ce52563c9c4f90",
              "IPY_MODEL_3e764513e87f47cfb1c80cceed33e96b"
            ],
            "layout": "IPY_MODEL_e9581f4c624b42428738ad21f4f3803c"
          }
        },
        "b64bf90c623442a9aa164adc0c2fd111": {
          "model_module": "@jupyter-widgets/controls",
          "model_name": "HTMLModel",
          "model_module_version": "1.5.0",
>>>>>>> b004a0cb2f013d9277d72b38f2a3b25e6bb3c246
          "state": {
            "_dom_classes": [],
            "_model_module": "@jupyter-widgets/controls",
            "_model_module_version": "1.5.0",
            "_model_name": "HTMLModel",
            "_view_count": null,
            "_view_module": "@jupyter-widgets/controls",
            "_view_module_version": "1.5.0",
            "_view_name": "HTMLView",
            "description": "",
            "description_tooltip": null,
<<<<<<< HEAD
            "layout": "IPY_MODEL_a4ccfadd28bb4a599547b9204a77af75",
            "placeholder": "​",
            "style": "IPY_MODEL_aa660409eb5a459688eadf3cba149291",
            "value": " 25000/25000 [00:08&lt;00:00, 3665.04 examples/s]"
          }
        },
        "6eb35368bf7d4738923e1eea1a5dc91f": {
          "model_module": "@jupyter-widgets/base",
          "model_module_version": "1.2.0",
          "model_name": "LayoutModel",
          "state": {
            "_model_module": "@jupyter-widgets/base",
            "_model_module_version": "1.2.0",
            "_model_name": "LayoutModel",
            "_view_count": null,
            "_view_module": "@jupyter-widgets/base",
            "_view_module_version": "1.2.0",
            "_view_name": "LayoutView",
            "align_content": null,
            "align_items": null,
            "align_self": null,
            "border": null,
            "bottom": null,
            "display": null,
            "flex": null,
            "flex_flow": null,
            "grid_area": null,
            "grid_auto_columns": null,
            "grid_auto_flow": null,
            "grid_auto_rows": null,
            "grid_column": null,
            "grid_gap": null,
            "grid_row": null,
            "grid_template_areas": null,
            "grid_template_columns": null,
            "grid_template_rows": null,
            "height": null,
            "justify_content": null,
            "justify_items": null,
            "left": null,
            "margin": null,
            "max_height": null,
            "max_width": null,
            "min_height": null,
            "min_width": null,
            "object_fit": null,
            "object_position": null,
            "order": null,
            "overflow": null,
            "overflow_x": null,
            "overflow_y": null,
            "padding": null,
            "right": null,
            "top": null,
            "visibility": null,
            "width": null
          }
        },
        "84117ee6282144ddae3801f7d0a91b10": {
          "model_module": "@jupyter-widgets/controls",
          "model_module_version": "1.5.0",
          "model_name": "ProgressStyleModel",
          "state": {
            "_model_module": "@jupyter-widgets/controls",
            "_model_module_version": "1.5.0",
            "_model_name": "ProgressStyleModel",
            "_view_count": null,
            "_view_module": "@jupyter-widgets/base",
            "_view_module_version": "1.2.0",
            "_view_name": "StyleView",
            "bar_color": null,
            "description_width": ""
          }
        },
        "93b660a11cfa476093d90e391ab38589": {
          "model_module": "@jupyter-widgets/controls",
          "model_module_version": "1.5.0",
          "model_name": "FloatProgressModel",
=======
            "layout": "IPY_MODEL_455365b17f074153b6809fcd3f9beb06",
            "placeholder": "​",
            "style": "IPY_MODEL_1bae897bc4cc487db9c8cf3a96fee354",
            "value": "README.md: "
          }
        },
        "049a9f480fb34583b4ce52563c9c4f90": {
          "model_module": "@jupyter-widgets/controls",
          "model_name": "FloatProgressModel",
          "model_module_version": "1.5.0",
>>>>>>> b004a0cb2f013d9277d72b38f2a3b25e6bb3c246
          "state": {
            "_dom_classes": [],
            "_model_module": "@jupyter-widgets/controls",
            "_model_module_version": "1.5.0",
            "_model_name": "FloatProgressModel",
            "_view_count": null,
            "_view_module": "@jupyter-widgets/controls",
            "_view_module_version": "1.5.0",
            "_view_name": "ProgressView",
            "bar_style": "success",
            "description": "",
            "description_tooltip": null,
<<<<<<< HEAD
            "layout": "IPY_MODEL_2581ff50ec3945c9b657bcb51c9449ba",
            "max": 25000,
            "min": 0,
            "orientation": "horizontal",
            "style": "IPY_MODEL_84117ee6282144ddae3801f7d0a91b10",
            "value": 25000
          }
        },
        "94a2cb3d97cd4834854de96e896f1c20": {
          "model_module": "@jupyter-widgets/controls",
          "model_module_version": "1.5.0",
          "model_name": "HTMLModel",
=======
            "layout": "IPY_MODEL_5bcf8e5f843745b68f6bc10ea2eebe12",
            "max": 1,
            "min": 0,
            "orientation": "horizontal",
            "style": "IPY_MODEL_a1b82faf0ef34a05b0a9f82d849c5f27",
            "value": 1
          }
        },
        "3e764513e87f47cfb1c80cceed33e96b": {
          "model_module": "@jupyter-widgets/controls",
          "model_name": "HTMLModel",
          "model_module_version": "1.5.0",
>>>>>>> b004a0cb2f013d9277d72b38f2a3b25e6bb3c246
          "state": {
            "_dom_classes": [],
            "_model_module": "@jupyter-widgets/controls",
            "_model_module_version": "1.5.0",
            "_model_name": "HTMLModel",
            "_view_count": null,
            "_view_module": "@jupyter-widgets/controls",
            "_view_module_version": "1.5.0",
            "_view_name": "HTMLView",
            "description": "",
            "description_tooltip": null,
<<<<<<< HEAD
            "layout": "IPY_MODEL_a55bc739bc684c74b1aa112a2756222f",
            "placeholder": "​",
            "style": "IPY_MODEL_0695d6f1318748dabef9526fda6794d4",
            "value": "Map: 100%"
          }
        },
        "97c46a1899fb4774b5d6386784daeb33": {
          "model_module": "@jupyter-widgets/base",
          "model_module_version": "1.2.0",
          "model_name": "LayoutModel",
=======
            "layout": "IPY_MODEL_95fdb01886bd4b7eb02ca1b7a11449de",
            "placeholder": "​",
            "style": "IPY_MODEL_3c5eb51fa7314f41bb021ea567f3912a",
            "value": " 7.81k/? [00:00&lt;00:00, 356kB/s]"
          }
        },
        "e9581f4c624b42428738ad21f4f3803c": {
          "model_module": "@jupyter-widgets/base",
          "model_name": "LayoutModel",
          "model_module_version": "1.2.0",
>>>>>>> b004a0cb2f013d9277d72b38f2a3b25e6bb3c246
          "state": {
            "_model_module": "@jupyter-widgets/base",
            "_model_module_version": "1.2.0",
            "_model_name": "LayoutModel",
            "_view_count": null,
            "_view_module": "@jupyter-widgets/base",
            "_view_module_version": "1.2.0",
            "_view_name": "LayoutView",
            "align_content": null,
            "align_items": null,
            "align_self": null,
            "border": null,
            "bottom": null,
            "display": null,
            "flex": null,
            "flex_flow": null,
            "grid_area": null,
            "grid_auto_columns": null,
            "grid_auto_flow": null,
            "grid_auto_rows": null,
            "grid_column": null,
            "grid_gap": null,
            "grid_row": null,
            "grid_template_areas": null,
            "grid_template_columns": null,
            "grid_template_rows": null,
            "height": null,
            "justify_content": null,
            "justify_items": null,
            "left": null,
            "margin": null,
            "max_height": null,
            "max_width": null,
            "min_height": null,
            "min_width": null,
            "object_fit": null,
            "object_position": null,
            "order": null,
            "overflow": null,
            "overflow_x": null,
            "overflow_y": null,
            "padding": null,
            "right": null,
            "top": null,
            "visibility": null,
            "width": null
          }
        },
<<<<<<< HEAD
        "a01f2b29d4044fca8fc90c4e537677be": {
          "model_module": "@jupyter-widgets/base",
          "model_module_version": "1.2.0",
          "model_name": "LayoutModel",
=======
        "455365b17f074153b6809fcd3f9beb06": {
          "model_module": "@jupyter-widgets/base",
          "model_name": "LayoutModel",
          "model_module_version": "1.2.0",
>>>>>>> b004a0cb2f013d9277d72b38f2a3b25e6bb3c246
          "state": {
            "_model_module": "@jupyter-widgets/base",
            "_model_module_version": "1.2.0",
            "_model_name": "LayoutModel",
            "_view_count": null,
            "_view_module": "@jupyter-widgets/base",
            "_view_module_version": "1.2.0",
            "_view_name": "LayoutView",
            "align_content": null,
            "align_items": null,
            "align_self": null,
            "border": null,
            "bottom": null,
            "display": null,
            "flex": null,
            "flex_flow": null,
            "grid_area": null,
            "grid_auto_columns": null,
            "grid_auto_flow": null,
            "grid_auto_rows": null,
            "grid_column": null,
            "grid_gap": null,
            "grid_row": null,
            "grid_template_areas": null,
            "grid_template_columns": null,
            "grid_template_rows": null,
            "height": null,
            "justify_content": null,
            "justify_items": null,
            "left": null,
            "margin": null,
            "max_height": null,
            "max_width": null,
            "min_height": null,
            "min_width": null,
            "object_fit": null,
            "object_position": null,
            "order": null,
            "overflow": null,
            "overflow_x": null,
            "overflow_y": null,
            "padding": null,
            "right": null,
            "top": null,
            "visibility": null,
            "width": null
          }
        },
<<<<<<< HEAD
        "a4ccfadd28bb4a599547b9204a77af75": {
          "model_module": "@jupyter-widgets/base",
          "model_module_version": "1.2.0",
          "model_name": "LayoutModel",
          "state": {
            "_model_module": "@jupyter-widgets/base",
            "_model_module_version": "1.2.0",
            "_model_name": "LayoutModel",
            "_view_count": null,
            "_view_module": "@jupyter-widgets/base",
            "_view_module_version": "1.2.0",
            "_view_name": "LayoutView",
            "align_content": null,
            "align_items": null,
            "align_self": null,
            "border": null,
            "bottom": null,
            "display": null,
            "flex": null,
            "flex_flow": null,
            "grid_area": null,
            "grid_auto_columns": null,
            "grid_auto_flow": null,
            "grid_auto_rows": null,
            "grid_column": null,
            "grid_gap": null,
            "grid_row": null,
            "grid_template_areas": null,
            "grid_template_columns": null,
            "grid_template_rows": null,
            "height": null,
            "justify_content": null,
            "justify_items": null,
            "left": null,
            "margin": null,
            "max_height": null,
            "max_width": null,
            "min_height": null,
            "min_width": null,
            "object_fit": null,
            "object_position": null,
            "order": null,
            "overflow": null,
            "overflow_x": null,
            "overflow_y": null,
            "padding": null,
            "right": null,
            "top": null,
            "visibility": null,
            "width": null
          }
        },
        "a55bc739bc684c74b1aa112a2756222f": {
          "model_module": "@jupyter-widgets/base",
          "model_module_version": "1.2.0",
          "model_name": "LayoutModel",
          "state": {
            "_model_module": "@jupyter-widgets/base",
            "_model_module_version": "1.2.0",
            "_model_name": "LayoutModel",
            "_view_count": null,
            "_view_module": "@jupyter-widgets/base",
            "_view_module_version": "1.2.0",
            "_view_name": "LayoutView",
            "align_content": null,
            "align_items": null,
            "align_self": null,
            "border": null,
            "bottom": null,
            "display": null,
            "flex": null,
            "flex_flow": null,
            "grid_area": null,
            "grid_auto_columns": null,
            "grid_auto_flow": null,
            "grid_auto_rows": null,
            "grid_column": null,
            "grid_gap": null,
            "grid_row": null,
            "grid_template_areas": null,
            "grid_template_columns": null,
            "grid_template_rows": null,
            "height": null,
            "justify_content": null,
            "justify_items": null,
            "left": null,
            "margin": null,
            "max_height": null,
            "max_width": null,
            "min_height": null,
            "min_width": null,
            "object_fit": null,
            "object_position": null,
            "order": null,
            "overflow": null,
            "overflow_x": null,
            "overflow_y": null,
            "padding": null,
            "right": null,
            "top": null,
            "visibility": null,
            "width": null
          }
        },
        "aa660409eb5a459688eadf3cba149291": {
          "model_module": "@jupyter-widgets/controls",
          "model_module_version": "1.5.0",
          "model_name": "DescriptionStyleModel",
=======
        "1bae897bc4cc487db9c8cf3a96fee354": {
          "model_module": "@jupyter-widgets/controls",
          "model_name": "DescriptionStyleModel",
          "model_module_version": "1.5.0",
>>>>>>> b004a0cb2f013d9277d72b38f2a3b25e6bb3c246
          "state": {
            "_model_module": "@jupyter-widgets/controls",
            "_model_module_version": "1.5.0",
            "_model_name": "DescriptionStyleModel",
            "_view_count": null,
            "_view_module": "@jupyter-widgets/base",
            "_view_module_version": "1.2.0",
            "_view_name": "StyleView",
            "description_width": ""
          }
        },
<<<<<<< HEAD
        "bb77097f7c2d41bfbd87878227d160e4": {
          "model_module": "@jupyter-widgets/controls",
          "model_module_version": "1.5.0",
          "model_name": "HBoxModel",
=======
        "5bcf8e5f843745b68f6bc10ea2eebe12": {
          "model_module": "@jupyter-widgets/base",
          "model_name": "LayoutModel",
          "model_module_version": "1.2.0",
          "state": {
            "_model_module": "@jupyter-widgets/base",
            "_model_module_version": "1.2.0",
            "_model_name": "LayoutModel",
            "_view_count": null,
            "_view_module": "@jupyter-widgets/base",
            "_view_module_version": "1.2.0",
            "_view_name": "LayoutView",
            "align_content": null,
            "align_items": null,
            "align_self": null,
            "border": null,
            "bottom": null,
            "display": null,
            "flex": null,
            "flex_flow": null,
            "grid_area": null,
            "grid_auto_columns": null,
            "grid_auto_flow": null,
            "grid_auto_rows": null,
            "grid_column": null,
            "grid_gap": null,
            "grid_row": null,
            "grid_template_areas": null,
            "grid_template_columns": null,
            "grid_template_rows": null,
            "height": null,
            "justify_content": null,
            "justify_items": null,
            "left": null,
            "margin": null,
            "max_height": null,
            "max_width": null,
            "min_height": null,
            "min_width": null,
            "object_fit": null,
            "object_position": null,
            "order": null,
            "overflow": null,
            "overflow_x": null,
            "overflow_y": null,
            "padding": null,
            "right": null,
            "top": null,
            "visibility": null,
            "width": "20px"
          }
        },
        "a1b82faf0ef34a05b0a9f82d849c5f27": {
          "model_module": "@jupyter-widgets/controls",
          "model_name": "ProgressStyleModel",
          "model_module_version": "1.5.0",
          "state": {
            "_model_module": "@jupyter-widgets/controls",
            "_model_module_version": "1.5.0",
            "_model_name": "ProgressStyleModel",
            "_view_count": null,
            "_view_module": "@jupyter-widgets/base",
            "_view_module_version": "1.2.0",
            "_view_name": "StyleView",
            "bar_color": null,
            "description_width": ""
          }
        },
        "95fdb01886bd4b7eb02ca1b7a11449de": {
          "model_module": "@jupyter-widgets/base",
          "model_name": "LayoutModel",
          "model_module_version": "1.2.0",
          "state": {
            "_model_module": "@jupyter-widgets/base",
            "_model_module_version": "1.2.0",
            "_model_name": "LayoutModel",
            "_view_count": null,
            "_view_module": "@jupyter-widgets/base",
            "_view_module_version": "1.2.0",
            "_view_name": "LayoutView",
            "align_content": null,
            "align_items": null,
            "align_self": null,
            "border": null,
            "bottom": null,
            "display": null,
            "flex": null,
            "flex_flow": null,
            "grid_area": null,
            "grid_auto_columns": null,
            "grid_auto_flow": null,
            "grid_auto_rows": null,
            "grid_column": null,
            "grid_gap": null,
            "grid_row": null,
            "grid_template_areas": null,
            "grid_template_columns": null,
            "grid_template_rows": null,
            "height": null,
            "justify_content": null,
            "justify_items": null,
            "left": null,
            "margin": null,
            "max_height": null,
            "max_width": null,
            "min_height": null,
            "min_width": null,
            "object_fit": null,
            "object_position": null,
            "order": null,
            "overflow": null,
            "overflow_x": null,
            "overflow_y": null,
            "padding": null,
            "right": null,
            "top": null,
            "visibility": null,
            "width": null
          }
        },
        "3c5eb51fa7314f41bb021ea567f3912a": {
          "model_module": "@jupyter-widgets/controls",
          "model_name": "DescriptionStyleModel",
          "model_module_version": "1.5.0",
          "state": {
            "_model_module": "@jupyter-widgets/controls",
            "_model_module_version": "1.5.0",
            "_model_name": "DescriptionStyleModel",
            "_view_count": null,
            "_view_module": "@jupyter-widgets/base",
            "_view_module_version": "1.2.0",
            "_view_name": "StyleView",
            "description_width": ""
          }
        },
        "31cf2b5bc754455b930b9096f2710c3c": {
          "model_module": "@jupyter-widgets/controls",
          "model_name": "HBoxModel",
          "model_module_version": "1.5.0",
>>>>>>> b004a0cb2f013d9277d72b38f2a3b25e6bb3c246
          "state": {
            "_dom_classes": [],
            "_model_module": "@jupyter-widgets/controls",
            "_model_module_version": "1.5.0",
            "_model_name": "HBoxModel",
            "_view_count": null,
            "_view_module": "@jupyter-widgets/controls",
            "_view_module_version": "1.5.0",
            "_view_name": "HBoxView",
            "box_style": "",
            "children": [
<<<<<<< HEAD
              "IPY_MODEL_94a2cb3d97cd4834854de96e896f1c20",
              "IPY_MODEL_93b660a11cfa476093d90e391ab38589",
              "IPY_MODEL_05e658df38164eda9622a5602f2aa851"
            ],
            "layout": "IPY_MODEL_d2c455718adb46789c9b8602492cf52d"
          }
        },
        "c127cfffe3fa41f7ab551e578f441124": {
          "model_module": "@jupyter-widgets/base",
          "model_module_version": "1.2.0",
          "model_name": "LayoutModel",
          "state": {
            "_model_module": "@jupyter-widgets/base",
            "_model_module_version": "1.2.0",
            "_model_name": "LayoutModel",
            "_view_count": null,
            "_view_module": "@jupyter-widgets/base",
            "_view_module_version": "1.2.0",
            "_view_name": "LayoutView",
            "align_content": null,
            "align_items": null,
            "align_self": null,
            "border": null,
            "bottom": null,
            "display": null,
            "flex": null,
            "flex_flow": null,
            "grid_area": null,
            "grid_auto_columns": null,
            "grid_auto_flow": null,
            "grid_auto_rows": null,
            "grid_column": null,
            "grid_gap": null,
            "grid_row": null,
            "grid_template_areas": null,
            "grid_template_columns": null,
            "grid_template_rows": null,
            "height": null,
            "justify_content": null,
            "justify_items": null,
            "left": null,
            "margin": null,
            "max_height": null,
            "max_width": null,
            "min_height": null,
            "min_width": null,
            "object_fit": null,
            "object_position": null,
            "order": null,
            "overflow": null,
            "overflow_x": null,
            "overflow_y": null,
            "padding": null,
            "right": null,
            "top": null,
            "visibility": null,
            "width": null
          }
        },
        "c28a91a414084824b75c58f01e8f06b1": {
          "model_module": "@jupyter-widgets/controls",
          "model_module_version": "1.5.0",
          "model_name": "DescriptionStyleModel",
          "state": {
            "_model_module": "@jupyter-widgets/controls",
            "_model_module_version": "1.5.0",
            "_model_name": "DescriptionStyleModel",
            "_view_count": null,
            "_view_module": "@jupyter-widgets/base",
            "_view_module_version": "1.2.0",
            "_view_name": "StyleView",
            "description_width": ""
          }
        },
        "c85e95a3c4904a6faf4c1643ac64baa2": {
          "model_module": "@jupyter-widgets/controls",
          "model_module_version": "1.5.0",
          "model_name": "FloatProgressModel",
=======
              "IPY_MODEL_b38a488841854e338b21371d1636c7c6",
              "IPY_MODEL_921748574b0c4719beddf4ab674c7016",
              "IPY_MODEL_6fbd477737384df7a70dc4393a5a2cca"
            ],
            "layout": "IPY_MODEL_503e4f3c7e51445f8758f39dd8a99f87"
          }
        },
        "b38a488841854e338b21371d1636c7c6": {
          "model_module": "@jupyter-widgets/controls",
          "model_name": "HTMLModel",
          "model_module_version": "1.5.0",
          "state": {
            "_dom_classes": [],
            "_model_module": "@jupyter-widgets/controls",
            "_model_module_version": "1.5.0",
            "_model_name": "HTMLModel",
            "_view_count": null,
            "_view_module": "@jupyter-widgets/controls",
            "_view_module_version": "1.5.0",
            "_view_name": "HTMLView",
            "description": "",
            "description_tooltip": null,
            "layout": "IPY_MODEL_6a03bff7762941028dd20fc5d7cea3d2",
            "placeholder": "​",
            "style": "IPY_MODEL_41b4864c3ba5496a8bbbe52ae0919fcd",
            "value": "plain_text/train-00000-of-00001.parquet: 100%"
          }
        },
        "921748574b0c4719beddf4ab674c7016": {
          "model_module": "@jupyter-widgets/controls",
          "model_name": "FloatProgressModel",
          "model_module_version": "1.5.0",
>>>>>>> b004a0cb2f013d9277d72b38f2a3b25e6bb3c246
          "state": {
            "_dom_classes": [],
            "_model_module": "@jupyter-widgets/controls",
            "_model_module_version": "1.5.0",
            "_model_name": "FloatProgressModel",
            "_view_count": null,
            "_view_module": "@jupyter-widgets/controls",
            "_view_module_version": "1.5.0",
            "_view_name": "ProgressView",
            "bar_style": "success",
            "description": "",
            "description_tooltip": null,
<<<<<<< HEAD
            "layout": "IPY_MODEL_97c46a1899fb4774b5d6386784daeb33",
            "max": 25000,
            "min": 0,
            "orientation": "horizontal",
            "style": "IPY_MODEL_45b895920ba34417ba7d285b829974dd",
            "value": 25000
          }
        },
        "d2c455718adb46789c9b8602492cf52d": {
          "model_module": "@jupyter-widgets/base",
          "model_module_version": "1.2.0",
          "model_name": "LayoutModel",
=======
            "layout": "IPY_MODEL_f2e0180265ba4449a1a0903cd7faf298",
            "max": 20979968,
            "min": 0,
            "orientation": "horizontal",
            "style": "IPY_MODEL_a7ca40995dc7429c84de369b60b78991",
            "value": 20979968
          }
        },
        "6fbd477737384df7a70dc4393a5a2cca": {
          "model_module": "@jupyter-widgets/controls",
          "model_name": "HTMLModel",
          "model_module_version": "1.5.0",
          "state": {
            "_dom_classes": [],
            "_model_module": "@jupyter-widgets/controls",
            "_model_module_version": "1.5.0",
            "_model_name": "HTMLModel",
            "_view_count": null,
            "_view_module": "@jupyter-widgets/controls",
            "_view_module_version": "1.5.0",
            "_view_name": "HTMLView",
            "description": "",
            "description_tooltip": null,
            "layout": "IPY_MODEL_67442fe12af64e26ad504aa5c607d739",
            "placeholder": "​",
            "style": "IPY_MODEL_b22a32907a124fc6947331f142202e27",
            "value": " 21.0M/21.0M [00:00&lt;00:00, 29.9MB/s]"
          }
        },
        "503e4f3c7e51445f8758f39dd8a99f87": {
          "model_module": "@jupyter-widgets/base",
          "model_name": "LayoutModel",
          "model_module_version": "1.2.0",
>>>>>>> b004a0cb2f013d9277d72b38f2a3b25e6bb3c246
          "state": {
            "_model_module": "@jupyter-widgets/base",
            "_model_module_version": "1.2.0",
            "_model_name": "LayoutModel",
            "_view_count": null,
            "_view_module": "@jupyter-widgets/base",
            "_view_module_version": "1.2.0",
            "_view_name": "LayoutView",
            "align_content": null,
            "align_items": null,
            "align_self": null,
            "border": null,
            "bottom": null,
            "display": null,
            "flex": null,
            "flex_flow": null,
            "grid_area": null,
            "grid_auto_columns": null,
            "grid_auto_flow": null,
            "grid_auto_rows": null,
            "grid_column": null,
            "grid_gap": null,
            "grid_row": null,
            "grid_template_areas": null,
            "grid_template_columns": null,
            "grid_template_rows": null,
            "height": null,
            "justify_content": null,
            "justify_items": null,
            "left": null,
            "margin": null,
            "max_height": null,
            "max_width": null,
            "min_height": null,
            "min_width": null,
            "object_fit": null,
            "object_position": null,
            "order": null,
            "overflow": null,
            "overflow_x": null,
            "overflow_y": null,
            "padding": null,
            "right": null,
            "top": null,
            "visibility": null,
            "width": null
          }
<<<<<<< HEAD
=======
        },
        "6a03bff7762941028dd20fc5d7cea3d2": {
          "model_module": "@jupyter-widgets/base",
          "model_name": "LayoutModel",
          "model_module_version": "1.2.0",
          "state": {
            "_model_module": "@jupyter-widgets/base",
            "_model_module_version": "1.2.0",
            "_model_name": "LayoutModel",
            "_view_count": null,
            "_view_module": "@jupyter-widgets/base",
            "_view_module_version": "1.2.0",
            "_view_name": "LayoutView",
            "align_content": null,
            "align_items": null,
            "align_self": null,
            "border": null,
            "bottom": null,
            "display": null,
            "flex": null,
            "flex_flow": null,
            "grid_area": null,
            "grid_auto_columns": null,
            "grid_auto_flow": null,
            "grid_auto_rows": null,
            "grid_column": null,
            "grid_gap": null,
            "grid_row": null,
            "grid_template_areas": null,
            "grid_template_columns": null,
            "grid_template_rows": null,
            "height": null,
            "justify_content": null,
            "justify_items": null,
            "left": null,
            "margin": null,
            "max_height": null,
            "max_width": null,
            "min_height": null,
            "min_width": null,
            "object_fit": null,
            "object_position": null,
            "order": null,
            "overflow": null,
            "overflow_x": null,
            "overflow_y": null,
            "padding": null,
            "right": null,
            "top": null,
            "visibility": null,
            "width": null
          }
        },
        "41b4864c3ba5496a8bbbe52ae0919fcd": {
          "model_module": "@jupyter-widgets/controls",
          "model_name": "DescriptionStyleModel",
          "model_module_version": "1.5.0",
          "state": {
            "_model_module": "@jupyter-widgets/controls",
            "_model_module_version": "1.5.0",
            "_model_name": "DescriptionStyleModel",
            "_view_count": null,
            "_view_module": "@jupyter-widgets/base",
            "_view_module_version": "1.2.0",
            "_view_name": "StyleView",
            "description_width": ""
          }
        },
        "f2e0180265ba4449a1a0903cd7faf298": {
          "model_module": "@jupyter-widgets/base",
          "model_name": "LayoutModel",
          "model_module_version": "1.2.0",
          "state": {
            "_model_module": "@jupyter-widgets/base",
            "_model_module_version": "1.2.0",
            "_model_name": "LayoutModel",
            "_view_count": null,
            "_view_module": "@jupyter-widgets/base",
            "_view_module_version": "1.2.0",
            "_view_name": "LayoutView",
            "align_content": null,
            "align_items": null,
            "align_self": null,
            "border": null,
            "bottom": null,
            "display": null,
            "flex": null,
            "flex_flow": null,
            "grid_area": null,
            "grid_auto_columns": null,
            "grid_auto_flow": null,
            "grid_auto_rows": null,
            "grid_column": null,
            "grid_gap": null,
            "grid_row": null,
            "grid_template_areas": null,
            "grid_template_columns": null,
            "grid_template_rows": null,
            "height": null,
            "justify_content": null,
            "justify_items": null,
            "left": null,
            "margin": null,
            "max_height": null,
            "max_width": null,
            "min_height": null,
            "min_width": null,
            "object_fit": null,
            "object_position": null,
            "order": null,
            "overflow": null,
            "overflow_x": null,
            "overflow_y": null,
            "padding": null,
            "right": null,
            "top": null,
            "visibility": null,
            "width": null
          }
        },
        "a7ca40995dc7429c84de369b60b78991": {
          "model_module": "@jupyter-widgets/controls",
          "model_name": "ProgressStyleModel",
          "model_module_version": "1.5.0",
          "state": {
            "_model_module": "@jupyter-widgets/controls",
            "_model_module_version": "1.5.0",
            "_model_name": "ProgressStyleModel",
            "_view_count": null,
            "_view_module": "@jupyter-widgets/base",
            "_view_module_version": "1.2.0",
            "_view_name": "StyleView",
            "bar_color": null,
            "description_width": ""
          }
        },
        "67442fe12af64e26ad504aa5c607d739": {
          "model_module": "@jupyter-widgets/base",
          "model_name": "LayoutModel",
          "model_module_version": "1.2.0",
          "state": {
            "_model_module": "@jupyter-widgets/base",
            "_model_module_version": "1.2.0",
            "_model_name": "LayoutModel",
            "_view_count": null,
            "_view_module": "@jupyter-widgets/base",
            "_view_module_version": "1.2.0",
            "_view_name": "LayoutView",
            "align_content": null,
            "align_items": null,
            "align_self": null,
            "border": null,
            "bottom": null,
            "display": null,
            "flex": null,
            "flex_flow": null,
            "grid_area": null,
            "grid_auto_columns": null,
            "grid_auto_flow": null,
            "grid_auto_rows": null,
            "grid_column": null,
            "grid_gap": null,
            "grid_row": null,
            "grid_template_areas": null,
            "grid_template_columns": null,
            "grid_template_rows": null,
            "height": null,
            "justify_content": null,
            "justify_items": null,
            "left": null,
            "margin": null,
            "max_height": null,
            "max_width": null,
            "min_height": null,
            "min_width": null,
            "object_fit": null,
            "object_position": null,
            "order": null,
            "overflow": null,
            "overflow_x": null,
            "overflow_y": null,
            "padding": null,
            "right": null,
            "top": null,
            "visibility": null,
            "width": null
          }
        },
        "b22a32907a124fc6947331f142202e27": {
          "model_module": "@jupyter-widgets/controls",
          "model_name": "DescriptionStyleModel",
          "model_module_version": "1.5.0",
          "state": {
            "_model_module": "@jupyter-widgets/controls",
            "_model_module_version": "1.5.0",
            "_model_name": "DescriptionStyleModel",
            "_view_count": null,
            "_view_module": "@jupyter-widgets/base",
            "_view_module_version": "1.2.0",
            "_view_name": "StyleView",
            "description_width": ""
          }
        },
        "7dc8c76862ae493d9a1e2c31f9a890ca": {
          "model_module": "@jupyter-widgets/controls",
          "model_name": "HBoxModel",
          "model_module_version": "1.5.0",
          "state": {
            "_dom_classes": [],
            "_model_module": "@jupyter-widgets/controls",
            "_model_module_version": "1.5.0",
            "_model_name": "HBoxModel",
            "_view_count": null,
            "_view_module": "@jupyter-widgets/controls",
            "_view_module_version": "1.5.0",
            "_view_name": "HBoxView",
            "box_style": "",
            "children": [
              "IPY_MODEL_8d959866b80447f5b4bfd7afa17f9a8f",
              "IPY_MODEL_5fb4e31586474fec97e70e0d72cac0b3",
              "IPY_MODEL_c44e26e549154449b1a9391db63a84ca"
            ],
            "layout": "IPY_MODEL_a439dec1a49548c384f0871a78811134"
          }
        },
        "8d959866b80447f5b4bfd7afa17f9a8f": {
          "model_module": "@jupyter-widgets/controls",
          "model_name": "HTMLModel",
          "model_module_version": "1.5.0",
          "state": {
            "_dom_classes": [],
            "_model_module": "@jupyter-widgets/controls",
            "_model_module_version": "1.5.0",
            "_model_name": "HTMLModel",
            "_view_count": null,
            "_view_module": "@jupyter-widgets/controls",
            "_view_module_version": "1.5.0",
            "_view_name": "HTMLView",
            "description": "",
            "description_tooltip": null,
            "layout": "IPY_MODEL_c5713c806fb44673ae6346e850db6889",
            "placeholder": "​",
            "style": "IPY_MODEL_325e7f92a2fe45f590bc7a23e332d2ba",
            "value": "plain_text/test-00000-of-00001.parquet: 100%"
          }
        },
        "5fb4e31586474fec97e70e0d72cac0b3": {
          "model_module": "@jupyter-widgets/controls",
          "model_name": "FloatProgressModel",
          "model_module_version": "1.5.0",
          "state": {
            "_dom_classes": [],
            "_model_module": "@jupyter-widgets/controls",
            "_model_module_version": "1.5.0",
            "_model_name": "FloatProgressModel",
            "_view_count": null,
            "_view_module": "@jupyter-widgets/controls",
            "_view_module_version": "1.5.0",
            "_view_name": "ProgressView",
            "bar_style": "success",
            "description": "",
            "description_tooltip": null,
            "layout": "IPY_MODEL_8732e7ced97448d7a897a020a4096cc7",
            "max": 20470363,
            "min": 0,
            "orientation": "horizontal",
            "style": "IPY_MODEL_0795da82810745638ab7725fc91466bc",
            "value": 20470363
          }
        },
        "c44e26e549154449b1a9391db63a84ca": {
          "model_module": "@jupyter-widgets/controls",
          "model_name": "HTMLModel",
          "model_module_version": "1.5.0",
          "state": {
            "_dom_classes": [],
            "_model_module": "@jupyter-widgets/controls",
            "_model_module_version": "1.5.0",
            "_model_name": "HTMLModel",
            "_view_count": null,
            "_view_module": "@jupyter-widgets/controls",
            "_view_module_version": "1.5.0",
            "_view_name": "HTMLView",
            "description": "",
            "description_tooltip": null,
            "layout": "IPY_MODEL_55c3a63dd09d44e3bc530778c5baef64",
            "placeholder": "​",
            "style": "IPY_MODEL_f38225b9f9184c46a147acd660b22732",
            "value": " 20.5M/20.5M [00:00&lt;00:00, 52.4MB/s]"
          }
        },
        "a439dec1a49548c384f0871a78811134": {
          "model_module": "@jupyter-widgets/base",
          "model_name": "LayoutModel",
          "model_module_version": "1.2.0",
          "state": {
            "_model_module": "@jupyter-widgets/base",
            "_model_module_version": "1.2.0",
            "_model_name": "LayoutModel",
            "_view_count": null,
            "_view_module": "@jupyter-widgets/base",
            "_view_module_version": "1.2.0",
            "_view_name": "LayoutView",
            "align_content": null,
            "align_items": null,
            "align_self": null,
            "border": null,
            "bottom": null,
            "display": null,
            "flex": null,
            "flex_flow": null,
            "grid_area": null,
            "grid_auto_columns": null,
            "grid_auto_flow": null,
            "grid_auto_rows": null,
            "grid_column": null,
            "grid_gap": null,
            "grid_row": null,
            "grid_template_areas": null,
            "grid_template_columns": null,
            "grid_template_rows": null,
            "height": null,
            "justify_content": null,
            "justify_items": null,
            "left": null,
            "margin": null,
            "max_height": null,
            "max_width": null,
            "min_height": null,
            "min_width": null,
            "object_fit": null,
            "object_position": null,
            "order": null,
            "overflow": null,
            "overflow_x": null,
            "overflow_y": null,
            "padding": null,
            "right": null,
            "top": null,
            "visibility": null,
            "width": null
          }
        },
        "c5713c806fb44673ae6346e850db6889": {
          "model_module": "@jupyter-widgets/base",
          "model_name": "LayoutModel",
          "model_module_version": "1.2.0",
          "state": {
            "_model_module": "@jupyter-widgets/base",
            "_model_module_version": "1.2.0",
            "_model_name": "LayoutModel",
            "_view_count": null,
            "_view_module": "@jupyter-widgets/base",
            "_view_module_version": "1.2.0",
            "_view_name": "LayoutView",
            "align_content": null,
            "align_items": null,
            "align_self": null,
            "border": null,
            "bottom": null,
            "display": null,
            "flex": null,
            "flex_flow": null,
            "grid_area": null,
            "grid_auto_columns": null,
            "grid_auto_flow": null,
            "grid_auto_rows": null,
            "grid_column": null,
            "grid_gap": null,
            "grid_row": null,
            "grid_template_areas": null,
            "grid_template_columns": null,
            "grid_template_rows": null,
            "height": null,
            "justify_content": null,
            "justify_items": null,
            "left": null,
            "margin": null,
            "max_height": null,
            "max_width": null,
            "min_height": null,
            "min_width": null,
            "object_fit": null,
            "object_position": null,
            "order": null,
            "overflow": null,
            "overflow_x": null,
            "overflow_y": null,
            "padding": null,
            "right": null,
            "top": null,
            "visibility": null,
            "width": null
          }
        },
        "325e7f92a2fe45f590bc7a23e332d2ba": {
          "model_module": "@jupyter-widgets/controls",
          "model_name": "DescriptionStyleModel",
          "model_module_version": "1.5.0",
          "state": {
            "_model_module": "@jupyter-widgets/controls",
            "_model_module_version": "1.5.0",
            "_model_name": "DescriptionStyleModel",
            "_view_count": null,
            "_view_module": "@jupyter-widgets/base",
            "_view_module_version": "1.2.0",
            "_view_name": "StyleView",
            "description_width": ""
          }
        },
        "8732e7ced97448d7a897a020a4096cc7": {
          "model_module": "@jupyter-widgets/base",
          "model_name": "LayoutModel",
          "model_module_version": "1.2.0",
          "state": {
            "_model_module": "@jupyter-widgets/base",
            "_model_module_version": "1.2.0",
            "_model_name": "LayoutModel",
            "_view_count": null,
            "_view_module": "@jupyter-widgets/base",
            "_view_module_version": "1.2.0",
            "_view_name": "LayoutView",
            "align_content": null,
            "align_items": null,
            "align_self": null,
            "border": null,
            "bottom": null,
            "display": null,
            "flex": null,
            "flex_flow": null,
            "grid_area": null,
            "grid_auto_columns": null,
            "grid_auto_flow": null,
            "grid_auto_rows": null,
            "grid_column": null,
            "grid_gap": null,
            "grid_row": null,
            "grid_template_areas": null,
            "grid_template_columns": null,
            "grid_template_rows": null,
            "height": null,
            "justify_content": null,
            "justify_items": null,
            "left": null,
            "margin": null,
            "max_height": null,
            "max_width": null,
            "min_height": null,
            "min_width": null,
            "object_fit": null,
            "object_position": null,
            "order": null,
            "overflow": null,
            "overflow_x": null,
            "overflow_y": null,
            "padding": null,
            "right": null,
            "top": null,
            "visibility": null,
            "width": null
          }
        },
        "0795da82810745638ab7725fc91466bc": {
          "model_module": "@jupyter-widgets/controls",
          "model_name": "ProgressStyleModel",
          "model_module_version": "1.5.0",
          "state": {
            "_model_module": "@jupyter-widgets/controls",
            "_model_module_version": "1.5.0",
            "_model_name": "ProgressStyleModel",
            "_view_count": null,
            "_view_module": "@jupyter-widgets/base",
            "_view_module_version": "1.2.0",
            "_view_name": "StyleView",
            "bar_color": null,
            "description_width": ""
          }
        },
        "55c3a63dd09d44e3bc530778c5baef64": {
          "model_module": "@jupyter-widgets/base",
          "model_name": "LayoutModel",
          "model_module_version": "1.2.0",
          "state": {
            "_model_module": "@jupyter-widgets/base",
            "_model_module_version": "1.2.0",
            "_model_name": "LayoutModel",
            "_view_count": null,
            "_view_module": "@jupyter-widgets/base",
            "_view_module_version": "1.2.0",
            "_view_name": "LayoutView",
            "align_content": null,
            "align_items": null,
            "align_self": null,
            "border": null,
            "bottom": null,
            "display": null,
            "flex": null,
            "flex_flow": null,
            "grid_area": null,
            "grid_auto_columns": null,
            "grid_auto_flow": null,
            "grid_auto_rows": null,
            "grid_column": null,
            "grid_gap": null,
            "grid_row": null,
            "grid_template_areas": null,
            "grid_template_columns": null,
            "grid_template_rows": null,
            "height": null,
            "justify_content": null,
            "justify_items": null,
            "left": null,
            "margin": null,
            "max_height": null,
            "max_width": null,
            "min_height": null,
            "min_width": null,
            "object_fit": null,
            "object_position": null,
            "order": null,
            "overflow": null,
            "overflow_x": null,
            "overflow_y": null,
            "padding": null,
            "right": null,
            "top": null,
            "visibility": null,
            "width": null
          }
        },
        "f38225b9f9184c46a147acd660b22732": {
          "model_module": "@jupyter-widgets/controls",
          "model_name": "DescriptionStyleModel",
          "model_module_version": "1.5.0",
          "state": {
            "_model_module": "@jupyter-widgets/controls",
            "_model_module_version": "1.5.0",
            "_model_name": "DescriptionStyleModel",
            "_view_count": null,
            "_view_module": "@jupyter-widgets/base",
            "_view_module_version": "1.2.0",
            "_view_name": "StyleView",
            "description_width": ""
          }
        },
        "075f7d72a85f4f888c2cefb9a9350e68": {
          "model_module": "@jupyter-widgets/controls",
          "model_name": "HBoxModel",
          "model_module_version": "1.5.0",
          "state": {
            "_dom_classes": [],
            "_model_module": "@jupyter-widgets/controls",
            "_model_module_version": "1.5.0",
            "_model_name": "HBoxModel",
            "_view_count": null,
            "_view_module": "@jupyter-widgets/controls",
            "_view_module_version": "1.5.0",
            "_view_name": "HBoxView",
            "box_style": "",
            "children": [
              "IPY_MODEL_238bcd51a3f44420aa08263d035210b6",
              "IPY_MODEL_cbcfcda1cf5646329e9f10d80c9eda71",
              "IPY_MODEL_434ec3586b894999a3ca2dc184f513b2"
            ],
            "layout": "IPY_MODEL_e35b87ac0fb5459fa00c263487fca5dd"
          }
        },
        "238bcd51a3f44420aa08263d035210b6": {
          "model_module": "@jupyter-widgets/controls",
          "model_name": "HTMLModel",
          "model_module_version": "1.5.0",
          "state": {
            "_dom_classes": [],
            "_model_module": "@jupyter-widgets/controls",
            "_model_module_version": "1.5.0",
            "_model_name": "HTMLModel",
            "_view_count": null,
            "_view_module": "@jupyter-widgets/controls",
            "_view_module_version": "1.5.0",
            "_view_name": "HTMLView",
            "description": "",
            "description_tooltip": null,
            "layout": "IPY_MODEL_014a46c7192b4e9696535faf903ee78c",
            "placeholder": "​",
            "style": "IPY_MODEL_61f0038844134f60b0b0cedcca584c75",
            "value": "plain_text/unsupervised-00000-of-00001.p(…): 100%"
          }
        },
        "cbcfcda1cf5646329e9f10d80c9eda71": {
          "model_module": "@jupyter-widgets/controls",
          "model_name": "FloatProgressModel",
          "model_module_version": "1.5.0",
          "state": {
            "_dom_classes": [],
            "_model_module": "@jupyter-widgets/controls",
            "_model_module_version": "1.5.0",
            "_model_name": "FloatProgressModel",
            "_view_count": null,
            "_view_module": "@jupyter-widgets/controls",
            "_view_module_version": "1.5.0",
            "_view_name": "ProgressView",
            "bar_style": "success",
            "description": "",
            "description_tooltip": null,
            "layout": "IPY_MODEL_5cce3dc370874e0bb9ef17cacff2b16a",
            "max": 41996509,
            "min": 0,
            "orientation": "horizontal",
            "style": "IPY_MODEL_9821824ebf4f42a0bde770e9a7bc0fd9",
            "value": 41996509
          }
        },
        "434ec3586b894999a3ca2dc184f513b2": {
          "model_module": "@jupyter-widgets/controls",
          "model_name": "HTMLModel",
          "model_module_version": "1.5.0",
          "state": {
            "_dom_classes": [],
            "_model_module": "@jupyter-widgets/controls",
            "_model_module_version": "1.5.0",
            "_model_name": "HTMLModel",
            "_view_count": null,
            "_view_module": "@jupyter-widgets/controls",
            "_view_module_version": "1.5.0",
            "_view_name": "HTMLView",
            "description": "",
            "description_tooltip": null,
            "layout": "IPY_MODEL_2dc357c8ad8c4185b851b109581f1f7c",
            "placeholder": "​",
            "style": "IPY_MODEL_df3e1f6cc4114e1887f210ec2e1f1121",
            "value": " 42.0M/42.0M [00:00&lt;00:00, 30.3MB/s]"
          }
        },
        "e35b87ac0fb5459fa00c263487fca5dd": {
          "model_module": "@jupyter-widgets/base",
          "model_name": "LayoutModel",
          "model_module_version": "1.2.0",
          "state": {
            "_model_module": "@jupyter-widgets/base",
            "_model_module_version": "1.2.0",
            "_model_name": "LayoutModel",
            "_view_count": null,
            "_view_module": "@jupyter-widgets/base",
            "_view_module_version": "1.2.0",
            "_view_name": "LayoutView",
            "align_content": null,
            "align_items": null,
            "align_self": null,
            "border": null,
            "bottom": null,
            "display": null,
            "flex": null,
            "flex_flow": null,
            "grid_area": null,
            "grid_auto_columns": null,
            "grid_auto_flow": null,
            "grid_auto_rows": null,
            "grid_column": null,
            "grid_gap": null,
            "grid_row": null,
            "grid_template_areas": null,
            "grid_template_columns": null,
            "grid_template_rows": null,
            "height": null,
            "justify_content": null,
            "justify_items": null,
            "left": null,
            "margin": null,
            "max_height": null,
            "max_width": null,
            "min_height": null,
            "min_width": null,
            "object_fit": null,
            "object_position": null,
            "order": null,
            "overflow": null,
            "overflow_x": null,
            "overflow_y": null,
            "padding": null,
            "right": null,
            "top": null,
            "visibility": null,
            "width": null
          }
        },
        "014a46c7192b4e9696535faf903ee78c": {
          "model_module": "@jupyter-widgets/base",
          "model_name": "LayoutModel",
          "model_module_version": "1.2.0",
          "state": {
            "_model_module": "@jupyter-widgets/base",
            "_model_module_version": "1.2.0",
            "_model_name": "LayoutModel",
            "_view_count": null,
            "_view_module": "@jupyter-widgets/base",
            "_view_module_version": "1.2.0",
            "_view_name": "LayoutView",
            "align_content": null,
            "align_items": null,
            "align_self": null,
            "border": null,
            "bottom": null,
            "display": null,
            "flex": null,
            "flex_flow": null,
            "grid_area": null,
            "grid_auto_columns": null,
            "grid_auto_flow": null,
            "grid_auto_rows": null,
            "grid_column": null,
            "grid_gap": null,
            "grid_row": null,
            "grid_template_areas": null,
            "grid_template_columns": null,
            "grid_template_rows": null,
            "height": null,
            "justify_content": null,
            "justify_items": null,
            "left": null,
            "margin": null,
            "max_height": null,
            "max_width": null,
            "min_height": null,
            "min_width": null,
            "object_fit": null,
            "object_position": null,
            "order": null,
            "overflow": null,
            "overflow_x": null,
            "overflow_y": null,
            "padding": null,
            "right": null,
            "top": null,
            "visibility": null,
            "width": null
          }
        },
        "61f0038844134f60b0b0cedcca584c75": {
          "model_module": "@jupyter-widgets/controls",
          "model_name": "DescriptionStyleModel",
          "model_module_version": "1.5.0",
          "state": {
            "_model_module": "@jupyter-widgets/controls",
            "_model_module_version": "1.5.0",
            "_model_name": "DescriptionStyleModel",
            "_view_count": null,
            "_view_module": "@jupyter-widgets/base",
            "_view_module_version": "1.2.0",
            "_view_name": "StyleView",
            "description_width": ""
          }
        },
        "5cce3dc370874e0bb9ef17cacff2b16a": {
          "model_module": "@jupyter-widgets/base",
          "model_name": "LayoutModel",
          "model_module_version": "1.2.0",
          "state": {
            "_model_module": "@jupyter-widgets/base",
            "_model_module_version": "1.2.0",
            "_model_name": "LayoutModel",
            "_view_count": null,
            "_view_module": "@jupyter-widgets/base",
            "_view_module_version": "1.2.0",
            "_view_name": "LayoutView",
            "align_content": null,
            "align_items": null,
            "align_self": null,
            "border": null,
            "bottom": null,
            "display": null,
            "flex": null,
            "flex_flow": null,
            "grid_area": null,
            "grid_auto_columns": null,
            "grid_auto_flow": null,
            "grid_auto_rows": null,
            "grid_column": null,
            "grid_gap": null,
            "grid_row": null,
            "grid_template_areas": null,
            "grid_template_columns": null,
            "grid_template_rows": null,
            "height": null,
            "justify_content": null,
            "justify_items": null,
            "left": null,
            "margin": null,
            "max_height": null,
            "max_width": null,
            "min_height": null,
            "min_width": null,
            "object_fit": null,
            "object_position": null,
            "order": null,
            "overflow": null,
            "overflow_x": null,
            "overflow_y": null,
            "padding": null,
            "right": null,
            "top": null,
            "visibility": null,
            "width": null
          }
        },
        "9821824ebf4f42a0bde770e9a7bc0fd9": {
          "model_module": "@jupyter-widgets/controls",
          "model_name": "ProgressStyleModel",
          "model_module_version": "1.5.0",
          "state": {
            "_model_module": "@jupyter-widgets/controls",
            "_model_module_version": "1.5.0",
            "_model_name": "ProgressStyleModel",
            "_view_count": null,
            "_view_module": "@jupyter-widgets/base",
            "_view_module_version": "1.2.0",
            "_view_name": "StyleView",
            "bar_color": null,
            "description_width": ""
          }
        },
        "2dc357c8ad8c4185b851b109581f1f7c": {
          "model_module": "@jupyter-widgets/base",
          "model_name": "LayoutModel",
          "model_module_version": "1.2.0",
          "state": {
            "_model_module": "@jupyter-widgets/base",
            "_model_module_version": "1.2.0",
            "_model_name": "LayoutModel",
            "_view_count": null,
            "_view_module": "@jupyter-widgets/base",
            "_view_module_version": "1.2.0",
            "_view_name": "LayoutView",
            "align_content": null,
            "align_items": null,
            "align_self": null,
            "border": null,
            "bottom": null,
            "display": null,
            "flex": null,
            "flex_flow": null,
            "grid_area": null,
            "grid_auto_columns": null,
            "grid_auto_flow": null,
            "grid_auto_rows": null,
            "grid_column": null,
            "grid_gap": null,
            "grid_row": null,
            "grid_template_areas": null,
            "grid_template_columns": null,
            "grid_template_rows": null,
            "height": null,
            "justify_content": null,
            "justify_items": null,
            "left": null,
            "margin": null,
            "max_height": null,
            "max_width": null,
            "min_height": null,
            "min_width": null,
            "object_fit": null,
            "object_position": null,
            "order": null,
            "overflow": null,
            "overflow_x": null,
            "overflow_y": null,
            "padding": null,
            "right": null,
            "top": null,
            "visibility": null,
            "width": null
          }
        },
        "df3e1f6cc4114e1887f210ec2e1f1121": {
          "model_module": "@jupyter-widgets/controls",
          "model_name": "DescriptionStyleModel",
          "model_module_version": "1.5.0",
          "state": {
            "_model_module": "@jupyter-widgets/controls",
            "_model_module_version": "1.5.0",
            "_model_name": "DescriptionStyleModel",
            "_view_count": null,
            "_view_module": "@jupyter-widgets/base",
            "_view_module_version": "1.2.0",
            "_view_name": "StyleView",
            "description_width": ""
          }
        },
        "c5a6bb479d5a4712b37f02fd059ffbf8": {
          "model_module": "@jupyter-widgets/controls",
          "model_name": "HBoxModel",
          "model_module_version": "1.5.0",
          "state": {
            "_dom_classes": [],
            "_model_module": "@jupyter-widgets/controls",
            "_model_module_version": "1.5.0",
            "_model_name": "HBoxModel",
            "_view_count": null,
            "_view_module": "@jupyter-widgets/controls",
            "_view_module_version": "1.5.0",
            "_view_name": "HBoxView",
            "box_style": "",
            "children": [
              "IPY_MODEL_22a856a4e94a49738319355017ca8613",
              "IPY_MODEL_830f7f1dd6474ca4bc29438c49955ce6",
              "IPY_MODEL_41db7d962d944749ad6feabe6614b5fe"
            ],
            "layout": "IPY_MODEL_41adb68fc6734d0485b107a9382315c3"
          }
        },
        "22a856a4e94a49738319355017ca8613": {
          "model_module": "@jupyter-widgets/controls",
          "model_name": "HTMLModel",
          "model_module_version": "1.5.0",
          "state": {
            "_dom_classes": [],
            "_model_module": "@jupyter-widgets/controls",
            "_model_module_version": "1.5.0",
            "_model_name": "HTMLModel",
            "_view_count": null,
            "_view_module": "@jupyter-widgets/controls",
            "_view_module_version": "1.5.0",
            "_view_name": "HTMLView",
            "description": "",
            "description_tooltip": null,
            "layout": "IPY_MODEL_d4182eedc7ff42e5985298354a900d81",
            "placeholder": "​",
            "style": "IPY_MODEL_4860434ca7754aa1a662399c1c22fb4f",
            "value": "Generating train split: 100%"
          }
        },
        "830f7f1dd6474ca4bc29438c49955ce6": {
          "model_module": "@jupyter-widgets/controls",
          "model_name": "FloatProgressModel",
          "model_module_version": "1.5.0",
          "state": {
            "_dom_classes": [],
            "_model_module": "@jupyter-widgets/controls",
            "_model_module_version": "1.5.0",
            "_model_name": "FloatProgressModel",
            "_view_count": null,
            "_view_module": "@jupyter-widgets/controls",
            "_view_module_version": "1.5.0",
            "_view_name": "ProgressView",
            "bar_style": "success",
            "description": "",
            "description_tooltip": null,
            "layout": "IPY_MODEL_5dad28e41b30438796892a0594a4e326",
            "max": 25000,
            "min": 0,
            "orientation": "horizontal",
            "style": "IPY_MODEL_83589b29c6bd48e4aa64a9b3187ce22c",
            "value": 25000
          }
        },
        "41db7d962d944749ad6feabe6614b5fe": {
          "model_module": "@jupyter-widgets/controls",
          "model_name": "HTMLModel",
          "model_module_version": "1.5.0",
          "state": {
            "_dom_classes": [],
            "_model_module": "@jupyter-widgets/controls",
            "_model_module_version": "1.5.0",
            "_model_name": "HTMLModel",
            "_view_count": null,
            "_view_module": "@jupyter-widgets/controls",
            "_view_module_version": "1.5.0",
            "_view_name": "HTMLView",
            "description": "",
            "description_tooltip": null,
            "layout": "IPY_MODEL_a3c73de06f2948008ca6c7e9c31ed53b",
            "placeholder": "​",
            "style": "IPY_MODEL_71675f6942944cd99c0b5dbe6a6b0acf",
            "value": " 25000/25000 [00:00&lt;00:00, 54532.20 examples/s]"
          }
        },
        "41adb68fc6734d0485b107a9382315c3": {
          "model_module": "@jupyter-widgets/base",
          "model_name": "LayoutModel",
          "model_module_version": "1.2.0",
          "state": {
            "_model_module": "@jupyter-widgets/base",
            "_model_module_version": "1.2.0",
            "_model_name": "LayoutModel",
            "_view_count": null,
            "_view_module": "@jupyter-widgets/base",
            "_view_module_version": "1.2.0",
            "_view_name": "LayoutView",
            "align_content": null,
            "align_items": null,
            "align_self": null,
            "border": null,
            "bottom": null,
            "display": null,
            "flex": null,
            "flex_flow": null,
            "grid_area": null,
            "grid_auto_columns": null,
            "grid_auto_flow": null,
            "grid_auto_rows": null,
            "grid_column": null,
            "grid_gap": null,
            "grid_row": null,
            "grid_template_areas": null,
            "grid_template_columns": null,
            "grid_template_rows": null,
            "height": null,
            "justify_content": null,
            "justify_items": null,
            "left": null,
            "margin": null,
            "max_height": null,
            "max_width": null,
            "min_height": null,
            "min_width": null,
            "object_fit": null,
            "object_position": null,
            "order": null,
            "overflow": null,
            "overflow_x": null,
            "overflow_y": null,
            "padding": null,
            "right": null,
            "top": null,
            "visibility": null,
            "width": null
          }
        },
        "d4182eedc7ff42e5985298354a900d81": {
          "model_module": "@jupyter-widgets/base",
          "model_name": "LayoutModel",
          "model_module_version": "1.2.0",
          "state": {
            "_model_module": "@jupyter-widgets/base",
            "_model_module_version": "1.2.0",
            "_model_name": "LayoutModel",
            "_view_count": null,
            "_view_module": "@jupyter-widgets/base",
            "_view_module_version": "1.2.0",
            "_view_name": "LayoutView",
            "align_content": null,
            "align_items": null,
            "align_self": null,
            "border": null,
            "bottom": null,
            "display": null,
            "flex": null,
            "flex_flow": null,
            "grid_area": null,
            "grid_auto_columns": null,
            "grid_auto_flow": null,
            "grid_auto_rows": null,
            "grid_column": null,
            "grid_gap": null,
            "grid_row": null,
            "grid_template_areas": null,
            "grid_template_columns": null,
            "grid_template_rows": null,
            "height": null,
            "justify_content": null,
            "justify_items": null,
            "left": null,
            "margin": null,
            "max_height": null,
            "max_width": null,
            "min_height": null,
            "min_width": null,
            "object_fit": null,
            "object_position": null,
            "order": null,
            "overflow": null,
            "overflow_x": null,
            "overflow_y": null,
            "padding": null,
            "right": null,
            "top": null,
            "visibility": null,
            "width": null
          }
        },
        "4860434ca7754aa1a662399c1c22fb4f": {
          "model_module": "@jupyter-widgets/controls",
          "model_name": "DescriptionStyleModel",
          "model_module_version": "1.5.0",
          "state": {
            "_model_module": "@jupyter-widgets/controls",
            "_model_module_version": "1.5.0",
            "_model_name": "DescriptionStyleModel",
            "_view_count": null,
            "_view_module": "@jupyter-widgets/base",
            "_view_module_version": "1.2.0",
            "_view_name": "StyleView",
            "description_width": ""
          }
        },
        "5dad28e41b30438796892a0594a4e326": {
          "model_module": "@jupyter-widgets/base",
          "model_name": "LayoutModel",
          "model_module_version": "1.2.0",
          "state": {
            "_model_module": "@jupyter-widgets/base",
            "_model_module_version": "1.2.0",
            "_model_name": "LayoutModel",
            "_view_count": null,
            "_view_module": "@jupyter-widgets/base",
            "_view_module_version": "1.2.0",
            "_view_name": "LayoutView",
            "align_content": null,
            "align_items": null,
            "align_self": null,
            "border": null,
            "bottom": null,
            "display": null,
            "flex": null,
            "flex_flow": null,
            "grid_area": null,
            "grid_auto_columns": null,
            "grid_auto_flow": null,
            "grid_auto_rows": null,
            "grid_column": null,
            "grid_gap": null,
            "grid_row": null,
            "grid_template_areas": null,
            "grid_template_columns": null,
            "grid_template_rows": null,
            "height": null,
            "justify_content": null,
            "justify_items": null,
            "left": null,
            "margin": null,
            "max_height": null,
            "max_width": null,
            "min_height": null,
            "min_width": null,
            "object_fit": null,
            "object_position": null,
            "order": null,
            "overflow": null,
            "overflow_x": null,
            "overflow_y": null,
            "padding": null,
            "right": null,
            "top": null,
            "visibility": null,
            "width": null
          }
        },
        "83589b29c6bd48e4aa64a9b3187ce22c": {
          "model_module": "@jupyter-widgets/controls",
          "model_name": "ProgressStyleModel",
          "model_module_version": "1.5.0",
          "state": {
            "_model_module": "@jupyter-widgets/controls",
            "_model_module_version": "1.5.0",
            "_model_name": "ProgressStyleModel",
            "_view_count": null,
            "_view_module": "@jupyter-widgets/base",
            "_view_module_version": "1.2.0",
            "_view_name": "StyleView",
            "bar_color": null,
            "description_width": ""
          }
        },
        "a3c73de06f2948008ca6c7e9c31ed53b": {
          "model_module": "@jupyter-widgets/base",
          "model_name": "LayoutModel",
          "model_module_version": "1.2.0",
          "state": {
            "_model_module": "@jupyter-widgets/base",
            "_model_module_version": "1.2.0",
            "_model_name": "LayoutModel",
            "_view_count": null,
            "_view_module": "@jupyter-widgets/base",
            "_view_module_version": "1.2.0",
            "_view_name": "LayoutView",
            "align_content": null,
            "align_items": null,
            "align_self": null,
            "border": null,
            "bottom": null,
            "display": null,
            "flex": null,
            "flex_flow": null,
            "grid_area": null,
            "grid_auto_columns": null,
            "grid_auto_flow": null,
            "grid_auto_rows": null,
            "grid_column": null,
            "grid_gap": null,
            "grid_row": null,
            "grid_template_areas": null,
            "grid_template_columns": null,
            "grid_template_rows": null,
            "height": null,
            "justify_content": null,
            "justify_items": null,
            "left": null,
            "margin": null,
            "max_height": null,
            "max_width": null,
            "min_height": null,
            "min_width": null,
            "object_fit": null,
            "object_position": null,
            "order": null,
            "overflow": null,
            "overflow_x": null,
            "overflow_y": null,
            "padding": null,
            "right": null,
            "top": null,
            "visibility": null,
            "width": null
          }
        },
        "71675f6942944cd99c0b5dbe6a6b0acf": {
          "model_module": "@jupyter-widgets/controls",
          "model_name": "DescriptionStyleModel",
          "model_module_version": "1.5.0",
          "state": {
            "_model_module": "@jupyter-widgets/controls",
            "_model_module_version": "1.5.0",
            "_model_name": "DescriptionStyleModel",
            "_view_count": null,
            "_view_module": "@jupyter-widgets/base",
            "_view_module_version": "1.2.0",
            "_view_name": "StyleView",
            "description_width": ""
          }
        },
        "7798725f74854c30be7f0b5d4ef6ad9c": {
          "model_module": "@jupyter-widgets/controls",
          "model_name": "HBoxModel",
          "model_module_version": "1.5.0",
          "state": {
            "_dom_classes": [],
            "_model_module": "@jupyter-widgets/controls",
            "_model_module_version": "1.5.0",
            "_model_name": "HBoxModel",
            "_view_count": null,
            "_view_module": "@jupyter-widgets/controls",
            "_view_module_version": "1.5.0",
            "_view_name": "HBoxView",
            "box_style": "",
            "children": [
              "IPY_MODEL_a84bb4e15c034888984d7f9eb32db603",
              "IPY_MODEL_9303660a347b49b69c0a6d92a0987628",
              "IPY_MODEL_92cf3918713b47d99ab4446f6ed32991"
            ],
            "layout": "IPY_MODEL_3f6aa44e3ad84a189334e845df96430f"
          }
        },
        "a84bb4e15c034888984d7f9eb32db603": {
          "model_module": "@jupyter-widgets/controls",
          "model_name": "HTMLModel",
          "model_module_version": "1.5.0",
          "state": {
            "_dom_classes": [],
            "_model_module": "@jupyter-widgets/controls",
            "_model_module_version": "1.5.0",
            "_model_name": "HTMLModel",
            "_view_count": null,
            "_view_module": "@jupyter-widgets/controls",
            "_view_module_version": "1.5.0",
            "_view_name": "HTMLView",
            "description": "",
            "description_tooltip": null,
            "layout": "IPY_MODEL_b5651e989ba5433a8c08e629b8df89a6",
            "placeholder": "​",
            "style": "IPY_MODEL_4ebf954f32124b8890e9a10b95463b12",
            "value": "Generating test split: 100%"
          }
        },
        "9303660a347b49b69c0a6d92a0987628": {
          "model_module": "@jupyter-widgets/controls",
          "model_name": "FloatProgressModel",
          "model_module_version": "1.5.0",
          "state": {
            "_dom_classes": [],
            "_model_module": "@jupyter-widgets/controls",
            "_model_module_version": "1.5.0",
            "_model_name": "FloatProgressModel",
            "_view_count": null,
            "_view_module": "@jupyter-widgets/controls",
            "_view_module_version": "1.5.0",
            "_view_name": "ProgressView",
            "bar_style": "success",
            "description": "",
            "description_tooltip": null,
            "layout": "IPY_MODEL_00ac68c9928449b08bff868e58aa0cb4",
            "max": 25000,
            "min": 0,
            "orientation": "horizontal",
            "style": "IPY_MODEL_e503e972e401484bafcd007787bd7901",
            "value": 25000
          }
        },
        "92cf3918713b47d99ab4446f6ed32991": {
          "model_module": "@jupyter-widgets/controls",
          "model_name": "HTMLModel",
          "model_module_version": "1.5.0",
          "state": {
            "_dom_classes": [],
            "_model_module": "@jupyter-widgets/controls",
            "_model_module_version": "1.5.0",
            "_model_name": "HTMLModel",
            "_view_count": null,
            "_view_module": "@jupyter-widgets/controls",
            "_view_module_version": "1.5.0",
            "_view_name": "HTMLView",
            "description": "",
            "description_tooltip": null,
            "layout": "IPY_MODEL_8294e996896b48b4bb8e1bb256b04510",
            "placeholder": "​",
            "style": "IPY_MODEL_5481a5dd50c847aa8618355192cdf891",
            "value": " 25000/25000 [00:00&lt;00:00, 113238.81 examples/s]"
          }
        },
        "3f6aa44e3ad84a189334e845df96430f": {
          "model_module": "@jupyter-widgets/base",
          "model_name": "LayoutModel",
          "model_module_version": "1.2.0",
          "state": {
            "_model_module": "@jupyter-widgets/base",
            "_model_module_version": "1.2.0",
            "_model_name": "LayoutModel",
            "_view_count": null,
            "_view_module": "@jupyter-widgets/base",
            "_view_module_version": "1.2.0",
            "_view_name": "LayoutView",
            "align_content": null,
            "align_items": null,
            "align_self": null,
            "border": null,
            "bottom": null,
            "display": null,
            "flex": null,
            "flex_flow": null,
            "grid_area": null,
            "grid_auto_columns": null,
            "grid_auto_flow": null,
            "grid_auto_rows": null,
            "grid_column": null,
            "grid_gap": null,
            "grid_row": null,
            "grid_template_areas": null,
            "grid_template_columns": null,
            "grid_template_rows": null,
            "height": null,
            "justify_content": null,
            "justify_items": null,
            "left": null,
            "margin": null,
            "max_height": null,
            "max_width": null,
            "min_height": null,
            "min_width": null,
            "object_fit": null,
            "object_position": null,
            "order": null,
            "overflow": null,
            "overflow_x": null,
            "overflow_y": null,
            "padding": null,
            "right": null,
            "top": null,
            "visibility": null,
            "width": null
          }
        },
        "b5651e989ba5433a8c08e629b8df89a6": {
          "model_module": "@jupyter-widgets/base",
          "model_name": "LayoutModel",
          "model_module_version": "1.2.0",
          "state": {
            "_model_module": "@jupyter-widgets/base",
            "_model_module_version": "1.2.0",
            "_model_name": "LayoutModel",
            "_view_count": null,
            "_view_module": "@jupyter-widgets/base",
            "_view_module_version": "1.2.0",
            "_view_name": "LayoutView",
            "align_content": null,
            "align_items": null,
            "align_self": null,
            "border": null,
            "bottom": null,
            "display": null,
            "flex": null,
            "flex_flow": null,
            "grid_area": null,
            "grid_auto_columns": null,
            "grid_auto_flow": null,
            "grid_auto_rows": null,
            "grid_column": null,
            "grid_gap": null,
            "grid_row": null,
            "grid_template_areas": null,
            "grid_template_columns": null,
            "grid_template_rows": null,
            "height": null,
            "justify_content": null,
            "justify_items": null,
            "left": null,
            "margin": null,
            "max_height": null,
            "max_width": null,
            "min_height": null,
            "min_width": null,
            "object_fit": null,
            "object_position": null,
            "order": null,
            "overflow": null,
            "overflow_x": null,
            "overflow_y": null,
            "padding": null,
            "right": null,
            "top": null,
            "visibility": null,
            "width": null
          }
        },
        "4ebf954f32124b8890e9a10b95463b12": {
          "model_module": "@jupyter-widgets/controls",
          "model_name": "DescriptionStyleModel",
          "model_module_version": "1.5.0",
          "state": {
            "_model_module": "@jupyter-widgets/controls",
            "_model_module_version": "1.5.0",
            "_model_name": "DescriptionStyleModel",
            "_view_count": null,
            "_view_module": "@jupyter-widgets/base",
            "_view_module_version": "1.2.0",
            "_view_name": "StyleView",
            "description_width": ""
          }
        },
        "00ac68c9928449b08bff868e58aa0cb4": {
          "model_module": "@jupyter-widgets/base",
          "model_name": "LayoutModel",
          "model_module_version": "1.2.0",
          "state": {
            "_model_module": "@jupyter-widgets/base",
            "_model_module_version": "1.2.0",
            "_model_name": "LayoutModel",
            "_view_count": null,
            "_view_module": "@jupyter-widgets/base",
            "_view_module_version": "1.2.0",
            "_view_name": "LayoutView",
            "align_content": null,
            "align_items": null,
            "align_self": null,
            "border": null,
            "bottom": null,
            "display": null,
            "flex": null,
            "flex_flow": null,
            "grid_area": null,
            "grid_auto_columns": null,
            "grid_auto_flow": null,
            "grid_auto_rows": null,
            "grid_column": null,
            "grid_gap": null,
            "grid_row": null,
            "grid_template_areas": null,
            "grid_template_columns": null,
            "grid_template_rows": null,
            "height": null,
            "justify_content": null,
            "justify_items": null,
            "left": null,
            "margin": null,
            "max_height": null,
            "max_width": null,
            "min_height": null,
            "min_width": null,
            "object_fit": null,
            "object_position": null,
            "order": null,
            "overflow": null,
            "overflow_x": null,
            "overflow_y": null,
            "padding": null,
            "right": null,
            "top": null,
            "visibility": null,
            "width": null
          }
        },
        "e503e972e401484bafcd007787bd7901": {
          "model_module": "@jupyter-widgets/controls",
          "model_name": "ProgressStyleModel",
          "model_module_version": "1.5.0",
          "state": {
            "_model_module": "@jupyter-widgets/controls",
            "_model_module_version": "1.5.0",
            "_model_name": "ProgressStyleModel",
            "_view_count": null,
            "_view_module": "@jupyter-widgets/base",
            "_view_module_version": "1.2.0",
            "_view_name": "StyleView",
            "bar_color": null,
            "description_width": ""
          }
        },
        "8294e996896b48b4bb8e1bb256b04510": {
          "model_module": "@jupyter-widgets/base",
          "model_name": "LayoutModel",
          "model_module_version": "1.2.0",
          "state": {
            "_model_module": "@jupyter-widgets/base",
            "_model_module_version": "1.2.0",
            "_model_name": "LayoutModel",
            "_view_count": null,
            "_view_module": "@jupyter-widgets/base",
            "_view_module_version": "1.2.0",
            "_view_name": "LayoutView",
            "align_content": null,
            "align_items": null,
            "align_self": null,
            "border": null,
            "bottom": null,
            "display": null,
            "flex": null,
            "flex_flow": null,
            "grid_area": null,
            "grid_auto_columns": null,
            "grid_auto_flow": null,
            "grid_auto_rows": null,
            "grid_column": null,
            "grid_gap": null,
            "grid_row": null,
            "grid_template_areas": null,
            "grid_template_columns": null,
            "grid_template_rows": null,
            "height": null,
            "justify_content": null,
            "justify_items": null,
            "left": null,
            "margin": null,
            "max_height": null,
            "max_width": null,
            "min_height": null,
            "min_width": null,
            "object_fit": null,
            "object_position": null,
            "order": null,
            "overflow": null,
            "overflow_x": null,
            "overflow_y": null,
            "padding": null,
            "right": null,
            "top": null,
            "visibility": null,
            "width": null
          }
        },
        "5481a5dd50c847aa8618355192cdf891": {
          "model_module": "@jupyter-widgets/controls",
          "model_name": "DescriptionStyleModel",
          "model_module_version": "1.5.0",
          "state": {
            "_model_module": "@jupyter-widgets/controls",
            "_model_module_version": "1.5.0",
            "_model_name": "DescriptionStyleModel",
            "_view_count": null,
            "_view_module": "@jupyter-widgets/base",
            "_view_module_version": "1.2.0",
            "_view_name": "StyleView",
            "description_width": ""
          }
        },
        "8951045e36084a17a72995c41d5ecc0e": {
          "model_module": "@jupyter-widgets/controls",
          "model_name": "HBoxModel",
          "model_module_version": "1.5.0",
          "state": {
            "_dom_classes": [],
            "_model_module": "@jupyter-widgets/controls",
            "_model_module_version": "1.5.0",
            "_model_name": "HBoxModel",
            "_view_count": null,
            "_view_module": "@jupyter-widgets/controls",
            "_view_module_version": "1.5.0",
            "_view_name": "HBoxView",
            "box_style": "",
            "children": [
              "IPY_MODEL_9d0948d155f344f6999e8e91b91716b9",
              "IPY_MODEL_62a861003600451d9d071317474a3c82",
              "IPY_MODEL_437cae25424b4f42a3b3418e7de23f15"
            ],
            "layout": "IPY_MODEL_3500cb82212d4773b60638bdbcb20d4d"
          }
        },
        "9d0948d155f344f6999e8e91b91716b9": {
          "model_module": "@jupyter-widgets/controls",
          "model_name": "HTMLModel",
          "model_module_version": "1.5.0",
          "state": {
            "_dom_classes": [],
            "_model_module": "@jupyter-widgets/controls",
            "_model_module_version": "1.5.0",
            "_model_name": "HTMLModel",
            "_view_count": null,
            "_view_module": "@jupyter-widgets/controls",
            "_view_module_version": "1.5.0",
            "_view_name": "HTMLView",
            "description": "",
            "description_tooltip": null,
            "layout": "IPY_MODEL_c5c8309e16cf4c9f905d48c9d819a085",
            "placeholder": "​",
            "style": "IPY_MODEL_b69799ace4244220890162be739d168f",
            "value": "Generating unsupervised split: 100%"
          }
        },
        "62a861003600451d9d071317474a3c82": {
          "model_module": "@jupyter-widgets/controls",
          "model_name": "FloatProgressModel",
          "model_module_version": "1.5.0",
          "state": {
            "_dom_classes": [],
            "_model_module": "@jupyter-widgets/controls",
            "_model_module_version": "1.5.0",
            "_model_name": "FloatProgressModel",
            "_view_count": null,
            "_view_module": "@jupyter-widgets/controls",
            "_view_module_version": "1.5.0",
            "_view_name": "ProgressView",
            "bar_style": "success",
            "description": "",
            "description_tooltip": null,
            "layout": "IPY_MODEL_514b9ba16e8044cf9de73d04e5795b8b",
            "max": 50000,
            "min": 0,
            "orientation": "horizontal",
            "style": "IPY_MODEL_c9f8a65688c34a6bb4990e2b3ada1ed5",
            "value": 50000
          }
        },
        "437cae25424b4f42a3b3418e7de23f15": {
          "model_module": "@jupyter-widgets/controls",
          "model_name": "HTMLModel",
          "model_module_version": "1.5.0",
          "state": {
            "_dom_classes": [],
            "_model_module": "@jupyter-widgets/controls",
            "_model_module_version": "1.5.0",
            "_model_name": "HTMLModel",
            "_view_count": null,
            "_view_module": "@jupyter-widgets/controls",
            "_view_module_version": "1.5.0",
            "_view_name": "HTMLView",
            "description": "",
            "description_tooltip": null,
            "layout": "IPY_MODEL_dc9b3905e1824cc783378b96560c4872",
            "placeholder": "​",
            "style": "IPY_MODEL_5c60f40e5b3147269f62c26c6650b6f6",
            "value": " 50000/50000 [00:00&lt;00:00, 109544.16 examples/s]"
          }
        },
        "3500cb82212d4773b60638bdbcb20d4d": {
          "model_module": "@jupyter-widgets/base",
          "model_name": "LayoutModel",
          "model_module_version": "1.2.0",
          "state": {
            "_model_module": "@jupyter-widgets/base",
            "_model_module_version": "1.2.0",
            "_model_name": "LayoutModel",
            "_view_count": null,
            "_view_module": "@jupyter-widgets/base",
            "_view_module_version": "1.2.0",
            "_view_name": "LayoutView",
            "align_content": null,
            "align_items": null,
            "align_self": null,
            "border": null,
            "bottom": null,
            "display": null,
            "flex": null,
            "flex_flow": null,
            "grid_area": null,
            "grid_auto_columns": null,
            "grid_auto_flow": null,
            "grid_auto_rows": null,
            "grid_column": null,
            "grid_gap": null,
            "grid_row": null,
            "grid_template_areas": null,
            "grid_template_columns": null,
            "grid_template_rows": null,
            "height": null,
            "justify_content": null,
            "justify_items": null,
            "left": null,
            "margin": null,
            "max_height": null,
            "max_width": null,
            "min_height": null,
            "min_width": null,
            "object_fit": null,
            "object_position": null,
            "order": null,
            "overflow": null,
            "overflow_x": null,
            "overflow_y": null,
            "padding": null,
            "right": null,
            "top": null,
            "visibility": null,
            "width": null
          }
        },
        "c5c8309e16cf4c9f905d48c9d819a085": {
          "model_module": "@jupyter-widgets/base",
          "model_name": "LayoutModel",
          "model_module_version": "1.2.0",
          "state": {
            "_model_module": "@jupyter-widgets/base",
            "_model_module_version": "1.2.0",
            "_model_name": "LayoutModel",
            "_view_count": null,
            "_view_module": "@jupyter-widgets/base",
            "_view_module_version": "1.2.0",
            "_view_name": "LayoutView",
            "align_content": null,
            "align_items": null,
            "align_self": null,
            "border": null,
            "bottom": null,
            "display": null,
            "flex": null,
            "flex_flow": null,
            "grid_area": null,
            "grid_auto_columns": null,
            "grid_auto_flow": null,
            "grid_auto_rows": null,
            "grid_column": null,
            "grid_gap": null,
            "grid_row": null,
            "grid_template_areas": null,
            "grid_template_columns": null,
            "grid_template_rows": null,
            "height": null,
            "justify_content": null,
            "justify_items": null,
            "left": null,
            "margin": null,
            "max_height": null,
            "max_width": null,
            "min_height": null,
            "min_width": null,
            "object_fit": null,
            "object_position": null,
            "order": null,
            "overflow": null,
            "overflow_x": null,
            "overflow_y": null,
            "padding": null,
            "right": null,
            "top": null,
            "visibility": null,
            "width": null
          }
        },
        "b69799ace4244220890162be739d168f": {
          "model_module": "@jupyter-widgets/controls",
          "model_name": "DescriptionStyleModel",
          "model_module_version": "1.5.0",
          "state": {
            "_model_module": "@jupyter-widgets/controls",
            "_model_module_version": "1.5.0",
            "_model_name": "DescriptionStyleModel",
            "_view_count": null,
            "_view_module": "@jupyter-widgets/base",
            "_view_module_version": "1.2.0",
            "_view_name": "StyleView",
            "description_width": ""
          }
        },
        "514b9ba16e8044cf9de73d04e5795b8b": {
          "model_module": "@jupyter-widgets/base",
          "model_name": "LayoutModel",
          "model_module_version": "1.2.0",
          "state": {
            "_model_module": "@jupyter-widgets/base",
            "_model_module_version": "1.2.0",
            "_model_name": "LayoutModel",
            "_view_count": null,
            "_view_module": "@jupyter-widgets/base",
            "_view_module_version": "1.2.0",
            "_view_name": "LayoutView",
            "align_content": null,
            "align_items": null,
            "align_self": null,
            "border": null,
            "bottom": null,
            "display": null,
            "flex": null,
            "flex_flow": null,
            "grid_area": null,
            "grid_auto_columns": null,
            "grid_auto_flow": null,
            "grid_auto_rows": null,
            "grid_column": null,
            "grid_gap": null,
            "grid_row": null,
            "grid_template_areas": null,
            "grid_template_columns": null,
            "grid_template_rows": null,
            "height": null,
            "justify_content": null,
            "justify_items": null,
            "left": null,
            "margin": null,
            "max_height": null,
            "max_width": null,
            "min_height": null,
            "min_width": null,
            "object_fit": null,
            "object_position": null,
            "order": null,
            "overflow": null,
            "overflow_x": null,
            "overflow_y": null,
            "padding": null,
            "right": null,
            "top": null,
            "visibility": null,
            "width": null
          }
        },
        "c9f8a65688c34a6bb4990e2b3ada1ed5": {
          "model_module": "@jupyter-widgets/controls",
          "model_name": "ProgressStyleModel",
          "model_module_version": "1.5.0",
          "state": {
            "_model_module": "@jupyter-widgets/controls",
            "_model_module_version": "1.5.0",
            "_model_name": "ProgressStyleModel",
            "_view_count": null,
            "_view_module": "@jupyter-widgets/base",
            "_view_module_version": "1.2.0",
            "_view_name": "StyleView",
            "bar_color": null,
            "description_width": ""
          }
        },
        "dc9b3905e1824cc783378b96560c4872": {
          "model_module": "@jupyter-widgets/base",
          "model_name": "LayoutModel",
          "model_module_version": "1.2.0",
          "state": {
            "_model_module": "@jupyter-widgets/base",
            "_model_module_version": "1.2.0",
            "_model_name": "LayoutModel",
            "_view_count": null,
            "_view_module": "@jupyter-widgets/base",
            "_view_module_version": "1.2.0",
            "_view_name": "LayoutView",
            "align_content": null,
            "align_items": null,
            "align_self": null,
            "border": null,
            "bottom": null,
            "display": null,
            "flex": null,
            "flex_flow": null,
            "grid_area": null,
            "grid_auto_columns": null,
            "grid_auto_flow": null,
            "grid_auto_rows": null,
            "grid_column": null,
            "grid_gap": null,
            "grid_row": null,
            "grid_template_areas": null,
            "grid_template_columns": null,
            "grid_template_rows": null,
            "height": null,
            "justify_content": null,
            "justify_items": null,
            "left": null,
            "margin": null,
            "max_height": null,
            "max_width": null,
            "min_height": null,
            "min_width": null,
            "object_fit": null,
            "object_position": null,
            "order": null,
            "overflow": null,
            "overflow_x": null,
            "overflow_y": null,
            "padding": null,
            "right": null,
            "top": null,
            "visibility": null,
            "width": null
          }
        },
        "5c60f40e5b3147269f62c26c6650b6f6": {
          "model_module": "@jupyter-widgets/controls",
          "model_name": "DescriptionStyleModel",
          "model_module_version": "1.5.0",
          "state": {
            "_model_module": "@jupyter-widgets/controls",
            "_model_module_version": "1.5.0",
            "_model_name": "DescriptionStyleModel",
            "_view_count": null,
            "_view_module": "@jupyter-widgets/base",
            "_view_module_version": "1.2.0",
            "_view_name": "StyleView",
            "description_width": ""
          }
        },
        "d922f85fb5f64264b003c5073d8d3ee4": {
          "model_module": "@jupyter-widgets/controls",
          "model_name": "HBoxModel",
          "model_module_version": "1.5.0",
          "state": {
            "_dom_classes": [],
            "_model_module": "@jupyter-widgets/controls",
            "_model_module_version": "1.5.0",
            "_model_name": "HBoxModel",
            "_view_count": null,
            "_view_module": "@jupyter-widgets/controls",
            "_view_module_version": "1.5.0",
            "_view_name": "HBoxView",
            "box_style": "",
            "children": [
              "IPY_MODEL_ee8de5e029a34ed39a99e0d941265e44",
              "IPY_MODEL_8b55cd1c5d1c47948acb58c934c144cf",
              "IPY_MODEL_00b35a150c6f4b38bc533f6c7a597862"
            ],
            "layout": "IPY_MODEL_bdb1584564da43f79b6b66d95f14ed46"
          }
        },
        "ee8de5e029a34ed39a99e0d941265e44": {
          "model_module": "@jupyter-widgets/controls",
          "model_name": "HTMLModel",
          "model_module_version": "1.5.0",
          "state": {
            "_dom_classes": [],
            "_model_module": "@jupyter-widgets/controls",
            "_model_module_version": "1.5.0",
            "_model_name": "HTMLModel",
            "_view_count": null,
            "_view_module": "@jupyter-widgets/controls",
            "_view_module_version": "1.5.0",
            "_view_name": "HTMLView",
            "description": "",
            "description_tooltip": null,
            "layout": "IPY_MODEL_5807864a3ba0462780a4f7c0b4547bc1",
            "placeholder": "​",
            "style": "IPY_MODEL_6af0acdb011a45b69adbe60045d58cd1",
            "value": "Map: 100%"
          }
        },
        "8b55cd1c5d1c47948acb58c934c144cf": {
          "model_module": "@jupyter-widgets/controls",
          "model_name": "FloatProgressModel",
          "model_module_version": "1.5.0",
          "state": {
            "_dom_classes": [],
            "_model_module": "@jupyter-widgets/controls",
            "_model_module_version": "1.5.0",
            "_model_name": "FloatProgressModel",
            "_view_count": null,
            "_view_module": "@jupyter-widgets/controls",
            "_view_module_version": "1.5.0",
            "_view_name": "ProgressView",
            "bar_style": "success",
            "description": "",
            "description_tooltip": null,
            "layout": "IPY_MODEL_26bc76db35ed41e790d7c544fa524e80",
            "max": 25000,
            "min": 0,
            "orientation": "horizontal",
            "style": "IPY_MODEL_e977aa0fded3436cb0691f098fb25024",
            "value": 25000
          }
        },
        "00b35a150c6f4b38bc533f6c7a597862": {
          "model_module": "@jupyter-widgets/controls",
          "model_name": "HTMLModel",
          "model_module_version": "1.5.0",
          "state": {
            "_dom_classes": [],
            "_model_module": "@jupyter-widgets/controls",
            "_model_module_version": "1.5.0",
            "_model_name": "HTMLModel",
            "_view_count": null,
            "_view_module": "@jupyter-widgets/controls",
            "_view_module_version": "1.5.0",
            "_view_name": "HTMLView",
            "description": "",
            "description_tooltip": null,
            "layout": "IPY_MODEL_9c6072ee2b3449afbed32f0b86c15401",
            "placeholder": "​",
            "style": "IPY_MODEL_6be4584cfc9b44d08f04340a9540d53c",
            "value": " 25000/25000 [00:07&lt;00:00, 3567.17 examples/s]"
          }
        },
        "bdb1584564da43f79b6b66d95f14ed46": {
          "model_module": "@jupyter-widgets/base",
          "model_name": "LayoutModel",
          "model_module_version": "1.2.0",
          "state": {
            "_model_module": "@jupyter-widgets/base",
            "_model_module_version": "1.2.0",
            "_model_name": "LayoutModel",
            "_view_count": null,
            "_view_module": "@jupyter-widgets/base",
            "_view_module_version": "1.2.0",
            "_view_name": "LayoutView",
            "align_content": null,
            "align_items": null,
            "align_self": null,
            "border": null,
            "bottom": null,
            "display": null,
            "flex": null,
            "flex_flow": null,
            "grid_area": null,
            "grid_auto_columns": null,
            "grid_auto_flow": null,
            "grid_auto_rows": null,
            "grid_column": null,
            "grid_gap": null,
            "grid_row": null,
            "grid_template_areas": null,
            "grid_template_columns": null,
            "grid_template_rows": null,
            "height": null,
            "justify_content": null,
            "justify_items": null,
            "left": null,
            "margin": null,
            "max_height": null,
            "max_width": null,
            "min_height": null,
            "min_width": null,
            "object_fit": null,
            "object_position": null,
            "order": null,
            "overflow": null,
            "overflow_x": null,
            "overflow_y": null,
            "padding": null,
            "right": null,
            "top": null,
            "visibility": null,
            "width": null
          }
        },
        "5807864a3ba0462780a4f7c0b4547bc1": {
          "model_module": "@jupyter-widgets/base",
          "model_name": "LayoutModel",
          "model_module_version": "1.2.0",
          "state": {
            "_model_module": "@jupyter-widgets/base",
            "_model_module_version": "1.2.0",
            "_model_name": "LayoutModel",
            "_view_count": null,
            "_view_module": "@jupyter-widgets/base",
            "_view_module_version": "1.2.0",
            "_view_name": "LayoutView",
            "align_content": null,
            "align_items": null,
            "align_self": null,
            "border": null,
            "bottom": null,
            "display": null,
            "flex": null,
            "flex_flow": null,
            "grid_area": null,
            "grid_auto_columns": null,
            "grid_auto_flow": null,
            "grid_auto_rows": null,
            "grid_column": null,
            "grid_gap": null,
            "grid_row": null,
            "grid_template_areas": null,
            "grid_template_columns": null,
            "grid_template_rows": null,
            "height": null,
            "justify_content": null,
            "justify_items": null,
            "left": null,
            "margin": null,
            "max_height": null,
            "max_width": null,
            "min_height": null,
            "min_width": null,
            "object_fit": null,
            "object_position": null,
            "order": null,
            "overflow": null,
            "overflow_x": null,
            "overflow_y": null,
            "padding": null,
            "right": null,
            "top": null,
            "visibility": null,
            "width": null
          }
        },
        "6af0acdb011a45b69adbe60045d58cd1": {
          "model_module": "@jupyter-widgets/controls",
          "model_name": "DescriptionStyleModel",
          "model_module_version": "1.5.0",
          "state": {
            "_model_module": "@jupyter-widgets/controls",
            "_model_module_version": "1.5.0",
            "_model_name": "DescriptionStyleModel",
            "_view_count": null,
            "_view_module": "@jupyter-widgets/base",
            "_view_module_version": "1.2.0",
            "_view_name": "StyleView",
            "description_width": ""
          }
        },
        "26bc76db35ed41e790d7c544fa524e80": {
          "model_module": "@jupyter-widgets/base",
          "model_name": "LayoutModel",
          "model_module_version": "1.2.0",
          "state": {
            "_model_module": "@jupyter-widgets/base",
            "_model_module_version": "1.2.0",
            "_model_name": "LayoutModel",
            "_view_count": null,
            "_view_module": "@jupyter-widgets/base",
            "_view_module_version": "1.2.0",
            "_view_name": "LayoutView",
            "align_content": null,
            "align_items": null,
            "align_self": null,
            "border": null,
            "bottom": null,
            "display": null,
            "flex": null,
            "flex_flow": null,
            "grid_area": null,
            "grid_auto_columns": null,
            "grid_auto_flow": null,
            "grid_auto_rows": null,
            "grid_column": null,
            "grid_gap": null,
            "grid_row": null,
            "grid_template_areas": null,
            "grid_template_columns": null,
            "grid_template_rows": null,
            "height": null,
            "justify_content": null,
            "justify_items": null,
            "left": null,
            "margin": null,
            "max_height": null,
            "max_width": null,
            "min_height": null,
            "min_width": null,
            "object_fit": null,
            "object_position": null,
            "order": null,
            "overflow": null,
            "overflow_x": null,
            "overflow_y": null,
            "padding": null,
            "right": null,
            "top": null,
            "visibility": null,
            "width": null
          }
        },
        "e977aa0fded3436cb0691f098fb25024": {
          "model_module": "@jupyter-widgets/controls",
          "model_name": "ProgressStyleModel",
          "model_module_version": "1.5.0",
          "state": {
            "_model_module": "@jupyter-widgets/controls",
            "_model_module_version": "1.5.0",
            "_model_name": "ProgressStyleModel",
            "_view_count": null,
            "_view_module": "@jupyter-widgets/base",
            "_view_module_version": "1.2.0",
            "_view_name": "StyleView",
            "bar_color": null,
            "description_width": ""
          }
        },
        "9c6072ee2b3449afbed32f0b86c15401": {
          "model_module": "@jupyter-widgets/base",
          "model_name": "LayoutModel",
          "model_module_version": "1.2.0",
          "state": {
            "_model_module": "@jupyter-widgets/base",
            "_model_module_version": "1.2.0",
            "_model_name": "LayoutModel",
            "_view_count": null,
            "_view_module": "@jupyter-widgets/base",
            "_view_module_version": "1.2.0",
            "_view_name": "LayoutView",
            "align_content": null,
            "align_items": null,
            "align_self": null,
            "border": null,
            "bottom": null,
            "display": null,
            "flex": null,
            "flex_flow": null,
            "grid_area": null,
            "grid_auto_columns": null,
            "grid_auto_flow": null,
            "grid_auto_rows": null,
            "grid_column": null,
            "grid_gap": null,
            "grid_row": null,
            "grid_template_areas": null,
            "grid_template_columns": null,
            "grid_template_rows": null,
            "height": null,
            "justify_content": null,
            "justify_items": null,
            "left": null,
            "margin": null,
            "max_height": null,
            "max_width": null,
            "min_height": null,
            "min_width": null,
            "object_fit": null,
            "object_position": null,
            "order": null,
            "overflow": null,
            "overflow_x": null,
            "overflow_y": null,
            "padding": null,
            "right": null,
            "top": null,
            "visibility": null,
            "width": null
          }
        },
        "6be4584cfc9b44d08f04340a9540d53c": {
          "model_module": "@jupyter-widgets/controls",
          "model_name": "DescriptionStyleModel",
          "model_module_version": "1.5.0",
          "state": {
            "_model_module": "@jupyter-widgets/controls",
            "_model_module_version": "1.5.0",
            "_model_name": "DescriptionStyleModel",
            "_view_count": null,
            "_view_module": "@jupyter-widgets/base",
            "_view_module_version": "1.2.0",
            "_view_name": "StyleView",
            "description_width": ""
          }
        },
        "c3c887a4863e49b0b6d2ff149a762f83": {
          "model_module": "@jupyter-widgets/controls",
          "model_name": "HBoxModel",
          "model_module_version": "1.5.0",
          "state": {
            "_dom_classes": [],
            "_model_module": "@jupyter-widgets/controls",
            "_model_module_version": "1.5.0",
            "_model_name": "HBoxModel",
            "_view_count": null,
            "_view_module": "@jupyter-widgets/controls",
            "_view_module_version": "1.5.0",
            "_view_name": "HBoxView",
            "box_style": "",
            "children": [
              "IPY_MODEL_bb3dc6736750411089d1cad8f08fb22e",
              "IPY_MODEL_1102494777e744a3b161eaa5253894d3",
              "IPY_MODEL_4528cf37528741039e6a8c12a985c0c4"
            ],
            "layout": "IPY_MODEL_2a6a12c7083241f49963224dea8b6e0c"
          }
        },
        "bb3dc6736750411089d1cad8f08fb22e": {
          "model_module": "@jupyter-widgets/controls",
          "model_name": "HTMLModel",
          "model_module_version": "1.5.0",
          "state": {
            "_dom_classes": [],
            "_model_module": "@jupyter-widgets/controls",
            "_model_module_version": "1.5.0",
            "_model_name": "HTMLModel",
            "_view_count": null,
            "_view_module": "@jupyter-widgets/controls",
            "_view_module_version": "1.5.0",
            "_view_name": "HTMLView",
            "description": "",
            "description_tooltip": null,
            "layout": "IPY_MODEL_58e7bee59d4f41b68aee01dbe67cd73a",
            "placeholder": "​",
            "style": "IPY_MODEL_b329eab447674060811b283370e37f7d",
            "value": "Map: 100%"
          }
        },
        "1102494777e744a3b161eaa5253894d3": {
          "model_module": "@jupyter-widgets/controls",
          "model_name": "FloatProgressModel",
          "model_module_version": "1.5.0",
          "state": {
            "_dom_classes": [],
            "_model_module": "@jupyter-widgets/controls",
            "_model_module_version": "1.5.0",
            "_model_name": "FloatProgressModel",
            "_view_count": null,
            "_view_module": "@jupyter-widgets/controls",
            "_view_module_version": "1.5.0",
            "_view_name": "ProgressView",
            "bar_style": "success",
            "description": "",
            "description_tooltip": null,
            "layout": "IPY_MODEL_075778645240403ea933c317939cc09f",
            "max": 25000,
            "min": 0,
            "orientation": "horizontal",
            "style": "IPY_MODEL_0ea87f3cc22e4623b55299be98a10607",
            "value": 25000
          }
        },
        "4528cf37528741039e6a8c12a985c0c4": {
          "model_module": "@jupyter-widgets/controls",
          "model_name": "HTMLModel",
          "model_module_version": "1.5.0",
          "state": {
            "_dom_classes": [],
            "_model_module": "@jupyter-widgets/controls",
            "_model_module_version": "1.5.0",
            "_model_name": "HTMLModel",
            "_view_count": null,
            "_view_module": "@jupyter-widgets/controls",
            "_view_module_version": "1.5.0",
            "_view_name": "HTMLView",
            "description": "",
            "description_tooltip": null,
            "layout": "IPY_MODEL_0386ac5c8b3549c7a803be8169611a0d",
            "placeholder": "​",
            "style": "IPY_MODEL_288d348261114f0a86903bdb6a3dbb9d",
            "value": " 25000/25000 [00:08&lt;00:00, 3500.23 examples/s]"
          }
        },
        "2a6a12c7083241f49963224dea8b6e0c": {
          "model_module": "@jupyter-widgets/base",
          "model_name": "LayoutModel",
          "model_module_version": "1.2.0",
          "state": {
            "_model_module": "@jupyter-widgets/base",
            "_model_module_version": "1.2.0",
            "_model_name": "LayoutModel",
            "_view_count": null,
            "_view_module": "@jupyter-widgets/base",
            "_view_module_version": "1.2.0",
            "_view_name": "LayoutView",
            "align_content": null,
            "align_items": null,
            "align_self": null,
            "border": null,
            "bottom": null,
            "display": null,
            "flex": null,
            "flex_flow": null,
            "grid_area": null,
            "grid_auto_columns": null,
            "grid_auto_flow": null,
            "grid_auto_rows": null,
            "grid_column": null,
            "grid_gap": null,
            "grid_row": null,
            "grid_template_areas": null,
            "grid_template_columns": null,
            "grid_template_rows": null,
            "height": null,
            "justify_content": null,
            "justify_items": null,
            "left": null,
            "margin": null,
            "max_height": null,
            "max_width": null,
            "min_height": null,
            "min_width": null,
            "object_fit": null,
            "object_position": null,
            "order": null,
            "overflow": null,
            "overflow_x": null,
            "overflow_y": null,
            "padding": null,
            "right": null,
            "top": null,
            "visibility": null,
            "width": null
          }
        },
        "58e7bee59d4f41b68aee01dbe67cd73a": {
          "model_module": "@jupyter-widgets/base",
          "model_name": "LayoutModel",
          "model_module_version": "1.2.0",
          "state": {
            "_model_module": "@jupyter-widgets/base",
            "_model_module_version": "1.2.0",
            "_model_name": "LayoutModel",
            "_view_count": null,
            "_view_module": "@jupyter-widgets/base",
            "_view_module_version": "1.2.0",
            "_view_name": "LayoutView",
            "align_content": null,
            "align_items": null,
            "align_self": null,
            "border": null,
            "bottom": null,
            "display": null,
            "flex": null,
            "flex_flow": null,
            "grid_area": null,
            "grid_auto_columns": null,
            "grid_auto_flow": null,
            "grid_auto_rows": null,
            "grid_column": null,
            "grid_gap": null,
            "grid_row": null,
            "grid_template_areas": null,
            "grid_template_columns": null,
            "grid_template_rows": null,
            "height": null,
            "justify_content": null,
            "justify_items": null,
            "left": null,
            "margin": null,
            "max_height": null,
            "max_width": null,
            "min_height": null,
            "min_width": null,
            "object_fit": null,
            "object_position": null,
            "order": null,
            "overflow": null,
            "overflow_x": null,
            "overflow_y": null,
            "padding": null,
            "right": null,
            "top": null,
            "visibility": null,
            "width": null
          }
        },
        "b329eab447674060811b283370e37f7d": {
          "model_module": "@jupyter-widgets/controls",
          "model_name": "DescriptionStyleModel",
          "model_module_version": "1.5.0",
          "state": {
            "_model_module": "@jupyter-widgets/controls",
            "_model_module_version": "1.5.0",
            "_model_name": "DescriptionStyleModel",
            "_view_count": null,
            "_view_module": "@jupyter-widgets/base",
            "_view_module_version": "1.2.0",
            "_view_name": "StyleView",
            "description_width": ""
          }
        },
        "075778645240403ea933c317939cc09f": {
          "model_module": "@jupyter-widgets/base",
          "model_name": "LayoutModel",
          "model_module_version": "1.2.0",
          "state": {
            "_model_module": "@jupyter-widgets/base",
            "_model_module_version": "1.2.0",
            "_model_name": "LayoutModel",
            "_view_count": null,
            "_view_module": "@jupyter-widgets/base",
            "_view_module_version": "1.2.0",
            "_view_name": "LayoutView",
            "align_content": null,
            "align_items": null,
            "align_self": null,
            "border": null,
            "bottom": null,
            "display": null,
            "flex": null,
            "flex_flow": null,
            "grid_area": null,
            "grid_auto_columns": null,
            "grid_auto_flow": null,
            "grid_auto_rows": null,
            "grid_column": null,
            "grid_gap": null,
            "grid_row": null,
            "grid_template_areas": null,
            "grid_template_columns": null,
            "grid_template_rows": null,
            "height": null,
            "justify_content": null,
            "justify_items": null,
            "left": null,
            "margin": null,
            "max_height": null,
            "max_width": null,
            "min_height": null,
            "min_width": null,
            "object_fit": null,
            "object_position": null,
            "order": null,
            "overflow": null,
            "overflow_x": null,
            "overflow_y": null,
            "padding": null,
            "right": null,
            "top": null,
            "visibility": null,
            "width": null
          }
        },
        "0ea87f3cc22e4623b55299be98a10607": {
          "model_module": "@jupyter-widgets/controls",
          "model_name": "ProgressStyleModel",
          "model_module_version": "1.5.0",
          "state": {
            "_model_module": "@jupyter-widgets/controls",
            "_model_module_version": "1.5.0",
            "_model_name": "ProgressStyleModel",
            "_view_count": null,
            "_view_module": "@jupyter-widgets/base",
            "_view_module_version": "1.2.0",
            "_view_name": "StyleView",
            "bar_color": null,
            "description_width": ""
          }
        },
        "0386ac5c8b3549c7a803be8169611a0d": {
          "model_module": "@jupyter-widgets/base",
          "model_name": "LayoutModel",
          "model_module_version": "1.2.0",
          "state": {
            "_model_module": "@jupyter-widgets/base",
            "_model_module_version": "1.2.0",
            "_model_name": "LayoutModel",
            "_view_count": null,
            "_view_module": "@jupyter-widgets/base",
            "_view_module_version": "1.2.0",
            "_view_name": "LayoutView",
            "align_content": null,
            "align_items": null,
            "align_self": null,
            "border": null,
            "bottom": null,
            "display": null,
            "flex": null,
            "flex_flow": null,
            "grid_area": null,
            "grid_auto_columns": null,
            "grid_auto_flow": null,
            "grid_auto_rows": null,
            "grid_column": null,
            "grid_gap": null,
            "grid_row": null,
            "grid_template_areas": null,
            "grid_template_columns": null,
            "grid_template_rows": null,
            "height": null,
            "justify_content": null,
            "justify_items": null,
            "left": null,
            "margin": null,
            "max_height": null,
            "max_width": null,
            "min_height": null,
            "min_width": null,
            "object_fit": null,
            "object_position": null,
            "order": null,
            "overflow": null,
            "overflow_x": null,
            "overflow_y": null,
            "padding": null,
            "right": null,
            "top": null,
            "visibility": null,
            "width": null
          }
        },
        "288d348261114f0a86903bdb6a3dbb9d": {
          "model_module": "@jupyter-widgets/controls",
          "model_name": "DescriptionStyleModel",
          "model_module_version": "1.5.0",
          "state": {
            "_model_module": "@jupyter-widgets/controls",
            "_model_module_version": "1.5.0",
            "_model_name": "DescriptionStyleModel",
            "_view_count": null,
            "_view_module": "@jupyter-widgets/base",
            "_view_module_version": "1.2.0",
            "_view_name": "StyleView",
            "description_width": ""
          }
        },
        "a9f19a7a2a174a83a09a10df33296ee9": {
          "model_module": "@jupyter-widgets/controls",
          "model_name": "HBoxModel",
          "model_module_version": "1.5.0",
          "state": {
            "_dom_classes": [],
            "_model_module": "@jupyter-widgets/controls",
            "_model_module_version": "1.5.0",
            "_model_name": "HBoxModel",
            "_view_count": null,
            "_view_module": "@jupyter-widgets/controls",
            "_view_module_version": "1.5.0",
            "_view_name": "HBoxView",
            "box_style": "",
            "children": [
              "IPY_MODEL_4b08c4c9c90a41819849b81ac1cde577",
              "IPY_MODEL_e57d8824c1e74e22be956271c9f24294",
              "IPY_MODEL_9bcce3d5841345079b055b2b6ceb9086"
            ],
            "layout": "IPY_MODEL_c1ad8986c29a4761918ecdb67f0542de"
          }
        },
        "4b08c4c9c90a41819849b81ac1cde577": {
          "model_module": "@jupyter-widgets/controls",
          "model_name": "HTMLModel",
          "model_module_version": "1.5.0",
          "state": {
            "_dom_classes": [],
            "_model_module": "@jupyter-widgets/controls",
            "_model_module_version": "1.5.0",
            "_model_name": "HTMLModel",
            "_view_count": null,
            "_view_module": "@jupyter-widgets/controls",
            "_view_module_version": "1.5.0",
            "_view_name": "HTMLView",
            "description": "",
            "description_tooltip": null,
            "layout": "IPY_MODEL_b3eef0bcd0fa4fb79754488d05131f8a",
            "placeholder": "​",
            "style": "IPY_MODEL_f666cedd3ffe444bb3809a69f83f22e5",
            "value": "Map: 100%"
          }
        },
        "e57d8824c1e74e22be956271c9f24294": {
          "model_module": "@jupyter-widgets/controls",
          "model_name": "FloatProgressModel",
          "model_module_version": "1.5.0",
          "state": {
            "_dom_classes": [],
            "_model_module": "@jupyter-widgets/controls",
            "_model_module_version": "1.5.0",
            "_model_name": "FloatProgressModel",
            "_view_count": null,
            "_view_module": "@jupyter-widgets/controls",
            "_view_module_version": "1.5.0",
            "_view_name": "ProgressView",
            "bar_style": "success",
            "description": "",
            "description_tooltip": null,
            "layout": "IPY_MODEL_172270b368864782a77e741379477276",
            "max": 18750,
            "min": 0,
            "orientation": "horizontal",
            "style": "IPY_MODEL_cdc0a8e58e624847b9ea2434e89ef037",
            "value": 18750
          }
        },
        "9bcce3d5841345079b055b2b6ceb9086": {
          "model_module": "@jupyter-widgets/controls",
          "model_name": "HTMLModel",
          "model_module_version": "1.5.0",
          "state": {
            "_dom_classes": [],
            "_model_module": "@jupyter-widgets/controls",
            "_model_module_version": "1.5.0",
            "_model_name": "HTMLModel",
            "_view_count": null,
            "_view_module": "@jupyter-widgets/controls",
            "_view_module_version": "1.5.0",
            "_view_name": "HTMLView",
            "description": "",
            "description_tooltip": null,
            "layout": "IPY_MODEL_9fcf35145a2642169f402f4f615de977",
            "placeholder": "​",
            "style": "IPY_MODEL_c149640780d043c681241ea5f609e3e6",
            "value": " 18750/18750 [00:10&lt;00:00, 2255.45 examples/s]"
          }
        },
        "c1ad8986c29a4761918ecdb67f0542de": {
          "model_module": "@jupyter-widgets/base",
          "model_name": "LayoutModel",
          "model_module_version": "1.2.0",
          "state": {
            "_model_module": "@jupyter-widgets/base",
            "_model_module_version": "1.2.0",
            "_model_name": "LayoutModel",
            "_view_count": null,
            "_view_module": "@jupyter-widgets/base",
            "_view_module_version": "1.2.0",
            "_view_name": "LayoutView",
            "align_content": null,
            "align_items": null,
            "align_self": null,
            "border": null,
            "bottom": null,
            "display": null,
            "flex": null,
            "flex_flow": null,
            "grid_area": null,
            "grid_auto_columns": null,
            "grid_auto_flow": null,
            "grid_auto_rows": null,
            "grid_column": null,
            "grid_gap": null,
            "grid_row": null,
            "grid_template_areas": null,
            "grid_template_columns": null,
            "grid_template_rows": null,
            "height": null,
            "justify_content": null,
            "justify_items": null,
            "left": null,
            "margin": null,
            "max_height": null,
            "max_width": null,
            "min_height": null,
            "min_width": null,
            "object_fit": null,
            "object_position": null,
            "order": null,
            "overflow": null,
            "overflow_x": null,
            "overflow_y": null,
            "padding": null,
            "right": null,
            "top": null,
            "visibility": null,
            "width": null
          }
        },
        "b3eef0bcd0fa4fb79754488d05131f8a": {
          "model_module": "@jupyter-widgets/base",
          "model_name": "LayoutModel",
          "model_module_version": "1.2.0",
          "state": {
            "_model_module": "@jupyter-widgets/base",
            "_model_module_version": "1.2.0",
            "_model_name": "LayoutModel",
            "_view_count": null,
            "_view_module": "@jupyter-widgets/base",
            "_view_module_version": "1.2.0",
            "_view_name": "LayoutView",
            "align_content": null,
            "align_items": null,
            "align_self": null,
            "border": null,
            "bottom": null,
            "display": null,
            "flex": null,
            "flex_flow": null,
            "grid_area": null,
            "grid_auto_columns": null,
            "grid_auto_flow": null,
            "grid_auto_rows": null,
            "grid_column": null,
            "grid_gap": null,
            "grid_row": null,
            "grid_template_areas": null,
            "grid_template_columns": null,
            "grid_template_rows": null,
            "height": null,
            "justify_content": null,
            "justify_items": null,
            "left": null,
            "margin": null,
            "max_height": null,
            "max_width": null,
            "min_height": null,
            "min_width": null,
            "object_fit": null,
            "object_position": null,
            "order": null,
            "overflow": null,
            "overflow_x": null,
            "overflow_y": null,
            "padding": null,
            "right": null,
            "top": null,
            "visibility": null,
            "width": null
          }
        },
        "f666cedd3ffe444bb3809a69f83f22e5": {
          "model_module": "@jupyter-widgets/controls",
          "model_name": "DescriptionStyleModel",
          "model_module_version": "1.5.0",
          "state": {
            "_model_module": "@jupyter-widgets/controls",
            "_model_module_version": "1.5.0",
            "_model_name": "DescriptionStyleModel",
            "_view_count": null,
            "_view_module": "@jupyter-widgets/base",
            "_view_module_version": "1.2.0",
            "_view_name": "StyleView",
            "description_width": ""
          }
        },
        "172270b368864782a77e741379477276": {
          "model_module": "@jupyter-widgets/base",
          "model_name": "LayoutModel",
          "model_module_version": "1.2.0",
          "state": {
            "_model_module": "@jupyter-widgets/base",
            "_model_module_version": "1.2.0",
            "_model_name": "LayoutModel",
            "_view_count": null,
            "_view_module": "@jupyter-widgets/base",
            "_view_module_version": "1.2.0",
            "_view_name": "LayoutView",
            "align_content": null,
            "align_items": null,
            "align_self": null,
            "border": null,
            "bottom": null,
            "display": null,
            "flex": null,
            "flex_flow": null,
            "grid_area": null,
            "grid_auto_columns": null,
            "grid_auto_flow": null,
            "grid_auto_rows": null,
            "grid_column": null,
            "grid_gap": null,
            "grid_row": null,
            "grid_template_areas": null,
            "grid_template_columns": null,
            "grid_template_rows": null,
            "height": null,
            "justify_content": null,
            "justify_items": null,
            "left": null,
            "margin": null,
            "max_height": null,
            "max_width": null,
            "min_height": null,
            "min_width": null,
            "object_fit": null,
            "object_position": null,
            "order": null,
            "overflow": null,
            "overflow_x": null,
            "overflow_y": null,
            "padding": null,
            "right": null,
            "top": null,
            "visibility": null,
            "width": null
          }
        },
        "cdc0a8e58e624847b9ea2434e89ef037": {
          "model_module": "@jupyter-widgets/controls",
          "model_name": "ProgressStyleModel",
          "model_module_version": "1.5.0",
          "state": {
            "_model_module": "@jupyter-widgets/controls",
            "_model_module_version": "1.5.0",
            "_model_name": "ProgressStyleModel",
            "_view_count": null,
            "_view_module": "@jupyter-widgets/base",
            "_view_module_version": "1.2.0",
            "_view_name": "StyleView",
            "bar_color": null,
            "description_width": ""
          }
        },
        "9fcf35145a2642169f402f4f615de977": {
          "model_module": "@jupyter-widgets/base",
          "model_name": "LayoutModel",
          "model_module_version": "1.2.0",
          "state": {
            "_model_module": "@jupyter-widgets/base",
            "_model_module_version": "1.2.0",
            "_model_name": "LayoutModel",
            "_view_count": null,
            "_view_module": "@jupyter-widgets/base",
            "_view_module_version": "1.2.0",
            "_view_name": "LayoutView",
            "align_content": null,
            "align_items": null,
            "align_self": null,
            "border": null,
            "bottom": null,
            "display": null,
            "flex": null,
            "flex_flow": null,
            "grid_area": null,
            "grid_auto_columns": null,
            "grid_auto_flow": null,
            "grid_auto_rows": null,
            "grid_column": null,
            "grid_gap": null,
            "grid_row": null,
            "grid_template_areas": null,
            "grid_template_columns": null,
            "grid_template_rows": null,
            "height": null,
            "justify_content": null,
            "justify_items": null,
            "left": null,
            "margin": null,
            "max_height": null,
            "max_width": null,
            "min_height": null,
            "min_width": null,
            "object_fit": null,
            "object_position": null,
            "order": null,
            "overflow": null,
            "overflow_x": null,
            "overflow_y": null,
            "padding": null,
            "right": null,
            "top": null,
            "visibility": null,
            "width": null
          }
        },
        "c149640780d043c681241ea5f609e3e6": {
          "model_module": "@jupyter-widgets/controls",
          "model_name": "DescriptionStyleModel",
          "model_module_version": "1.5.0",
          "state": {
            "_model_module": "@jupyter-widgets/controls",
            "_model_module_version": "1.5.0",
            "_model_name": "DescriptionStyleModel",
            "_view_count": null,
            "_view_module": "@jupyter-widgets/base",
            "_view_module_version": "1.2.0",
            "_view_name": "StyleView",
            "description_width": ""
          }
        },
        "b443d6b665634c50806ade8b7d5f7592": {
          "model_module": "@jupyter-widgets/controls",
          "model_name": "HBoxModel",
          "model_module_version": "1.5.0",
          "state": {
            "_dom_classes": [],
            "_model_module": "@jupyter-widgets/controls",
            "_model_module_version": "1.5.0",
            "_model_name": "HBoxModel",
            "_view_count": null,
            "_view_module": "@jupyter-widgets/controls",
            "_view_module_version": "1.5.0",
            "_view_name": "HBoxView",
            "box_style": "",
            "children": [
              "IPY_MODEL_9e9635fa7a3d4c7e8152b49f234d9798",
              "IPY_MODEL_5a5eb2ac9fab4f08a531451c20da6831",
              "IPY_MODEL_b35121df053149839537cb4bd56b32dc"
            ],
            "layout": "IPY_MODEL_f07ebc7e5a6e41c2962329070b03034c"
          }
        },
        "9e9635fa7a3d4c7e8152b49f234d9798": {
          "model_module": "@jupyter-widgets/controls",
          "model_name": "HTMLModel",
          "model_module_version": "1.5.0",
          "state": {
            "_dom_classes": [],
            "_model_module": "@jupyter-widgets/controls",
            "_model_module_version": "1.5.0",
            "_model_name": "HTMLModel",
            "_view_count": null,
            "_view_module": "@jupyter-widgets/controls",
            "_view_module_version": "1.5.0",
            "_view_name": "HTMLView",
            "description": "",
            "description_tooltip": null,
            "layout": "IPY_MODEL_b7c23d3083cc445b96475478c1843f96",
            "placeholder": "​",
            "style": "IPY_MODEL_ed17fdca417941fd9f3265c0a9d8f6c5",
            "value": "Map: 100%"
          }
        },
        "5a5eb2ac9fab4f08a531451c20da6831": {
          "model_module": "@jupyter-widgets/controls",
          "model_name": "FloatProgressModel",
          "model_module_version": "1.5.0",
          "state": {
            "_dom_classes": [],
            "_model_module": "@jupyter-widgets/controls",
            "_model_module_version": "1.5.0",
            "_model_name": "FloatProgressModel",
            "_view_count": null,
            "_view_module": "@jupyter-widgets/controls",
            "_view_module_version": "1.5.0",
            "_view_name": "ProgressView",
            "bar_style": "success",
            "description": "",
            "description_tooltip": null,
            "layout": "IPY_MODEL_8d6f014e99234c1695b630c508f32880",
            "max": 6250,
            "min": 0,
            "orientation": "horizontal",
            "style": "IPY_MODEL_02ae32af33f6410ea07006ef932ea8f6",
            "value": 6250
          }
        },
        "b35121df053149839537cb4bd56b32dc": {
          "model_module": "@jupyter-widgets/controls",
          "model_name": "HTMLModel",
          "model_module_version": "1.5.0",
          "state": {
            "_dom_classes": [],
            "_model_module": "@jupyter-widgets/controls",
            "_model_module_version": "1.5.0",
            "_model_name": "HTMLModel",
            "_view_count": null,
            "_view_module": "@jupyter-widgets/controls",
            "_view_module_version": "1.5.0",
            "_view_name": "HTMLView",
            "description": "",
            "description_tooltip": null,
            "layout": "IPY_MODEL_6bfae41490b84cc7b91e4bbb1ce85a2c",
            "placeholder": "​",
            "style": "IPY_MODEL_bbc3aad5474a4f4991d827f8678ce4e2",
            "value": " 6250/6250 [00:03&lt;00:00, 1253.22 examples/s]"
          }
        },
        "f07ebc7e5a6e41c2962329070b03034c": {
          "model_module": "@jupyter-widgets/base",
          "model_name": "LayoutModel",
          "model_module_version": "1.2.0",
          "state": {
            "_model_module": "@jupyter-widgets/base",
            "_model_module_version": "1.2.0",
            "_model_name": "LayoutModel",
            "_view_count": null,
            "_view_module": "@jupyter-widgets/base",
            "_view_module_version": "1.2.0",
            "_view_name": "LayoutView",
            "align_content": null,
            "align_items": null,
            "align_self": null,
            "border": null,
            "bottom": null,
            "display": null,
            "flex": null,
            "flex_flow": null,
            "grid_area": null,
            "grid_auto_columns": null,
            "grid_auto_flow": null,
            "grid_auto_rows": null,
            "grid_column": null,
            "grid_gap": null,
            "grid_row": null,
            "grid_template_areas": null,
            "grid_template_columns": null,
            "grid_template_rows": null,
            "height": null,
            "justify_content": null,
            "justify_items": null,
            "left": null,
            "margin": null,
            "max_height": null,
            "max_width": null,
            "min_height": null,
            "min_width": null,
            "object_fit": null,
            "object_position": null,
            "order": null,
            "overflow": null,
            "overflow_x": null,
            "overflow_y": null,
            "padding": null,
            "right": null,
            "top": null,
            "visibility": null,
            "width": null
          }
        },
        "b7c23d3083cc445b96475478c1843f96": {
          "model_module": "@jupyter-widgets/base",
          "model_name": "LayoutModel",
          "model_module_version": "1.2.0",
          "state": {
            "_model_module": "@jupyter-widgets/base",
            "_model_module_version": "1.2.0",
            "_model_name": "LayoutModel",
            "_view_count": null,
            "_view_module": "@jupyter-widgets/base",
            "_view_module_version": "1.2.0",
            "_view_name": "LayoutView",
            "align_content": null,
            "align_items": null,
            "align_self": null,
            "border": null,
            "bottom": null,
            "display": null,
            "flex": null,
            "flex_flow": null,
            "grid_area": null,
            "grid_auto_columns": null,
            "grid_auto_flow": null,
            "grid_auto_rows": null,
            "grid_column": null,
            "grid_gap": null,
            "grid_row": null,
            "grid_template_areas": null,
            "grid_template_columns": null,
            "grid_template_rows": null,
            "height": null,
            "justify_content": null,
            "justify_items": null,
            "left": null,
            "margin": null,
            "max_height": null,
            "max_width": null,
            "min_height": null,
            "min_width": null,
            "object_fit": null,
            "object_position": null,
            "order": null,
            "overflow": null,
            "overflow_x": null,
            "overflow_y": null,
            "padding": null,
            "right": null,
            "top": null,
            "visibility": null,
            "width": null
          }
        },
        "ed17fdca417941fd9f3265c0a9d8f6c5": {
          "model_module": "@jupyter-widgets/controls",
          "model_name": "DescriptionStyleModel",
          "model_module_version": "1.5.0",
          "state": {
            "_model_module": "@jupyter-widgets/controls",
            "_model_module_version": "1.5.0",
            "_model_name": "DescriptionStyleModel",
            "_view_count": null,
            "_view_module": "@jupyter-widgets/base",
            "_view_module_version": "1.2.0",
            "_view_name": "StyleView",
            "description_width": ""
          }
        },
        "8d6f014e99234c1695b630c508f32880": {
          "model_module": "@jupyter-widgets/base",
          "model_name": "LayoutModel",
          "model_module_version": "1.2.0",
          "state": {
            "_model_module": "@jupyter-widgets/base",
            "_model_module_version": "1.2.0",
            "_model_name": "LayoutModel",
            "_view_count": null,
            "_view_module": "@jupyter-widgets/base",
            "_view_module_version": "1.2.0",
            "_view_name": "LayoutView",
            "align_content": null,
            "align_items": null,
            "align_self": null,
            "border": null,
            "bottom": null,
            "display": null,
            "flex": null,
            "flex_flow": null,
            "grid_area": null,
            "grid_auto_columns": null,
            "grid_auto_flow": null,
            "grid_auto_rows": null,
            "grid_column": null,
            "grid_gap": null,
            "grid_row": null,
            "grid_template_areas": null,
            "grid_template_columns": null,
            "grid_template_rows": null,
            "height": null,
            "justify_content": null,
            "justify_items": null,
            "left": null,
            "margin": null,
            "max_height": null,
            "max_width": null,
            "min_height": null,
            "min_width": null,
            "object_fit": null,
            "object_position": null,
            "order": null,
            "overflow": null,
            "overflow_x": null,
            "overflow_y": null,
            "padding": null,
            "right": null,
            "top": null,
            "visibility": null,
            "width": null
          }
        },
        "02ae32af33f6410ea07006ef932ea8f6": {
          "model_module": "@jupyter-widgets/controls",
          "model_name": "ProgressStyleModel",
          "model_module_version": "1.5.0",
          "state": {
            "_model_module": "@jupyter-widgets/controls",
            "_model_module_version": "1.5.0",
            "_model_name": "ProgressStyleModel",
            "_view_count": null,
            "_view_module": "@jupyter-widgets/base",
            "_view_module_version": "1.2.0",
            "_view_name": "StyleView",
            "bar_color": null,
            "description_width": ""
          }
        },
        "6bfae41490b84cc7b91e4bbb1ce85a2c": {
          "model_module": "@jupyter-widgets/base",
          "model_name": "LayoutModel",
          "model_module_version": "1.2.0",
          "state": {
            "_model_module": "@jupyter-widgets/base",
            "_model_module_version": "1.2.0",
            "_model_name": "LayoutModel",
            "_view_count": null,
            "_view_module": "@jupyter-widgets/base",
            "_view_module_version": "1.2.0",
            "_view_name": "LayoutView",
            "align_content": null,
            "align_items": null,
            "align_self": null,
            "border": null,
            "bottom": null,
            "display": null,
            "flex": null,
            "flex_flow": null,
            "grid_area": null,
            "grid_auto_columns": null,
            "grid_auto_flow": null,
            "grid_auto_rows": null,
            "grid_column": null,
            "grid_gap": null,
            "grid_row": null,
            "grid_template_areas": null,
            "grid_template_columns": null,
            "grid_template_rows": null,
            "height": null,
            "justify_content": null,
            "justify_items": null,
            "left": null,
            "margin": null,
            "max_height": null,
            "max_width": null,
            "min_height": null,
            "min_width": null,
            "object_fit": null,
            "object_position": null,
            "order": null,
            "overflow": null,
            "overflow_x": null,
            "overflow_y": null,
            "padding": null,
            "right": null,
            "top": null,
            "visibility": null,
            "width": null
          }
        },
        "bbc3aad5474a4f4991d827f8678ce4e2": {
          "model_module": "@jupyter-widgets/controls",
          "model_name": "DescriptionStyleModel",
          "model_module_version": "1.5.0",
          "state": {
            "_model_module": "@jupyter-widgets/controls",
            "_model_module_version": "1.5.0",
            "_model_name": "DescriptionStyleModel",
            "_view_count": null,
            "_view_module": "@jupyter-widgets/base",
            "_view_module_version": "1.2.0",
            "_view_name": "StyleView",
            "description_width": ""
          }
        },
        "4d95c2bdec9b4da0b4c0dc89d3bb960d": {
          "model_module": "@jupyter-widgets/controls",
          "model_name": "HBoxModel",
          "model_module_version": "1.5.0",
          "state": {
            "_dom_classes": [],
            "_model_module": "@jupyter-widgets/controls",
            "_model_module_version": "1.5.0",
            "_model_name": "HBoxModel",
            "_view_count": null,
            "_view_module": "@jupyter-widgets/controls",
            "_view_module_version": "1.5.0",
            "_view_name": "HBoxView",
            "box_style": "",
            "children": [
              "IPY_MODEL_a98f6bfeb76c4a98bab3ea9ff90be2b0",
              "IPY_MODEL_5f2a90841e144b75a1f361b99a82067a",
              "IPY_MODEL_1bf668b9cabc4c1d8b24324d5070c35a"
            ],
            "layout": "IPY_MODEL_973553ffc23a4d4fbcaef281b1cd6551"
          }
        },
        "a98f6bfeb76c4a98bab3ea9ff90be2b0": {
          "model_module": "@jupyter-widgets/controls",
          "model_name": "HTMLModel",
          "model_module_version": "1.5.0",
          "state": {
            "_dom_classes": [],
            "_model_module": "@jupyter-widgets/controls",
            "_model_module_version": "1.5.0",
            "_model_name": "HTMLModel",
            "_view_count": null,
            "_view_module": "@jupyter-widgets/controls",
            "_view_module_version": "1.5.0",
            "_view_name": "HTMLView",
            "description": "",
            "description_tooltip": null,
            "layout": "IPY_MODEL_24ab54acac1d44aa81633e5f7413ac52",
            "placeholder": "​",
            "style": "IPY_MODEL_88e70ca67c4e44979c4dc129aa3abe24",
            "value": "Map: 100%"
          }
        },
        "5f2a90841e144b75a1f361b99a82067a": {
          "model_module": "@jupyter-widgets/controls",
          "model_name": "FloatProgressModel",
          "model_module_version": "1.5.0",
          "state": {
            "_dom_classes": [],
            "_model_module": "@jupyter-widgets/controls",
            "_model_module_version": "1.5.0",
            "_model_name": "FloatProgressModel",
            "_view_count": null,
            "_view_module": "@jupyter-widgets/controls",
            "_view_module_version": "1.5.0",
            "_view_name": "ProgressView",
            "bar_style": "success",
            "description": "",
            "description_tooltip": null,
            "layout": "IPY_MODEL_7b64fcf5eec64ac2b0ecf3a8252a2a74",
            "max": 25000,
            "min": 0,
            "orientation": "horizontal",
            "style": "IPY_MODEL_7d08520ec80b479488c8bdc54fb98931",
            "value": 25000
          }
        },
        "1bf668b9cabc4c1d8b24324d5070c35a": {
          "model_module": "@jupyter-widgets/controls",
          "model_name": "HTMLModel",
          "model_module_version": "1.5.0",
          "state": {
            "_dom_classes": [],
            "_model_module": "@jupyter-widgets/controls",
            "_model_module_version": "1.5.0",
            "_model_name": "HTMLModel",
            "_view_count": null,
            "_view_module": "@jupyter-widgets/controls",
            "_view_module_version": "1.5.0",
            "_view_name": "HTMLView",
            "description": "",
            "description_tooltip": null,
            "layout": "IPY_MODEL_68d32c7df5ba49ec8f00edc086d936c7",
            "placeholder": "​",
            "style": "IPY_MODEL_3f1588e8f0c04842bd8db3f0ebbf4302",
            "value": " 25000/25000 [00:11&lt;00:00, 2690.24 examples/s]"
          }
        },
        "973553ffc23a4d4fbcaef281b1cd6551": {
          "model_module": "@jupyter-widgets/base",
          "model_name": "LayoutModel",
          "model_module_version": "1.2.0",
          "state": {
            "_model_module": "@jupyter-widgets/base",
            "_model_module_version": "1.2.0",
            "_model_name": "LayoutModel",
            "_view_count": null,
            "_view_module": "@jupyter-widgets/base",
            "_view_module_version": "1.2.0",
            "_view_name": "LayoutView",
            "align_content": null,
            "align_items": null,
            "align_self": null,
            "border": null,
            "bottom": null,
            "display": null,
            "flex": null,
            "flex_flow": null,
            "grid_area": null,
            "grid_auto_columns": null,
            "grid_auto_flow": null,
            "grid_auto_rows": null,
            "grid_column": null,
            "grid_gap": null,
            "grid_row": null,
            "grid_template_areas": null,
            "grid_template_columns": null,
            "grid_template_rows": null,
            "height": null,
            "justify_content": null,
            "justify_items": null,
            "left": null,
            "margin": null,
            "max_height": null,
            "max_width": null,
            "min_height": null,
            "min_width": null,
            "object_fit": null,
            "object_position": null,
            "order": null,
            "overflow": null,
            "overflow_x": null,
            "overflow_y": null,
            "padding": null,
            "right": null,
            "top": null,
            "visibility": null,
            "width": null
          }
        },
        "24ab54acac1d44aa81633e5f7413ac52": {
          "model_module": "@jupyter-widgets/base",
          "model_name": "LayoutModel",
          "model_module_version": "1.2.0",
          "state": {
            "_model_module": "@jupyter-widgets/base",
            "_model_module_version": "1.2.0",
            "_model_name": "LayoutModel",
            "_view_count": null,
            "_view_module": "@jupyter-widgets/base",
            "_view_module_version": "1.2.0",
            "_view_name": "LayoutView",
            "align_content": null,
            "align_items": null,
            "align_self": null,
            "border": null,
            "bottom": null,
            "display": null,
            "flex": null,
            "flex_flow": null,
            "grid_area": null,
            "grid_auto_columns": null,
            "grid_auto_flow": null,
            "grid_auto_rows": null,
            "grid_column": null,
            "grid_gap": null,
            "grid_row": null,
            "grid_template_areas": null,
            "grid_template_columns": null,
            "grid_template_rows": null,
            "height": null,
            "justify_content": null,
            "justify_items": null,
            "left": null,
            "margin": null,
            "max_height": null,
            "max_width": null,
            "min_height": null,
            "min_width": null,
            "object_fit": null,
            "object_position": null,
            "order": null,
            "overflow": null,
            "overflow_x": null,
            "overflow_y": null,
            "padding": null,
            "right": null,
            "top": null,
            "visibility": null,
            "width": null
          }
        },
        "88e70ca67c4e44979c4dc129aa3abe24": {
          "model_module": "@jupyter-widgets/controls",
          "model_name": "DescriptionStyleModel",
          "model_module_version": "1.5.0",
          "state": {
            "_model_module": "@jupyter-widgets/controls",
            "_model_module_version": "1.5.0",
            "_model_name": "DescriptionStyleModel",
            "_view_count": null,
            "_view_module": "@jupyter-widgets/base",
            "_view_module_version": "1.2.0",
            "_view_name": "StyleView",
            "description_width": ""
          }
        },
        "7b64fcf5eec64ac2b0ecf3a8252a2a74": {
          "model_module": "@jupyter-widgets/base",
          "model_name": "LayoutModel",
          "model_module_version": "1.2.0",
          "state": {
            "_model_module": "@jupyter-widgets/base",
            "_model_module_version": "1.2.0",
            "_model_name": "LayoutModel",
            "_view_count": null,
            "_view_module": "@jupyter-widgets/base",
            "_view_module_version": "1.2.0",
            "_view_name": "LayoutView",
            "align_content": null,
            "align_items": null,
            "align_self": null,
            "border": null,
            "bottom": null,
            "display": null,
            "flex": null,
            "flex_flow": null,
            "grid_area": null,
            "grid_auto_columns": null,
            "grid_auto_flow": null,
            "grid_auto_rows": null,
            "grid_column": null,
            "grid_gap": null,
            "grid_row": null,
            "grid_template_areas": null,
            "grid_template_columns": null,
            "grid_template_rows": null,
            "height": null,
            "justify_content": null,
            "justify_items": null,
            "left": null,
            "margin": null,
            "max_height": null,
            "max_width": null,
            "min_height": null,
            "min_width": null,
            "object_fit": null,
            "object_position": null,
            "order": null,
            "overflow": null,
            "overflow_x": null,
            "overflow_y": null,
            "padding": null,
            "right": null,
            "top": null,
            "visibility": null,
            "width": null
          }
        },
        "7d08520ec80b479488c8bdc54fb98931": {
          "model_module": "@jupyter-widgets/controls",
          "model_name": "ProgressStyleModel",
          "model_module_version": "1.5.0",
          "state": {
            "_model_module": "@jupyter-widgets/controls",
            "_model_module_version": "1.5.0",
            "_model_name": "ProgressStyleModel",
            "_view_count": null,
            "_view_module": "@jupyter-widgets/base",
            "_view_module_version": "1.2.0",
            "_view_name": "StyleView",
            "bar_color": null,
            "description_width": ""
          }
        },
        "68d32c7df5ba49ec8f00edc086d936c7": {
          "model_module": "@jupyter-widgets/base",
          "model_name": "LayoutModel",
          "model_module_version": "1.2.0",
          "state": {
            "_model_module": "@jupyter-widgets/base",
            "_model_module_version": "1.2.0",
            "_model_name": "LayoutModel",
            "_view_count": null,
            "_view_module": "@jupyter-widgets/base",
            "_view_module_version": "1.2.0",
            "_view_name": "LayoutView",
            "align_content": null,
            "align_items": null,
            "align_self": null,
            "border": null,
            "bottom": null,
            "display": null,
            "flex": null,
            "flex_flow": null,
            "grid_area": null,
            "grid_auto_columns": null,
            "grid_auto_flow": null,
            "grid_auto_rows": null,
            "grid_column": null,
            "grid_gap": null,
            "grid_row": null,
            "grid_template_areas": null,
            "grid_template_columns": null,
            "grid_template_rows": null,
            "height": null,
            "justify_content": null,
            "justify_items": null,
            "left": null,
            "margin": null,
            "max_height": null,
            "max_width": null,
            "min_height": null,
            "min_width": null,
            "object_fit": null,
            "object_position": null,
            "order": null,
            "overflow": null,
            "overflow_x": null,
            "overflow_y": null,
            "padding": null,
            "right": null,
            "top": null,
            "visibility": null,
            "width": null
          }
        },
        "3f1588e8f0c04842bd8db3f0ebbf4302": {
          "model_module": "@jupyter-widgets/controls",
          "model_name": "DescriptionStyleModel",
          "model_module_version": "1.5.0",
          "state": {
            "_model_module": "@jupyter-widgets/controls",
            "_model_module_version": "1.5.0",
            "_model_name": "DescriptionStyleModel",
            "_view_count": null,
            "_view_module": "@jupyter-widgets/base",
            "_view_module_version": "1.2.0",
            "_view_name": "StyleView",
            "description_width": ""
          }
>>>>>>> b004a0cb2f013d9277d72b38f2a3b25e6bb3c246
        }
      }
    }
  },
  "nbformat": 4,
  "nbformat_minor": 0
<<<<<<< HEAD
}
=======
}
>>>>>>> b004a0cb2f013d9277d72b38f2a3b25e6bb3c246
